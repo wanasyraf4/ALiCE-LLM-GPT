{
  "nbformat": 4,
  "nbformat_minor": 0,
  "metadata": {
    "colab": {
      "provenance": [],
      "authorship_tag": "ABX9TyO/14YvE2LZMdzKTBoUktNR",
      "include_colab_link": true
    },
    "kernelspec": {
      "name": "python3",
      "display_name": "Python 3"
    },
    "language_info": {
      "name": "python"
    },
    "accelerator": "GPU",
    "gpuClass": "standard",
    "widgets": {
      "application/vnd.jupyter.widget-state+json": {
        "c063b7d5588a4783b39d2b508e5cea1f": {
          "model_module": "@jupyter-widgets/controls",
          "model_name": "TabModel",
          "model_module_version": "1.5.0",
          "state": {
            "_dom_classes": [],
            "_model_module": "@jupyter-widgets/controls",
            "_model_module_version": "1.5.0",
            "_model_name": "TabModel",
            "_titles": {
              "0": "Chat",
              "1": "Prompt"
            },
            "_view_count": null,
            "_view_module": "@jupyter-widgets/controls",
            "_view_module_version": "1.5.0",
            "_view_name": "TabView",
            "box_style": "",
            "children": [
              "IPY_MODEL_acf39024b0bb4fb38e365c69f8127279",
              "IPY_MODEL_9fbb3e85c1104cae91380b0154e01f69"
            ],
            "layout": "IPY_MODEL_6a6c9300e3b1443fa5d2dd9b85d0006a",
            "selected_index": 0
          }
        },
        "acf39024b0bb4fb38e365c69f8127279": {
          "model_module": "@jupyter-widgets/controls",
          "model_name": "GridBoxModel",
          "model_module_version": "1.5.0",
          "state": {
            "_dom_classes": [],
            "_model_module": "@jupyter-widgets/controls",
            "_model_module_version": "1.5.0",
            "_model_name": "GridBoxModel",
            "_view_count": null,
            "_view_module": "@jupyter-widgets/controls",
            "_view_module_version": "1.5.0",
            "_view_name": "GridBoxView",
            "box_style": "",
            "children": [
              "IPY_MODEL_6e6d9e8851094de09e451ba963fc2e33",
              "IPY_MODEL_f67f53a736a14e95991abf426ede77e8",
              "IPY_MODEL_f1d0d820af6b4a95a7f67e79efb3c8ba"
            ],
            "layout": "IPY_MODEL_c2df9a5a52e04375a5c039346c35b873"
          }
        },
        "9fbb3e85c1104cae91380b0154e01f69": {
          "model_module": "@jupyter-widgets/controls",
          "model_name": "GridBoxModel",
          "model_module_version": "1.5.0",
          "state": {
            "_dom_classes": [],
            "_model_module": "@jupyter-widgets/controls",
            "_model_module_version": "1.5.0",
            "_model_name": "GridBoxModel",
            "_view_count": null,
            "_view_module": "@jupyter-widgets/controls",
            "_view_module_version": "1.5.0",
            "_view_name": "GridBoxView",
            "box_style": "",
            "children": [
              "IPY_MODEL_9fdf34b253be461fb62040f0f6c80da1",
              "IPY_MODEL_9521ab97b8904606b6864172d6cf9454",
              "IPY_MODEL_fa6372e36cca449da3c6de3ffd766bf9",
              "IPY_MODEL_2863b53934444940bb235354cfde215d"
            ],
            "layout": "IPY_MODEL_7ecddd9337e6490a82801bb36aec8643"
          }
        },
        "6a6c9300e3b1443fa5d2dd9b85d0006a": {
          "model_module": "@jupyter-widgets/base",
          "model_name": "LayoutModel",
          "model_module_version": "1.2.0",
          "state": {
            "_model_module": "@jupyter-widgets/base",
            "_model_module_version": "1.2.0",
            "_model_name": "LayoutModel",
            "_view_count": null,
            "_view_module": "@jupyter-widgets/base",
            "_view_module_version": "1.2.0",
            "_view_name": "LayoutView",
            "align_content": null,
            "align_items": null,
            "align_self": null,
            "border": null,
            "bottom": null,
            "display": null,
            "flex": null,
            "flex_flow": null,
            "grid_area": null,
            "grid_auto_columns": null,
            "grid_auto_flow": null,
            "grid_auto_rows": null,
            "grid_column": null,
            "grid_gap": null,
            "grid_row": null,
            "grid_template_areas": null,
            "grid_template_columns": null,
            "grid_template_rows": null,
            "height": null,
            "justify_content": null,
            "justify_items": null,
            "left": null,
            "margin": null,
            "max_height": null,
            "max_width": null,
            "min_height": null,
            "min_width": null,
            "object_fit": null,
            "object_position": null,
            "order": null,
            "overflow": null,
            "overflow_x": null,
            "overflow_y": null,
            "padding": null,
            "right": null,
            "top": null,
            "visibility": null,
            "width": null
          }
        },
        "6e6d9e8851094de09e451ba963fc2e33": {
          "model_module": "@jupyter-widgets/controls",
          "model_name": "TextModel",
          "model_module_version": "1.5.0",
          "state": {
            "_dom_classes": [],
            "_model_module": "@jupyter-widgets/controls",
            "_model_module_version": "1.5.0",
            "_model_name": "TextModel",
            "_view_count": null,
            "_view_module": "@jupyter-widgets/controls",
            "_view_module_version": "1.5.0",
            "_view_name": "TextView",
            "continuous_update": true,
            "description": "Human:",
            "description_tooltip": null,
            "disabled": false,
            "layout": "IPY_MODEL_db3bbf6071244434b33486e86fd542d3",
            "placeholder": "Start chatting by typing here",
            "style": "IPY_MODEL_e7e012012d5e4d4f9e26dec4b885ac45",
            "value": "Gday, what is ur name"
          }
        },
        "f67f53a736a14e95991abf426ede77e8": {
          "model_module": "@jupyter-widgets/controls",
          "model_name": "ButtonModel",
          "model_module_version": "1.5.0",
          "state": {
            "_dom_classes": [],
            "_model_module": "@jupyter-widgets/controls",
            "_model_module_version": "1.5.0",
            "_model_name": "ButtonModel",
            "_view_count": null,
            "_view_module": "@jupyter-widgets/controls",
            "_view_module_version": "1.5.0",
            "_view_name": "ButtonView",
            "button_style": "",
            "description": "▶️ Send Message",
            "disabled": false,
            "icon": "",
            "layout": "IPY_MODEL_91d4026d0cb94c94bfe4831aa90be37d",
            "style": "IPY_MODEL_231b5f501a3e4ab385c6105affe93aee",
            "tooltip": "Send Message"
          }
        },
        "f1d0d820af6b4a95a7f67e79efb3c8ba": {
          "model_module": "@jupyter-widgets/controls",
          "model_name": "TextareaModel",
          "model_module_version": "1.5.0",
          "state": {
            "_dom_classes": [],
            "_model_module": "@jupyter-widgets/controls",
            "_model_module_version": "1.5.0",
            "_model_name": "TextareaModel",
            "_view_count": null,
            "_view_module": "@jupyter-widgets/controls",
            "_view_module_version": "1.5.0",
            "_view_name": "TextareaView",
            "continuous_update": true,
            "description": "ALiCE:",
            "description_tooltip": null,
            "disabled": true,
            "layout": "IPY_MODEL_d4855c7148a64199ac83b81968743723",
            "placeholder": "Hi, please talk to me :D",
            "rows": null,
            "style": "IPY_MODEL_0245c1e282054760bfdee3fdfd63cc2c",
            "value": "Human: Gday, what is ur name\nALiCE: I'm ALiCE, a human friendly sentient chatbot."
          }
        },
        "c2df9a5a52e04375a5c039346c35b873": {
          "model_module": "@jupyter-widgets/base",
          "model_name": "LayoutModel",
          "model_module_version": "1.2.0",
          "state": {
            "_model_module": "@jupyter-widgets/base",
            "_model_module_version": "1.2.0",
            "_model_name": "LayoutModel",
            "_view_count": null,
            "_view_module": "@jupyter-widgets/base",
            "_view_module_version": "1.2.0",
            "_view_name": "LayoutView",
            "align_content": null,
            "align_items": null,
            "align_self": null,
            "border": null,
            "bottom": null,
            "display": null,
            "flex": null,
            "flex_flow": null,
            "grid_area": null,
            "grid_auto_columns": null,
            "grid_auto_flow": null,
            "grid_auto_rows": null,
            "grid_column": null,
            "grid_gap": null,
            "grid_row": null,
            "grid_template_areas": "\"widget001 widget001 widget001 widget001 widget001 widget001 widget001 widget001 widget001 widget001 widget001 widget001 widget001 widget001 widget001 widget001 widget001 widget001 widget001 widget001 widget001 widget001 widget001 widget001 widget001 widget001 widget001 widget001 widget001 widget001 widget001 widget001 widget001 widget001 widget001 widget001 widget001 widget001 widget001 widget001 widget001 widget001 widget001 widget001 widget001 widget001 widget001 widget001 widget001 widget001 widget001 widget001 widget001 widget001 widget001 widget001 widget001 widget001 widget001 widget001 widget001 widget001 widget001 widget001 widget001 widget001 widget001 widget001 widget001 widget001 widget001 widget001 widget001 widget001 widget001 widget001 widget001 widget001 widget001 widget001 widget001 widget001 widget001 widget001 widget001 widget001 widget001 widget001 widget001 widget001 widget001 widget001 widget001 widget001 widget001 widget001 widget001 widget001 widget001 widget001\"\n\"widget001 widget001 widget001 widget001 widget001 widget001 widget001 widget001 widget001 widget001 widget001 widget001 widget001 widget001 widget001 widget001 widget001 widget001 widget001 widget001 widget001 widget001 widget001 widget001 widget001 widget001 widget001 widget001 widget001 widget001 widget001 widget001 widget001 widget001 widget001 widget001 widget001 widget001 widget001 widget001 widget001 widget001 widget001 widget001 widget001 widget001 widget001 widget001 widget001 widget001 widget001 widget001 widget001 widget001 widget001 widget001 widget001 widget001 widget001 widget001 widget001 widget001 widget001 widget001 widget001 widget001 widget001 widget001 widget001 widget001 widget001 widget001 widget001 widget001 widget001 widget001 widget001 widget001 widget001 widget001 widget001 widget001 widget001 widget001 widget001 widget001 widget001 widget001 widget001 widget001 widget001 widget001 widget001 widget001 widget001 widget001 widget001 widget001 widget001 widget001\"\n\"widget001 widget001 widget001 widget001 widget001 widget001 widget001 widget001 widget001 widget001 widget001 widget001 widget001 widget001 widget001 widget001 widget001 widget001 widget001 widget001 widget001 widget001 widget001 widget001 widget001 widget001 widget001 widget001 widget001 widget001 widget001 widget001 widget001 widget001 widget001 widget001 widget001 widget001 widget001 widget001 widget001 widget001 widget001 widget001 widget001 widget001 widget001 widget001 widget001 widget001 widget001 widget001 widget001 widget001 widget001 widget001 widget001 widget001 widget001 widget001 widget001 widget001 widget001 widget001 widget001 widget001 widget001 widget001 widget001 widget001 widget001 widget001 widget001 widget001 widget001 widget001 widget001 widget001 widget001 widget001 widget001 widget001 widget001 widget001 widget001 widget001 widget001 widget001 widget001 widget001 widget001 widget001 widget001 widget001 widget001 widget001 widget001 widget001 widget001 widget001\"\n\"widget001 widget001 widget001 widget001 widget001 widget001 widget001 widget001 widget001 widget001 widget001 widget001 widget001 widget001 widget001 widget001 widget001 widget001 widget001 widget001 widget001 widget001 widget001 widget001 widget001 widget001 widget001 widget001 widget001 widget001 widget001 widget001 widget001 widget001 widget001 widget001 widget001 widget001 widget001 widget001 widget001 widget001 widget001 widget001 widget001 widget001 widget001 widget001 widget001 widget001 widget001 widget001 widget001 widget001 widget001 widget001 widget001 widget001 widget001 widget001 widget001 widget001 widget001 widget001 widget001 widget001 widget001 widget001 widget001 widget001 widget001 widget001 widget001 widget001 widget001 widget001 widget001 widget001 widget001 widget001 widget001 widget001 widget001 widget001 widget001 widget001 widget001 widget001 widget001 widget001 widget001 widget001 widget001 widget001 widget001 widget001 widget001 widget001 widget001 widget001\"\n\"widget002 widget002 widget002 widget002 widget002 widget002 widget002 widget002 widget002 widget002 widget002 widget002 widget002 widget002 widget002 widget002 widget002 widget002 widget002 widget002 widget002 widget002 widget002 widget002 widget002 widget002 widget002 widget002 widget002 widget002 widget002 widget002 widget002 widget002 widget002 widget002 widget002 widget002 widget002 widget002 widget002 widget002 widget002 widget002 widget002 widget002 widget002 widget002 widget002 widget002 widget002 widget002 widget002 widget002 widget002 widget002 widget002 widget002 widget002 widget002 widget002 widget002 widget002 widget002 widget002 widget002 widget002 widget002 widget002 widget002 widget002 widget002 widget002 widget002 widget002 widget002 widget002 widget002 widget002 widget002 widget002 widget002 widget002 widget002 widget002 widget002 widget002 widget002 widget002 widget002 widget002 widget002 widget002 widget002 widget002 widget002 widget002 widget002 widget002 widget002\"\n\"widget002 widget002 widget002 widget002 widget002 widget002 widget002 widget002 widget002 widget002 widget002 widget002 widget002 widget002 widget002 widget002 widget002 widget002 widget002 widget002 widget002 widget002 widget002 widget002 widget002 widget002 widget002 widget002 widget002 widget002 widget002 widget002 widget002 widget002 widget002 widget002 widget002 widget002 widget002 widget002 widget002 widget002 widget002 widget002 widget002 widget002 widget002 widget002 widget002 widget002 widget002 widget002 widget002 widget002 widget002 widget002 widget002 widget002 widget002 widget002 widget002 widget002 widget002 widget002 widget002 widget002 widget002 widget002 widget002 widget002 widget002 widget002 widget002 widget002 widget002 widget002 widget002 widget002 widget002 widget002 widget002 widget002 widget002 widget002 widget002 widget002 widget002 widget002 widget002 widget002 widget002 widget002 widget002 widget002 widget002 widget002 widget002 widget002 widget002 widget002\"\n\"widget002 widget002 widget002 widget002 widget002 widget002 widget002 widget002 widget002 widget002 widget002 widget002 widget002 widget002 widget002 widget002 widget002 widget002 widget002 widget002 widget002 widget002 widget002 widget002 widget002 widget002 widget002 widget002 widget002 widget002 widget002 widget002 widget002 widget002 widget002 widget002 widget002 widget002 widget002 widget002 widget002 widget002 widget002 widget002 widget002 widget002 widget002 widget002 widget002 widget002 widget002 widget002 widget002 widget002 widget002 widget002 widget002 widget002 widget002 widget002 widget002 widget002 widget002 widget002 widget002 widget002 widget002 widget002 widget002 widget002 widget002 widget002 widget002 widget002 widget002 widget002 widget002 widget002 widget002 widget002 widget002 widget002 widget002 widget002 widget002 widget002 widget002 widget002 widget002 widget002 widget002 widget002 widget002 widget002 widget002 widget002 widget002 widget002 widget002 widget002\"\n\"widget002 widget002 widget002 widget002 widget002 widget002 widget002 widget002 widget002 widget002 widget002 widget002 widget002 widget002 widget002 widget002 widget002 widget002 widget002 widget002 widget002 widget002 widget002 widget002 widget002 widget002 widget002 widget002 widget002 widget002 widget002 widget002 widget002 widget002 widget002 widget002 widget002 widget002 widget002 widget002 widget002 widget002 widget002 widget002 widget002 widget002 widget002 widget002 widget002 widget002 widget002 widget002 widget002 widget002 widget002 widget002 widget002 widget002 widget002 widget002 widget002 widget002 widget002 widget002 widget002 widget002 widget002 widget002 widget002 widget002 widget002 widget002 widget002 widget002 widget002 widget002 widget002 widget002 widget002 widget002 widget002 widget002 widget002 widget002 widget002 widget002 widget002 widget002 widget002 widget002 widget002 widget002 widget002 widget002 widget002 widget002 widget002 widget002 widget002 widget002\"\n\"widget003 widget003 widget003 widget003 widget003 widget003 widget003 widget003 widget003 widget003 widget003 widget003 widget003 widget003 widget003 widget003 widget003 widget003 widget003 widget003 widget003 widget003 widget003 widget003 widget003 widget003 widget003 widget003 widget003 widget003 widget003 widget003 widget003 widget003 widget003 widget003 widget003 widget003 widget003 widget003 widget003 widget003 widget003 widget003 widget003 widget003 widget003 widget003 widget003 widget003 widget003 widget003 widget003 widget003 widget003 widget003 widget003 widget003 widget003 widget003 widget003 widget003 widget003 widget003 widget003 widget003 widget003 widget003 widget003 widget003 widget003 widget003 widget003 widget003 widget003 widget003 widget003 widget003 widget003 widget003 widget003 widget003 widget003 widget003 widget003 widget003 widget003 widget003 widget003 widget003 widget003 widget003 widget003 widget003 widget003 widget003 widget003 widget003 widget003 widget003\"\n\"widget003 widget003 widget003 widget003 widget003 widget003 widget003 widget003 widget003 widget003 widget003 widget003 widget003 widget003 widget003 widget003 widget003 widget003 widget003 widget003 widget003 widget003 widget003 widget003 widget003 widget003 widget003 widget003 widget003 widget003 widget003 widget003 widget003 widget003 widget003 widget003 widget003 widget003 widget003 widget003 widget003 widget003 widget003 widget003 widget003 widget003 widget003 widget003 widget003 widget003 widget003 widget003 widget003 widget003 widget003 widget003 widget003 widget003 widget003 widget003 widget003 widget003 widget003 widget003 widget003 widget003 widget003 widget003 widget003 widget003 widget003 widget003 widget003 widget003 widget003 widget003 widget003 widget003 widget003 widget003 widget003 widget003 widget003 widget003 widget003 widget003 widget003 widget003 widget003 widget003 widget003 widget003 widget003 widget003 widget003 widget003 widget003 widget003 widget003 widget003\"\n\"widget003 widget003 widget003 widget003 widget003 widget003 widget003 widget003 widget003 widget003 widget003 widget003 widget003 widget003 widget003 widget003 widget003 widget003 widget003 widget003 widget003 widget003 widget003 widget003 widget003 widget003 widget003 widget003 widget003 widget003 widget003 widget003 widget003 widget003 widget003 widget003 widget003 widget003 widget003 widget003 widget003 widget003 widget003 widget003 widget003 widget003 widget003 widget003 widget003 widget003 widget003 widget003 widget003 widget003 widget003 widget003 widget003 widget003 widget003 widget003 widget003 widget003 widget003 widget003 widget003 widget003 widget003 widget003 widget003 widget003 widget003 widget003 widget003 widget003 widget003 widget003 widget003 widget003 widget003 widget003 widget003 widget003 widget003 widget003 widget003 widget003 widget003 widget003 widget003 widget003 widget003 widget003 widget003 widget003 widget003 widget003 widget003 widget003 widget003 widget003\"\n\"widget003 widget003 widget003 widget003 widget003 widget003 widget003 widget003 widget003 widget003 widget003 widget003 widget003 widget003 widget003 widget003 widget003 widget003 widget003 widget003 widget003 widget003 widget003 widget003 widget003 widget003 widget003 widget003 widget003 widget003 widget003 widget003 widget003 widget003 widget003 widget003 widget003 widget003 widget003 widget003 widget003 widget003 widget003 widget003 widget003 widget003 widget003 widget003 widget003 widget003 widget003 widget003 widget003 widget003 widget003 widget003 widget003 widget003 widget003 widget003 widget003 widget003 widget003 widget003 widget003 widget003 widget003 widget003 widget003 widget003 widget003 widget003 widget003 widget003 widget003 widget003 widget003 widget003 widget003 widget003 widget003 widget003 widget003 widget003 widget003 widget003 widget003 widget003 widget003 widget003 widget003 widget003 widget003 widget003 widget003 widget003 widget003 widget003 widget003 widget003\"\n\"widget003 widget003 widget003 widget003 widget003 widget003 widget003 widget003 widget003 widget003 widget003 widget003 widget003 widget003 widget003 widget003 widget003 widget003 widget003 widget003 widget003 widget003 widget003 widget003 widget003 widget003 widget003 widget003 widget003 widget003 widget003 widget003 widget003 widget003 widget003 widget003 widget003 widget003 widget003 widget003 widget003 widget003 widget003 widget003 widget003 widget003 widget003 widget003 widget003 widget003 widget003 widget003 widget003 widget003 widget003 widget003 widget003 widget003 widget003 widget003 widget003 widget003 widget003 widget003 widget003 widget003 widget003 widget003 widget003 widget003 widget003 widget003 widget003 widget003 widget003 widget003 widget003 widget003 widget003 widget003 widget003 widget003 widget003 widget003 widget003 widget003 widget003 widget003 widget003 widget003 widget003 widget003 widget003 widget003 widget003 widget003 widget003 widget003 widget003 widget003\"\n\"widget003 widget003 widget003 widget003 widget003 widget003 widget003 widget003 widget003 widget003 widget003 widget003 widget003 widget003 widget003 widget003 widget003 widget003 widget003 widget003 widget003 widget003 widget003 widget003 widget003 widget003 widget003 widget003 widget003 widget003 widget003 widget003 widget003 widget003 widget003 widget003 widget003 widget003 widget003 widget003 widget003 widget003 widget003 widget003 widget003 widget003 widget003 widget003 widget003 widget003 widget003 widget003 widget003 widget003 widget003 widget003 widget003 widget003 widget003 widget003 widget003 widget003 widget003 widget003 widget003 widget003 widget003 widget003 widget003 widget003 widget003 widget003 widget003 widget003 widget003 widget003 widget003 widget003 widget003 widget003 widget003 widget003 widget003 widget003 widget003 widget003 widget003 widget003 widget003 widget003 widget003 widget003 widget003 widget003 widget003 widget003 widget003 widget003 widget003 widget003\"\n\"widget003 widget003 widget003 widget003 widget003 widget003 widget003 widget003 widget003 widget003 widget003 widget003 widget003 widget003 widget003 widget003 widget003 widget003 widget003 widget003 widget003 widget003 widget003 widget003 widget003 widget003 widget003 widget003 widget003 widget003 widget003 widget003 widget003 widget003 widget003 widget003 widget003 widget003 widget003 widget003 widget003 widget003 widget003 widget003 widget003 widget003 widget003 widget003 widget003 widget003 widget003 widget003 widget003 widget003 widget003 widget003 widget003 widget003 widget003 widget003 widget003 widget003 widget003 widget003 widget003 widget003 widget003 widget003 widget003 widget003 widget003 widget003 widget003 widget003 widget003 widget003 widget003 widget003 widget003 widget003 widget003 widget003 widget003 widget003 widget003 widget003 widget003 widget003 widget003 widget003 widget003 widget003 widget003 widget003 widget003 widget003 widget003 widget003 widget003 widget003\"\n\"widget003 widget003 widget003 widget003 widget003 widget003 widget003 widget003 widget003 widget003 widget003 widget003 widget003 widget003 widget003 widget003 widget003 widget003 widget003 widget003 widget003 widget003 widget003 widget003 widget003 widget003 widget003 widget003 widget003 widget003 widget003 widget003 widget003 widget003 widget003 widget003 widget003 widget003 widget003 widget003 widget003 widget003 widget003 widget003 widget003 widget003 widget003 widget003 widget003 widget003 widget003 widget003 widget003 widget003 widget003 widget003 widget003 widget003 widget003 widget003 widget003 widget003 widget003 widget003 widget003 widget003 widget003 widget003 widget003 widget003 widget003 widget003 widget003 widget003 widget003 widget003 widget003 widget003 widget003 widget003 widget003 widget003 widget003 widget003 widget003 widget003 widget003 widget003 widget003 widget003 widget003 widget003 widget003 widget003 widget003 widget003 widget003 widget003 widget003 widget003\"\n\"widget003 widget003 widget003 widget003 widget003 widget003 widget003 widget003 widget003 widget003 widget003 widget003 widget003 widget003 widget003 widget003 widget003 widget003 widget003 widget003 widget003 widget003 widget003 widget003 widget003 widget003 widget003 widget003 widget003 widget003 widget003 widget003 widget003 widget003 widget003 widget003 widget003 widget003 widget003 widget003 widget003 widget003 widget003 widget003 widget003 widget003 widget003 widget003 widget003 widget003 widget003 widget003 widget003 widget003 widget003 widget003 widget003 widget003 widget003 widget003 widget003 widget003 widget003 widget003 widget003 widget003 widget003 widget003 widget003 widget003 widget003 widget003 widget003 widget003 widget003 widget003 widget003 widget003 widget003 widget003 widget003 widget003 widget003 widget003 widget003 widget003 widget003 widget003 widget003 widget003 widget003 widget003 widget003 widget003 widget003 widget003 widget003 widget003 widget003 widget003\"\n\"widget003 widget003 widget003 widget003 widget003 widget003 widget003 widget003 widget003 widget003 widget003 widget003 widget003 widget003 widget003 widget003 widget003 widget003 widget003 widget003 widget003 widget003 widget003 widget003 widget003 widget003 widget003 widget003 widget003 widget003 widget003 widget003 widget003 widget003 widget003 widget003 widget003 widget003 widget003 widget003 widget003 widget003 widget003 widget003 widget003 widget003 widget003 widget003 widget003 widget003 widget003 widget003 widget003 widget003 widget003 widget003 widget003 widget003 widget003 widget003 widget003 widget003 widget003 widget003 widget003 widget003 widget003 widget003 widget003 widget003 widget003 widget003 widget003 widget003 widget003 widget003 widget003 widget003 widget003 widget003 widget003 widget003 widget003 widget003 widget003 widget003 widget003 widget003 widget003 widget003 widget003 widget003 widget003 widget003 widget003 widget003 widget003 widget003 widget003 widget003\"\n\"widget003 widget003 widget003 widget003 widget003 widget003 widget003 widget003 widget003 widget003 widget003 widget003 widget003 widget003 widget003 widget003 widget003 widget003 widget003 widget003 widget003 widget003 widget003 widget003 widget003 widget003 widget003 widget003 widget003 widget003 widget003 widget003 widget003 widget003 widget003 widget003 widget003 widget003 widget003 widget003 widget003 widget003 widget003 widget003 widget003 widget003 widget003 widget003 widget003 widget003 widget003 widget003 widget003 widget003 widget003 widget003 widget003 widget003 widget003 widget003 widget003 widget003 widget003 widget003 widget003 widget003 widget003 widget003 widget003 widget003 widget003 widget003 widget003 widget003 widget003 widget003 widget003 widget003 widget003 widget003 widget003 widget003 widget003 widget003 widget003 widget003 widget003 widget003 widget003 widget003 widget003 widget003 widget003 widget003 widget003 widget003 widget003 widget003 widget003 widget003\"\n\"widget003 widget003 widget003 widget003 widget003 widget003 widget003 widget003 widget003 widget003 widget003 widget003 widget003 widget003 widget003 widget003 widget003 widget003 widget003 widget003 widget003 widget003 widget003 widget003 widget003 widget003 widget003 widget003 widget003 widget003 widget003 widget003 widget003 widget003 widget003 widget003 widget003 widget003 widget003 widget003 widget003 widget003 widget003 widget003 widget003 widget003 widget003 widget003 widget003 widget003 widget003 widget003 widget003 widget003 widget003 widget003 widget003 widget003 widget003 widget003 widget003 widget003 widget003 widget003 widget003 widget003 widget003 widget003 widget003 widget003 widget003 widget003 widget003 widget003 widget003 widget003 widget003 widget003 widget003 widget003 widget003 widget003 widget003 widget003 widget003 widget003 widget003 widget003 widget003 widget003 widget003 widget003 widget003 widget003 widget003 widget003 widget003 widget003 widget003 widget003\"\n\"widget003 widget003 widget003 widget003 widget003 widget003 widget003 widget003 widget003 widget003 widget003 widget003 widget003 widget003 widget003 widget003 widget003 widget003 widget003 widget003 widget003 widget003 widget003 widget003 widget003 widget003 widget003 widget003 widget003 widget003 widget003 widget003 widget003 widget003 widget003 widget003 widget003 widget003 widget003 widget003 widget003 widget003 widget003 widget003 widget003 widget003 widget003 widget003 widget003 widget003 widget003 widget003 widget003 widget003 widget003 widget003 widget003 widget003 widget003 widget003 widget003 widget003 widget003 widget003 widget003 widget003 widget003 widget003 widget003 widget003 widget003 widget003 widget003 widget003 widget003 widget003 widget003 widget003 widget003 widget003 widget003 widget003 widget003 widget003 widget003 widget003 widget003 widget003 widget003 widget003 widget003 widget003 widget003 widget003 widget003 widget003 widget003 widget003 widget003 widget003\"\n\"widget003 widget003 widget003 widget003 widget003 widget003 widget003 widget003 widget003 widget003 widget003 widget003 widget003 widget003 widget003 widget003 widget003 widget003 widget003 widget003 widget003 widget003 widget003 widget003 widget003 widget003 widget003 widget003 widget003 widget003 widget003 widget003 widget003 widget003 widget003 widget003 widget003 widget003 widget003 widget003 widget003 widget003 widget003 widget003 widget003 widget003 widget003 widget003 widget003 widget003 widget003 widget003 widget003 widget003 widget003 widget003 widget003 widget003 widget003 widget003 widget003 widget003 widget003 widget003 widget003 widget003 widget003 widget003 widget003 widget003 widget003 widget003 widget003 widget003 widget003 widget003 widget003 widget003 widget003 widget003 widget003 widget003 widget003 widget003 widget003 widget003 widget003 widget003 widget003 widget003 widget003 widget003 widget003 widget003 widget003 widget003 widget003 widget003 widget003 widget003\"\n\"widget003 widget003 widget003 widget003 widget003 widget003 widget003 widget003 widget003 widget003 widget003 widget003 widget003 widget003 widget003 widget003 widget003 widget003 widget003 widget003 widget003 widget003 widget003 widget003 widget003 widget003 widget003 widget003 widget003 widget003 widget003 widget003 widget003 widget003 widget003 widget003 widget003 widget003 widget003 widget003 widget003 widget003 widget003 widget003 widget003 widget003 widget003 widget003 widget003 widget003 widget003 widget003 widget003 widget003 widget003 widget003 widget003 widget003 widget003 widget003 widget003 widget003 widget003 widget003 widget003 widget003 widget003 widget003 widget003 widget003 widget003 widget003 widget003 widget003 widget003 widget003 widget003 widget003 widget003 widget003 widget003 widget003 widget003 widget003 widget003 widget003 widget003 widget003 widget003 widget003 widget003 widget003 widget003 widget003 widget003 widget003 widget003 widget003 widget003 widget003\"\n\"widget003 widget003 widget003 widget003 widget003 widget003 widget003 widget003 widget003 widget003 widget003 widget003 widget003 widget003 widget003 widget003 widget003 widget003 widget003 widget003 widget003 widget003 widget003 widget003 widget003 widget003 widget003 widget003 widget003 widget003 widget003 widget003 widget003 widget003 widget003 widget003 widget003 widget003 widget003 widget003 widget003 widget003 widget003 widget003 widget003 widget003 widget003 widget003 widget003 widget003 widget003 widget003 widget003 widget003 widget003 widget003 widget003 widget003 widget003 widget003 widget003 widget003 widget003 widget003 widget003 widget003 widget003 widget003 widget003 widget003 widget003 widget003 widget003 widget003 widget003 widget003 widget003 widget003 widget003 widget003 widget003 widget003 widget003 widget003 widget003 widget003 widget003 widget003 widget003 widget003 widget003 widget003 widget003 widget003 widget003 widget003 widget003 widget003 widget003 widget003\"\n\"widget003 widget003 widget003 widget003 widget003 widget003 widget003 widget003 widget003 widget003 widget003 widget003 widget003 widget003 widget003 widget003 widget003 widget003 widget003 widget003 widget003 widget003 widget003 widget003 widget003 widget003 widget003 widget003 widget003 widget003 widget003 widget003 widget003 widget003 widget003 widget003 widget003 widget003 widget003 widget003 widget003 widget003 widget003 widget003 widget003 widget003 widget003 widget003 widget003 widget003 widget003 widget003 widget003 widget003 widget003 widget003 widget003 widget003 widget003 widget003 widget003 widget003 widget003 widget003 widget003 widget003 widget003 widget003 widget003 widget003 widget003 widget003 widget003 widget003 widget003 widget003 widget003 widget003 widget003 widget003 widget003 widget003 widget003 widget003 widget003 widget003 widget003 widget003 widget003 widget003 widget003 widget003 widget003 widget003 widget003 widget003 widget003 widget003 widget003 widget003\"\n\"widget003 widget003 widget003 widget003 widget003 widget003 widget003 widget003 widget003 widget003 widget003 widget003 widget003 widget003 widget003 widget003 widget003 widget003 widget003 widget003 widget003 widget003 widget003 widget003 widget003 widget003 widget003 widget003 widget003 widget003 widget003 widget003 widget003 widget003 widget003 widget003 widget003 widget003 widget003 widget003 widget003 widget003 widget003 widget003 widget003 widget003 widget003 widget003 widget003 widget003 widget003 widget003 widget003 widget003 widget003 widget003 widget003 widget003 widget003 widget003 widget003 widget003 widget003 widget003 widget003 widget003 widget003 widget003 widget003 widget003 widget003 widget003 widget003 widget003 widget003 widget003 widget003 widget003 widget003 widget003 widget003 widget003 widget003 widget003 widget003 widget003 widget003 widget003 widget003 widget003 widget003 widget003 widget003 widget003 widget003 widget003 widget003 widget003 widget003 widget003\"\n\"widget003 widget003 widget003 widget003 widget003 widget003 widget003 widget003 widget003 widget003 widget003 widget003 widget003 widget003 widget003 widget003 widget003 widget003 widget003 widget003 widget003 widget003 widget003 widget003 widget003 widget003 widget003 widget003 widget003 widget003 widget003 widget003 widget003 widget003 widget003 widget003 widget003 widget003 widget003 widget003 widget003 widget003 widget003 widget003 widget003 widget003 widget003 widget003 widget003 widget003 widget003 widget003 widget003 widget003 widget003 widget003 widget003 widget003 widget003 widget003 widget003 widget003 widget003 widget003 widget003 widget003 widget003 widget003 widget003 widget003 widget003 widget003 widget003 widget003 widget003 widget003 widget003 widget003 widget003 widget003 widget003 widget003 widget003 widget003 widget003 widget003 widget003 widget003 widget003 widget003 widget003 widget003 widget003 widget003 widget003 widget003 widget003 widget003 widget003 widget003\"\n\"widget003 widget003 widget003 widget003 widget003 widget003 widget003 widget003 widget003 widget003 widget003 widget003 widget003 widget003 widget003 widget003 widget003 widget003 widget003 widget003 widget003 widget003 widget003 widget003 widget003 widget003 widget003 widget003 widget003 widget003 widget003 widget003 widget003 widget003 widget003 widget003 widget003 widget003 widget003 widget003 widget003 widget003 widget003 widget003 widget003 widget003 widget003 widget003 widget003 widget003 widget003 widget003 widget003 widget003 widget003 widget003 widget003 widget003 widget003 widget003 widget003 widget003 widget003 widget003 widget003 widget003 widget003 widget003 widget003 widget003 widget003 widget003 widget003 widget003 widget003 widget003 widget003 widget003 widget003 widget003 widget003 widget003 widget003 widget003 widget003 widget003 widget003 widget003 widget003 widget003 widget003 widget003 widget003 widget003 widget003 widget003 widget003 widget003 widget003 widget003\"\n\"widget003 widget003 widget003 widget003 widget003 widget003 widget003 widget003 widget003 widget003 widget003 widget003 widget003 widget003 widget003 widget003 widget003 widget003 widget003 widget003 widget003 widget003 widget003 widget003 widget003 widget003 widget003 widget003 widget003 widget003 widget003 widget003 widget003 widget003 widget003 widget003 widget003 widget003 widget003 widget003 widget003 widget003 widget003 widget003 widget003 widget003 widget003 widget003 widget003 widget003 widget003 widget003 widget003 widget003 widget003 widget003 widget003 widget003 widget003 widget003 widget003 widget003 widget003 widget003 widget003 widget003 widget003 widget003 widget003 widget003 widget003 widget003 widget003 widget003 widget003 widget003 widget003 widget003 widget003 widget003 widget003 widget003 widget003 widget003 widget003 widget003 widget003 widget003 widget003 widget003 widget003 widget003 widget003 widget003 widget003 widget003 widget003 widget003 widget003 widget003\"\n\"widget003 widget003 widget003 widget003 widget003 widget003 widget003 widget003 widget003 widget003 widget003 widget003 widget003 widget003 widget003 widget003 widget003 widget003 widget003 widget003 widget003 widget003 widget003 widget003 widget003 widget003 widget003 widget003 widget003 widget003 widget003 widget003 widget003 widget003 widget003 widget003 widget003 widget003 widget003 widget003 widget003 widget003 widget003 widget003 widget003 widget003 widget003 widget003 widget003 widget003 widget003 widget003 widget003 widget003 widget003 widget003 widget003 widget003 widget003 widget003 widget003 widget003 widget003 widget003 widget003 widget003 widget003 widget003 widget003 widget003 widget003 widget003 widget003 widget003 widget003 widget003 widget003 widget003 widget003 widget003 widget003 widget003 widget003 widget003 widget003 widget003 widget003 widget003 widget003 widget003 widget003 widget003 widget003 widget003 widget003 widget003 widget003 widget003 widget003 widget003\"\n\"widget003 widget003 widget003 widget003 widget003 widget003 widget003 widget003 widget003 widget003 widget003 widget003 widget003 widget003 widget003 widget003 widget003 widget003 widget003 widget003 widget003 widget003 widget003 widget003 widget003 widget003 widget003 widget003 widget003 widget003 widget003 widget003 widget003 widget003 widget003 widget003 widget003 widget003 widget003 widget003 widget003 widget003 widget003 widget003 widget003 widget003 widget003 widget003 widget003 widget003 widget003 widget003 widget003 widget003 widget003 widget003 widget003 widget003 widget003 widget003 widget003 widget003 widget003 widget003 widget003 widget003 widget003 widget003 widget003 widget003 widget003 widget003 widget003 widget003 widget003 widget003 widget003 widget003 widget003 widget003 widget003 widget003 widget003 widget003 widget003 widget003 widget003 widget003 widget003 widget003 widget003 widget003 widget003 widget003 widget003 widget003 widget003 widget003 widget003 widget003\"\n\"widget003 widget003 widget003 widget003 widget003 widget003 widget003 widget003 widget003 widget003 widget003 widget003 widget003 widget003 widget003 widget003 widget003 widget003 widget003 widget003 widget003 widget003 widget003 widget003 widget003 widget003 widget003 widget003 widget003 widget003 widget003 widget003 widget003 widget003 widget003 widget003 widget003 widget003 widget003 widget003 widget003 widget003 widget003 widget003 widget003 widget003 widget003 widget003 widget003 widget003 widget003 widget003 widget003 widget003 widget003 widget003 widget003 widget003 widget003 widget003 widget003 widget003 widget003 widget003 widget003 widget003 widget003 widget003 widget003 widget003 widget003 widget003 widget003 widget003 widget003 widget003 widget003 widget003 widget003 widget003 widget003 widget003 widget003 widget003 widget003 widget003 widget003 widget003 widget003 widget003 widget003 widget003 widget003 widget003 widget003 widget003 widget003 widget003 widget003 widget003\"\n\"widget003 widget003 widget003 widget003 widget003 widget003 widget003 widget003 widget003 widget003 widget003 widget003 widget003 widget003 widget003 widget003 widget003 widget003 widget003 widget003 widget003 widget003 widget003 widget003 widget003 widget003 widget003 widget003 widget003 widget003 widget003 widget003 widget003 widget003 widget003 widget003 widget003 widget003 widget003 widget003 widget003 widget003 widget003 widget003 widget003 widget003 widget003 widget003 widget003 widget003 widget003 widget003 widget003 widget003 widget003 widget003 widget003 widget003 widget003 widget003 widget003 widget003 widget003 widget003 widget003 widget003 widget003 widget003 widget003 widget003 widget003 widget003 widget003 widget003 widget003 widget003 widget003 widget003 widget003 widget003 widget003 widget003 widget003 widget003 widget003 widget003 widget003 widget003 widget003 widget003 widget003 widget003 widget003 widget003 widget003 widget003 widget003 widget003 widget003 widget003\"\n\"widget003 widget003 widget003 widget003 widget003 widget003 widget003 widget003 widget003 widget003 widget003 widget003 widget003 widget003 widget003 widget003 widget003 widget003 widget003 widget003 widget003 widget003 widget003 widget003 widget003 widget003 widget003 widget003 widget003 widget003 widget003 widget003 widget003 widget003 widget003 widget003 widget003 widget003 widget003 widget003 widget003 widget003 widget003 widget003 widget003 widget003 widget003 widget003 widget003 widget003 widget003 widget003 widget003 widget003 widget003 widget003 widget003 widget003 widget003 widget003 widget003 widget003 widget003 widget003 widget003 widget003 widget003 widget003 widget003 widget003 widget003 widget003 widget003 widget003 widget003 widget003 widget003 widget003 widget003 widget003 widget003 widget003 widget003 widget003 widget003 widget003 widget003 widget003 widget003 widget003 widget003 widget003 widget003 widget003 widget003 widget003 widget003 widget003 widget003 widget003\"\n\"widget003 widget003 widget003 widget003 widget003 widget003 widget003 widget003 widget003 widget003 widget003 widget003 widget003 widget003 widget003 widget003 widget003 widget003 widget003 widget003 widget003 widget003 widget003 widget003 widget003 widget003 widget003 widget003 widget003 widget003 widget003 widget003 widget003 widget003 widget003 widget003 widget003 widget003 widget003 widget003 widget003 widget003 widget003 widget003 widget003 widget003 widget003 widget003 widget003 widget003 widget003 widget003 widget003 widget003 widget003 widget003 widget003 widget003 widget003 widget003 widget003 widget003 widget003 widget003 widget003 widget003 widget003 widget003 widget003 widget003 widget003 widget003 widget003 widget003 widget003 widget003 widget003 widget003 widget003 widget003 widget003 widget003 widget003 widget003 widget003 widget003 widget003 widget003 widget003 widget003 widget003 widget003 widget003 widget003 widget003 widget003 widget003 widget003 widget003 widget003\"\n\"widget003 widget003 widget003 widget003 widget003 widget003 widget003 widget003 widget003 widget003 widget003 widget003 widget003 widget003 widget003 widget003 widget003 widget003 widget003 widget003 widget003 widget003 widget003 widget003 widget003 widget003 widget003 widget003 widget003 widget003 widget003 widget003 widget003 widget003 widget003 widget003 widget003 widget003 widget003 widget003 widget003 widget003 widget003 widget003 widget003 widget003 widget003 widget003 widget003 widget003 widget003 widget003 widget003 widget003 widget003 widget003 widget003 widget003 widget003 widget003 widget003 widget003 widget003 widget003 widget003 widget003 widget003 widget003 widget003 widget003 widget003 widget003 widget003 widget003 widget003 widget003 widget003 widget003 widget003 widget003 widget003 widget003 widget003 widget003 widget003 widget003 widget003 widget003 widget003 widget003 widget003 widget003 widget003 widget003 widget003 widget003 widget003 widget003 widget003 widget003\"\n\"widget003 widget003 widget003 widget003 widget003 widget003 widget003 widget003 widget003 widget003 widget003 widget003 widget003 widget003 widget003 widget003 widget003 widget003 widget003 widget003 widget003 widget003 widget003 widget003 widget003 widget003 widget003 widget003 widget003 widget003 widget003 widget003 widget003 widget003 widget003 widget003 widget003 widget003 widget003 widget003 widget003 widget003 widget003 widget003 widget003 widget003 widget003 widget003 widget003 widget003 widget003 widget003 widget003 widget003 widget003 widget003 widget003 widget003 widget003 widget003 widget003 widget003 widget003 widget003 widget003 widget003 widget003 widget003 widget003 widget003 widget003 widget003 widget003 widget003 widget003 widget003 widget003 widget003 widget003 widget003 widget003 widget003 widget003 widget003 widget003 widget003 widget003 widget003 widget003 widget003 widget003 widget003 widget003 widget003 widget003 widget003 widget003 widget003 widget003 widget003\"\n\"widget003 widget003 widget003 widget003 widget003 widget003 widget003 widget003 widget003 widget003 widget003 widget003 widget003 widget003 widget003 widget003 widget003 widget003 widget003 widget003 widget003 widget003 widget003 widget003 widget003 widget003 widget003 widget003 widget003 widget003 widget003 widget003 widget003 widget003 widget003 widget003 widget003 widget003 widget003 widget003 widget003 widget003 widget003 widget003 widget003 widget003 widget003 widget003 widget003 widget003 widget003 widget003 widget003 widget003 widget003 widget003 widget003 widget003 widget003 widget003 widget003 widget003 widget003 widget003 widget003 widget003 widget003 widget003 widget003 widget003 widget003 widget003 widget003 widget003 widget003 widget003 widget003 widget003 widget003 widget003 widget003 widget003 widget003 widget003 widget003 widget003 widget003 widget003 widget003 widget003 widget003 widget003 widget003 widget003 widget003 widget003 widget003 widget003 widget003 widget003\"\n\"widget003 widget003 widget003 widget003 widget003 widget003 widget003 widget003 widget003 widget003 widget003 widget003 widget003 widget003 widget003 widget003 widget003 widget003 widget003 widget003 widget003 widget003 widget003 widget003 widget003 widget003 widget003 widget003 widget003 widget003 widget003 widget003 widget003 widget003 widget003 widget003 widget003 widget003 widget003 widget003 widget003 widget003 widget003 widget003 widget003 widget003 widget003 widget003 widget003 widget003 widget003 widget003 widget003 widget003 widget003 widget003 widget003 widget003 widget003 widget003 widget003 widget003 widget003 widget003 widget003 widget003 widget003 widget003 widget003 widget003 widget003 widget003 widget003 widget003 widget003 widget003 widget003 widget003 widget003 widget003 widget003 widget003 widget003 widget003 widget003 widget003 widget003 widget003 widget003 widget003 widget003 widget003 widget003 widget003 widget003 widget003 widget003 widget003 widget003 widget003\"\n\"widget003 widget003 widget003 widget003 widget003 widget003 widget003 widget003 widget003 widget003 widget003 widget003 widget003 widget003 widget003 widget003 widget003 widget003 widget003 widget003 widget003 widget003 widget003 widget003 widget003 widget003 widget003 widget003 widget003 widget003 widget003 widget003 widget003 widget003 widget003 widget003 widget003 widget003 widget003 widget003 widget003 widget003 widget003 widget003 widget003 widget003 widget003 widget003 widget003 widget003 widget003 widget003 widget003 widget003 widget003 widget003 widget003 widget003 widget003 widget003 widget003 widget003 widget003 widget003 widget003 widget003 widget003 widget003 widget003 widget003 widget003 widget003 widget003 widget003 widget003 widget003 widget003 widget003 widget003 widget003 widget003 widget003 widget003 widget003 widget003 widget003 widget003 widget003 widget003 widget003 widget003 widget003 widget003 widget003 widget003 widget003 widget003 widget003 widget003 widget003\"\n\"widget003 widget003 widget003 widget003 widget003 widget003 widget003 widget003 widget003 widget003 widget003 widget003 widget003 widget003 widget003 widget003 widget003 widget003 widget003 widget003 widget003 widget003 widget003 widget003 widget003 widget003 widget003 widget003 widget003 widget003 widget003 widget003 widget003 widget003 widget003 widget003 widget003 widget003 widget003 widget003 widget003 widget003 widget003 widget003 widget003 widget003 widget003 widget003 widget003 widget003 widget003 widget003 widget003 widget003 widget003 widget003 widget003 widget003 widget003 widget003 widget003 widget003 widget003 widget003 widget003 widget003 widget003 widget003 widget003 widget003 widget003 widget003 widget003 widget003 widget003 widget003 widget003 widget003 widget003 widget003 widget003 widget003 widget003 widget003 widget003 widget003 widget003 widget003 widget003 widget003 widget003 widget003 widget003 widget003 widget003 widget003 widget003 widget003 widget003 widget003\"\n\"widget003 widget003 widget003 widget003 widget003 widget003 widget003 widget003 widget003 widget003 widget003 widget003 widget003 widget003 widget003 widget003 widget003 widget003 widget003 widget003 widget003 widget003 widget003 widget003 widget003 widget003 widget003 widget003 widget003 widget003 widget003 widget003 widget003 widget003 widget003 widget003 widget003 widget003 widget003 widget003 widget003 widget003 widget003 widget003 widget003 widget003 widget003 widget003 widget003 widget003 widget003 widget003 widget003 widget003 widget003 widget003 widget003 widget003 widget003 widget003 widget003 widget003 widget003 widget003 widget003 widget003 widget003 widget003 widget003 widget003 widget003 widget003 widget003 widget003 widget003 widget003 widget003 widget003 widget003 widget003 widget003 widget003 widget003 widget003 widget003 widget003 widget003 widget003 widget003 widget003 widget003 widget003 widget003 widget003 widget003 widget003 widget003 widget003 widget003 widget003\"\n\"widget003 widget003 widget003 widget003 widget003 widget003 widget003 widget003 widget003 widget003 widget003 widget003 widget003 widget003 widget003 widget003 widget003 widget003 widget003 widget003 widget003 widget003 widget003 widget003 widget003 widget003 widget003 widget003 widget003 widget003 widget003 widget003 widget003 widget003 widget003 widget003 widget003 widget003 widget003 widget003 widget003 widget003 widget003 widget003 widget003 widget003 widget003 widget003 widget003 widget003 widget003 widget003 widget003 widget003 widget003 widget003 widget003 widget003 widget003 widget003 widget003 widget003 widget003 widget003 widget003 widget003 widget003 widget003 widget003 widget003 widget003 widget003 widget003 widget003 widget003 widget003 widget003 widget003 widget003 widget003 widget003 widget003 widget003 widget003 widget003 widget003 widget003 widget003 widget003 widget003 widget003 widget003 widget003 widget003 widget003 widget003 widget003 widget003 widget003 widget003\"\n\"widget003 widget003 widget003 widget003 widget003 widget003 widget003 widget003 widget003 widget003 widget003 widget003 widget003 widget003 widget003 widget003 widget003 widget003 widget003 widget003 widget003 widget003 widget003 widget003 widget003 widget003 widget003 widget003 widget003 widget003 widget003 widget003 widget003 widget003 widget003 widget003 widget003 widget003 widget003 widget003 widget003 widget003 widget003 widget003 widget003 widget003 widget003 widget003 widget003 widget003 widget003 widget003 widget003 widget003 widget003 widget003 widget003 widget003 widget003 widget003 widget003 widget003 widget003 widget003 widget003 widget003 widget003 widget003 widget003 widget003 widget003 widget003 widget003 widget003 widget003 widget003 widget003 widget003 widget003 widget003 widget003 widget003 widget003 widget003 widget003 widget003 widget003 widget003 widget003 widget003 widget003 widget003 widget003 widget003 widget003 widget003 widget003 widget003 widget003 widget003\"\n\"widget003 widget003 widget003 widget003 widget003 widget003 widget003 widget003 widget003 widget003 widget003 widget003 widget003 widget003 widget003 widget003 widget003 widget003 widget003 widget003 widget003 widget003 widget003 widget003 widget003 widget003 widget003 widget003 widget003 widget003 widget003 widget003 widget003 widget003 widget003 widget003 widget003 widget003 widget003 widget003 widget003 widget003 widget003 widget003 widget003 widget003 widget003 widget003 widget003 widget003 widget003 widget003 widget003 widget003 widget003 widget003 widget003 widget003 widget003 widget003 widget003 widget003 widget003 widget003 widget003 widget003 widget003 widget003 widget003 widget003 widget003 widget003 widget003 widget003 widget003 widget003 widget003 widget003 widget003 widget003 widget003 widget003 widget003 widget003 widget003 widget003 widget003 widget003 widget003 widget003 widget003 widget003 widget003 widget003 widget003 widget003 widget003 widget003 widget003 widget003\"\n\"widget003 widget003 widget003 widget003 widget003 widget003 widget003 widget003 widget003 widget003 widget003 widget003 widget003 widget003 widget003 widget003 widget003 widget003 widget003 widget003 widget003 widget003 widget003 widget003 widget003 widget003 widget003 widget003 widget003 widget003 widget003 widget003 widget003 widget003 widget003 widget003 widget003 widget003 widget003 widget003 widget003 widget003 widget003 widget003 widget003 widget003 widget003 widget003 widget003 widget003 widget003 widget003 widget003 widget003 widget003 widget003 widget003 widget003 widget003 widget003 widget003 widget003 widget003 widget003 widget003 widget003 widget003 widget003 widget003 widget003 widget003 widget003 widget003 widget003 widget003 widget003 widget003 widget003 widget003 widget003 widget003 widget003 widget003 widget003 widget003 widget003 widget003 widget003 widget003 widget003 widget003 widget003 widget003 widget003 widget003 widget003 widget003 widget003 widget003 widget003\"\n\"widget003 widget003 widget003 widget003 widget003 widget003 widget003 widget003 widget003 widget003 widget003 widget003 widget003 widget003 widget003 widget003 widget003 widget003 widget003 widget003 widget003 widget003 widget003 widget003 widget003 widget003 widget003 widget003 widget003 widget003 widget003 widget003 widget003 widget003 widget003 widget003 widget003 widget003 widget003 widget003 widget003 widget003 widget003 widget003 widget003 widget003 widget003 widget003 widget003 widget003 widget003 widget003 widget003 widget003 widget003 widget003 widget003 widget003 widget003 widget003 widget003 widget003 widget003 widget003 widget003 widget003 widget003 widget003 widget003 widget003 widget003 widget003 widget003 widget003 widget003 widget003 widget003 widget003 widget003 widget003 widget003 widget003 widget003 widget003 widget003 widget003 widget003 widget003 widget003 widget003 widget003 widget003 widget003 widget003 widget003 widget003 widget003 widget003 widget003 widget003\"\n\"widget003 widget003 widget003 widget003 widget003 widget003 widget003 widget003 widget003 widget003 widget003 widget003 widget003 widget003 widget003 widget003 widget003 widget003 widget003 widget003 widget003 widget003 widget003 widget003 widget003 widget003 widget003 widget003 widget003 widget003 widget003 widget003 widget003 widget003 widget003 widget003 widget003 widget003 widget003 widget003 widget003 widget003 widget003 widget003 widget003 widget003 widget003 widget003 widget003 widget003 widget003 widget003 widget003 widget003 widget003 widget003 widget003 widget003 widget003 widget003 widget003 widget003 widget003 widget003 widget003 widget003 widget003 widget003 widget003 widget003 widget003 widget003 widget003 widget003 widget003 widget003 widget003 widget003 widget003 widget003 widget003 widget003 widget003 widget003 widget003 widget003 widget003 widget003 widget003 widget003 widget003 widget003 widget003 widget003 widget003 widget003 widget003 widget003 widget003 widget003\"\n\"widget003 widget003 widget003 widget003 widget003 widget003 widget003 widget003 widget003 widget003 widget003 widget003 widget003 widget003 widget003 widget003 widget003 widget003 widget003 widget003 widget003 widget003 widget003 widget003 widget003 widget003 widget003 widget003 widget003 widget003 widget003 widget003 widget003 widget003 widget003 widget003 widget003 widget003 widget003 widget003 widget003 widget003 widget003 widget003 widget003 widget003 widget003 widget003 widget003 widget003 widget003 widget003 widget003 widget003 widget003 widget003 widget003 widget003 widget003 widget003 widget003 widget003 widget003 widget003 widget003 widget003 widget003 widget003 widget003 widget003 widget003 widget003 widget003 widget003 widget003 widget003 widget003 widget003 widget003 widget003 widget003 widget003 widget003 widget003 widget003 widget003 widget003 widget003 widget003 widget003 widget003 widget003 widget003 widget003 widget003 widget003 widget003 widget003 widget003 widget003\"\n\"widget003 widget003 widget003 widget003 widget003 widget003 widget003 widget003 widget003 widget003 widget003 widget003 widget003 widget003 widget003 widget003 widget003 widget003 widget003 widget003 widget003 widget003 widget003 widget003 widget003 widget003 widget003 widget003 widget003 widget003 widget003 widget003 widget003 widget003 widget003 widget003 widget003 widget003 widget003 widget003 widget003 widget003 widget003 widget003 widget003 widget003 widget003 widget003 widget003 widget003 widget003 widget003 widget003 widget003 widget003 widget003 widget003 widget003 widget003 widget003 widget003 widget003 widget003 widget003 widget003 widget003 widget003 widget003 widget003 widget003 widget003 widget003 widget003 widget003 widget003 widget003 widget003 widget003 widget003 widget003 widget003 widget003 widget003 widget003 widget003 widget003 widget003 widget003 widget003 widget003 widget003 widget003 widget003 widget003 widget003 widget003 widget003 widget003 widget003 widget003\"\n\"widget003 widget003 widget003 widget003 widget003 widget003 widget003 widget003 widget003 widget003 widget003 widget003 widget003 widget003 widget003 widget003 widget003 widget003 widget003 widget003 widget003 widget003 widget003 widget003 widget003 widget003 widget003 widget003 widget003 widget003 widget003 widget003 widget003 widget003 widget003 widget003 widget003 widget003 widget003 widget003 widget003 widget003 widget003 widget003 widget003 widget003 widget003 widget003 widget003 widget003 widget003 widget003 widget003 widget003 widget003 widget003 widget003 widget003 widget003 widget003 widget003 widget003 widget003 widget003 widget003 widget003 widget003 widget003 widget003 widget003 widget003 widget003 widget003 widget003 widget003 widget003 widget003 widget003 widget003 widget003 widget003 widget003 widget003 widget003 widget003 widget003 widget003 widget003 widget003 widget003 widget003 widget003 widget003 widget003 widget003 widget003 widget003 widget003 widget003 widget003\"\n\"widget003 widget003 widget003 widget003 widget003 widget003 widget003 widget003 widget003 widget003 widget003 widget003 widget003 widget003 widget003 widget003 widget003 widget003 widget003 widget003 widget003 widget003 widget003 widget003 widget003 widget003 widget003 widget003 widget003 widget003 widget003 widget003 widget003 widget003 widget003 widget003 widget003 widget003 widget003 widget003 widget003 widget003 widget003 widget003 widget003 widget003 widget003 widget003 widget003 widget003 widget003 widget003 widget003 widget003 widget003 widget003 widget003 widget003 widget003 widget003 widget003 widget003 widget003 widget003 widget003 widget003 widget003 widget003 widget003 widget003 widget003 widget003 widget003 widget003 widget003 widget003 widget003 widget003 widget003 widget003 widget003 widget003 widget003 widget003 widget003 widget003 widget003 widget003 widget003 widget003 widget003 widget003 widget003 widget003 widget003 widget003 widget003 widget003 widget003 widget003\"\n\"widget003 widget003 widget003 widget003 widget003 widget003 widget003 widget003 widget003 widget003 widget003 widget003 widget003 widget003 widget003 widget003 widget003 widget003 widget003 widget003 widget003 widget003 widget003 widget003 widget003 widget003 widget003 widget003 widget003 widget003 widget003 widget003 widget003 widget003 widget003 widget003 widget003 widget003 widget003 widget003 widget003 widget003 widget003 widget003 widget003 widget003 widget003 widget003 widget003 widget003 widget003 widget003 widget003 widget003 widget003 widget003 widget003 widget003 widget003 widget003 widget003 widget003 widget003 widget003 widget003 widget003 widget003 widget003 widget003 widget003 widget003 widget003 widget003 widget003 widget003 widget003 widget003 widget003 widget003 widget003 widget003 widget003 widget003 widget003 widget003 widget003 widget003 widget003 widget003 widget003 widget003 widget003 widget003 widget003 widget003 widget003 widget003 widget003 widget003 widget003\"\n\"widget003 widget003 widget003 widget003 widget003 widget003 widget003 widget003 widget003 widget003 widget003 widget003 widget003 widget003 widget003 widget003 widget003 widget003 widget003 widget003 widget003 widget003 widget003 widget003 widget003 widget003 widget003 widget003 widget003 widget003 widget003 widget003 widget003 widget003 widget003 widget003 widget003 widget003 widget003 widget003 widget003 widget003 widget003 widget003 widget003 widget003 widget003 widget003 widget003 widget003 widget003 widget003 widget003 widget003 widget003 widget003 widget003 widget003 widget003 widget003 widget003 widget003 widget003 widget003 widget003 widget003 widget003 widget003 widget003 widget003 widget003 widget003 widget003 widget003 widget003 widget003 widget003 widget003 widget003 widget003 widget003 widget003 widget003 widget003 widget003 widget003 widget003 widget003 widget003 widget003 widget003 widget003 widget003 widget003 widget003 widget003 widget003 widget003 widget003 widget003\"\n\"widget003 widget003 widget003 widget003 widget003 widget003 widget003 widget003 widget003 widget003 widget003 widget003 widget003 widget003 widget003 widget003 widget003 widget003 widget003 widget003 widget003 widget003 widget003 widget003 widget003 widget003 widget003 widget003 widget003 widget003 widget003 widget003 widget003 widget003 widget003 widget003 widget003 widget003 widget003 widget003 widget003 widget003 widget003 widget003 widget003 widget003 widget003 widget003 widget003 widget003 widget003 widget003 widget003 widget003 widget003 widget003 widget003 widget003 widget003 widget003 widget003 widget003 widget003 widget003 widget003 widget003 widget003 widget003 widget003 widget003 widget003 widget003 widget003 widget003 widget003 widget003 widget003 widget003 widget003 widget003 widget003 widget003 widget003 widget003 widget003 widget003 widget003 widget003 widget003 widget003 widget003 widget003 widget003 widget003 widget003 widget003 widget003 widget003 widget003 widget003\"\n\"widget003 widget003 widget003 widget003 widget003 widget003 widget003 widget003 widget003 widget003 widget003 widget003 widget003 widget003 widget003 widget003 widget003 widget003 widget003 widget003 widget003 widget003 widget003 widget003 widget003 widget003 widget003 widget003 widget003 widget003 widget003 widget003 widget003 widget003 widget003 widget003 widget003 widget003 widget003 widget003 widget003 widget003 widget003 widget003 widget003 widget003 widget003 widget003 widget003 widget003 widget003 widget003 widget003 widget003 widget003 widget003 widget003 widget003 widget003 widget003 widget003 widget003 widget003 widget003 widget003 widget003 widget003 widget003 widget003 widget003 widget003 widget003 widget003 widget003 widget003 widget003 widget003 widget003 widget003 widget003 widget003 widget003 widget003 widget003 widget003 widget003 widget003 widget003 widget003 widget003 widget003 widget003 widget003 widget003 widget003 widget003 widget003 widget003 widget003 widget003\"\n\"widget003 widget003 widget003 widget003 widget003 widget003 widget003 widget003 widget003 widget003 widget003 widget003 widget003 widget003 widget003 widget003 widget003 widget003 widget003 widget003 widget003 widget003 widget003 widget003 widget003 widget003 widget003 widget003 widget003 widget003 widget003 widget003 widget003 widget003 widget003 widget003 widget003 widget003 widget003 widget003 widget003 widget003 widget003 widget003 widget003 widget003 widget003 widget003 widget003 widget003 widget003 widget003 widget003 widget003 widget003 widget003 widget003 widget003 widget003 widget003 widget003 widget003 widget003 widget003 widget003 widget003 widget003 widget003 widget003 widget003 widget003 widget003 widget003 widget003 widget003 widget003 widget003 widget003 widget003 widget003 widget003 widget003 widget003 widget003 widget003 widget003 widget003 widget003 widget003 widget003 widget003 widget003 widget003 widget003 widget003 widget003 widget003 widget003 widget003 widget003\"\n\"widget003 widget003 widget003 widget003 widget003 widget003 widget003 widget003 widget003 widget003 widget003 widget003 widget003 widget003 widget003 widget003 widget003 widget003 widget003 widget003 widget003 widget003 widget003 widget003 widget003 widget003 widget003 widget003 widget003 widget003 widget003 widget003 widget003 widget003 widget003 widget003 widget003 widget003 widget003 widget003 widget003 widget003 widget003 widget003 widget003 widget003 widget003 widget003 widget003 widget003 widget003 widget003 widget003 widget003 widget003 widget003 widget003 widget003 widget003 widget003 widget003 widget003 widget003 widget003 widget003 widget003 widget003 widget003 widget003 widget003 widget003 widget003 widget003 widget003 widget003 widget003 widget003 widget003 widget003 widget003 widget003 widget003 widget003 widget003 widget003 widget003 widget003 widget003 widget003 widget003 widget003 widget003 widget003 widget003 widget003 widget003 widget003 widget003 widget003 widget003\"\n\"widget003 widget003 widget003 widget003 widget003 widget003 widget003 widget003 widget003 widget003 widget003 widget003 widget003 widget003 widget003 widget003 widget003 widget003 widget003 widget003 widget003 widget003 widget003 widget003 widget003 widget003 widget003 widget003 widget003 widget003 widget003 widget003 widget003 widget003 widget003 widget003 widget003 widget003 widget003 widget003 widget003 widget003 widget003 widget003 widget003 widget003 widget003 widget003 widget003 widget003 widget003 widget003 widget003 widget003 widget003 widget003 widget003 widget003 widget003 widget003 widget003 widget003 widget003 widget003 widget003 widget003 widget003 widget003 widget003 widget003 widget003 widget003 widget003 widget003 widget003 widget003 widget003 widget003 widget003 widget003 widget003 widget003 widget003 widget003 widget003 widget003 widget003 widget003 widget003 widget003 widget003 widget003 widget003 widget003 widget003 widget003 widget003 widget003 widget003 widget003\"\n\"widget003 widget003 widget003 widget003 widget003 widget003 widget003 widget003 widget003 widget003 widget003 widget003 widget003 widget003 widget003 widget003 widget003 widget003 widget003 widget003 widget003 widget003 widget003 widget003 widget003 widget003 widget003 widget003 widget003 widget003 widget003 widget003 widget003 widget003 widget003 widget003 widget003 widget003 widget003 widget003 widget003 widget003 widget003 widget003 widget003 widget003 widget003 widget003 widget003 widget003 widget003 widget003 widget003 widget003 widget003 widget003 widget003 widget003 widget003 widget003 widget003 widget003 widget003 widget003 widget003 widget003 widget003 widget003 widget003 widget003 widget003 widget003 widget003 widget003 widget003 widget003 widget003 widget003 widget003 widget003 widget003 widget003 widget003 widget003 widget003 widget003 widget003 widget003 widget003 widget003 widget003 widget003 widget003 widget003 widget003 widget003 widget003 widget003 widget003 widget003\"\n\"widget003 widget003 widget003 widget003 widget003 widget003 widget003 widget003 widget003 widget003 widget003 widget003 widget003 widget003 widget003 widget003 widget003 widget003 widget003 widget003 widget003 widget003 widget003 widget003 widget003 widget003 widget003 widget003 widget003 widget003 widget003 widget003 widget003 widget003 widget003 widget003 widget003 widget003 widget003 widget003 widget003 widget003 widget003 widget003 widget003 widget003 widget003 widget003 widget003 widget003 widget003 widget003 widget003 widget003 widget003 widget003 widget003 widget003 widget003 widget003 widget003 widget003 widget003 widget003 widget003 widget003 widget003 widget003 widget003 widget003 widget003 widget003 widget003 widget003 widget003 widget003 widget003 widget003 widget003 widget003 widget003 widget003 widget003 widget003 widget003 widget003 widget003 widget003 widget003 widget003 widget003 widget003 widget003 widget003 widget003 widget003 widget003 widget003 widget003 widget003\"\n\"widget003 widget003 widget003 widget003 widget003 widget003 widget003 widget003 widget003 widget003 widget003 widget003 widget003 widget003 widget003 widget003 widget003 widget003 widget003 widget003 widget003 widget003 widget003 widget003 widget003 widget003 widget003 widget003 widget003 widget003 widget003 widget003 widget003 widget003 widget003 widget003 widget003 widget003 widget003 widget003 widget003 widget003 widget003 widget003 widget003 widget003 widget003 widget003 widget003 widget003 widget003 widget003 widget003 widget003 widget003 widget003 widget003 widget003 widget003 widget003 widget003 widget003 widget003 widget003 widget003 widget003 widget003 widget003 widget003 widget003 widget003 widget003 widget003 widget003 widget003 widget003 widget003 widget003 widget003 widget003 widget003 widget003 widget003 widget003 widget003 widget003 widget003 widget003 widget003 widget003 widget003 widget003 widget003 widget003 widget003 widget003 widget003 widget003 widget003 widget003\"\n\"widget003 widget003 widget003 widget003 widget003 widget003 widget003 widget003 widget003 widget003 widget003 widget003 widget003 widget003 widget003 widget003 widget003 widget003 widget003 widget003 widget003 widget003 widget003 widget003 widget003 widget003 widget003 widget003 widget003 widget003 widget003 widget003 widget003 widget003 widget003 widget003 widget003 widget003 widget003 widget003 widget003 widget003 widget003 widget003 widget003 widget003 widget003 widget003 widget003 widget003 widget003 widget003 widget003 widget003 widget003 widget003 widget003 widget003 widget003 widget003 widget003 widget003 widget003 widget003 widget003 widget003 widget003 widget003 widget003 widget003 widget003 widget003 widget003 widget003 widget003 widget003 widget003 widget003 widget003 widget003 widget003 widget003 widget003 widget003 widget003 widget003 widget003 widget003 widget003 widget003 widget003 widget003 widget003 widget003 widget003 widget003 widget003 widget003 widget003 widget003\"\n\"widget003 widget003 widget003 widget003 widget003 widget003 widget003 widget003 widget003 widget003 widget003 widget003 widget003 widget003 widget003 widget003 widget003 widget003 widget003 widget003 widget003 widget003 widget003 widget003 widget003 widget003 widget003 widget003 widget003 widget003 widget003 widget003 widget003 widget003 widget003 widget003 widget003 widget003 widget003 widget003 widget003 widget003 widget003 widget003 widget003 widget003 widget003 widget003 widget003 widget003 widget003 widget003 widget003 widget003 widget003 widget003 widget003 widget003 widget003 widget003 widget003 widget003 widget003 widget003 widget003 widget003 widget003 widget003 widget003 widget003 widget003 widget003 widget003 widget003 widget003 widget003 widget003 widget003 widget003 widget003 widget003 widget003 widget003 widget003 widget003 widget003 widget003 widget003 widget003 widget003 widget003 widget003 widget003 widget003 widget003 widget003 widget003 widget003 widget003 widget003\"\n\"widget003 widget003 widget003 widget003 widget003 widget003 widget003 widget003 widget003 widget003 widget003 widget003 widget003 widget003 widget003 widget003 widget003 widget003 widget003 widget003 widget003 widget003 widget003 widget003 widget003 widget003 widget003 widget003 widget003 widget003 widget003 widget003 widget003 widget003 widget003 widget003 widget003 widget003 widget003 widget003 widget003 widget003 widget003 widget003 widget003 widget003 widget003 widget003 widget003 widget003 widget003 widget003 widget003 widget003 widget003 widget003 widget003 widget003 widget003 widget003 widget003 widget003 widget003 widget003 widget003 widget003 widget003 widget003 widget003 widget003 widget003 widget003 widget003 widget003 widget003 widget003 widget003 widget003 widget003 widget003 widget003 widget003 widget003 widget003 widget003 widget003 widget003 widget003 widget003 widget003 widget003 widget003 widget003 widget003 widget003 widget003 widget003 widget003 widget003 widget003\"\n\"widget003 widget003 widget003 widget003 widget003 widget003 widget003 widget003 widget003 widget003 widget003 widget003 widget003 widget003 widget003 widget003 widget003 widget003 widget003 widget003 widget003 widget003 widget003 widget003 widget003 widget003 widget003 widget003 widget003 widget003 widget003 widget003 widget003 widget003 widget003 widget003 widget003 widget003 widget003 widget003 widget003 widget003 widget003 widget003 widget003 widget003 widget003 widget003 widget003 widget003 widget003 widget003 widget003 widget003 widget003 widget003 widget003 widget003 widget003 widget003 widget003 widget003 widget003 widget003 widget003 widget003 widget003 widget003 widget003 widget003 widget003 widget003 widget003 widget003 widget003 widget003 widget003 widget003 widget003 widget003 widget003 widget003 widget003 widget003 widget003 widget003 widget003 widget003 widget003 widget003 widget003 widget003 widget003 widget003 widget003 widget003 widget003 widget003 widget003 widget003\"\n\"widget003 widget003 widget003 widget003 widget003 widget003 widget003 widget003 widget003 widget003 widget003 widget003 widget003 widget003 widget003 widget003 widget003 widget003 widget003 widget003 widget003 widget003 widget003 widget003 widget003 widget003 widget003 widget003 widget003 widget003 widget003 widget003 widget003 widget003 widget003 widget003 widget003 widget003 widget003 widget003 widget003 widget003 widget003 widget003 widget003 widget003 widget003 widget003 widget003 widget003 widget003 widget003 widget003 widget003 widget003 widget003 widget003 widget003 widget003 widget003 widget003 widget003 widget003 widget003 widget003 widget003 widget003 widget003 widget003 widget003 widget003 widget003 widget003 widget003 widget003 widget003 widget003 widget003 widget003 widget003 widget003 widget003 widget003 widget003 widget003 widget003 widget003 widget003 widget003 widget003 widget003 widget003 widget003 widget003 widget003 widget003 widget003 widget003 widget003 widget003\"\n\"widget003 widget003 widget003 widget003 widget003 widget003 widget003 widget003 widget003 widget003 widget003 widget003 widget003 widget003 widget003 widget003 widget003 widget003 widget003 widget003 widget003 widget003 widget003 widget003 widget003 widget003 widget003 widget003 widget003 widget003 widget003 widget003 widget003 widget003 widget003 widget003 widget003 widget003 widget003 widget003 widget003 widget003 widget003 widget003 widget003 widget003 widget003 widget003 widget003 widget003 widget003 widget003 widget003 widget003 widget003 widget003 widget003 widget003 widget003 widget003 widget003 widget003 widget003 widget003 widget003 widget003 widget003 widget003 widget003 widget003 widget003 widget003 widget003 widget003 widget003 widget003 widget003 widget003 widget003 widget003 widget003 widget003 widget003 widget003 widget003 widget003 widget003 widget003 widget003 widget003 widget003 widget003 widget003 widget003 widget003 widget003 widget003 widget003 widget003 widget003\"\n\"widget003 widget003 widget003 widget003 widget003 widget003 widget003 widget003 widget003 widget003 widget003 widget003 widget003 widget003 widget003 widget003 widget003 widget003 widget003 widget003 widget003 widget003 widget003 widget003 widget003 widget003 widget003 widget003 widget003 widget003 widget003 widget003 widget003 widget003 widget003 widget003 widget003 widget003 widget003 widget003 widget003 widget003 widget003 widget003 widget003 widget003 widget003 widget003 widget003 widget003 widget003 widget003 widget003 widget003 widget003 widget003 widget003 widget003 widget003 widget003 widget003 widget003 widget003 widget003 widget003 widget003 widget003 widget003 widget003 widget003 widget003 widget003 widget003 widget003 widget003 widget003 widget003 widget003 widget003 widget003 widget003 widget003 widget003 widget003 widget003 widget003 widget003 widget003 widget003 widget003 widget003 widget003 widget003 widget003 widget003 widget003 widget003 widget003 widget003 widget003\"\n\"widget003 widget003 widget003 widget003 widget003 widget003 widget003 widget003 widget003 widget003 widget003 widget003 widget003 widget003 widget003 widget003 widget003 widget003 widget003 widget003 widget003 widget003 widget003 widget003 widget003 widget003 widget003 widget003 widget003 widget003 widget003 widget003 widget003 widget003 widget003 widget003 widget003 widget003 widget003 widget003 widget003 widget003 widget003 widget003 widget003 widget003 widget003 widget003 widget003 widget003 widget003 widget003 widget003 widget003 widget003 widget003 widget003 widget003 widget003 widget003 widget003 widget003 widget003 widget003 widget003 widget003 widget003 widget003 widget003 widget003 widget003 widget003 widget003 widget003 widget003 widget003 widget003 widget003 widget003 widget003 widget003 widget003 widget003 widget003 widget003 widget003 widget003 widget003 widget003 widget003 widget003 widget003 widget003 widget003 widget003 widget003 widget003 widget003 widget003 widget003\"\n\"widget003 widget003 widget003 widget003 widget003 widget003 widget003 widget003 widget003 widget003 widget003 widget003 widget003 widget003 widget003 widget003 widget003 widget003 widget003 widget003 widget003 widget003 widget003 widget003 widget003 widget003 widget003 widget003 widget003 widget003 widget003 widget003 widget003 widget003 widget003 widget003 widget003 widget003 widget003 widget003 widget003 widget003 widget003 widget003 widget003 widget003 widget003 widget003 widget003 widget003 widget003 widget003 widget003 widget003 widget003 widget003 widget003 widget003 widget003 widget003 widget003 widget003 widget003 widget003 widget003 widget003 widget003 widget003 widget003 widget003 widget003 widget003 widget003 widget003 widget003 widget003 widget003 widget003 widget003 widget003 widget003 widget003 widget003 widget003 widget003 widget003 widget003 widget003 widget003 widget003 widget003 widget003 widget003 widget003 widget003 widget003 widget003 widget003 widget003 widget003\"\n\"widget003 widget003 widget003 widget003 widget003 widget003 widget003 widget003 widget003 widget003 widget003 widget003 widget003 widget003 widget003 widget003 widget003 widget003 widget003 widget003 widget003 widget003 widget003 widget003 widget003 widget003 widget003 widget003 widget003 widget003 widget003 widget003 widget003 widget003 widget003 widget003 widget003 widget003 widget003 widget003 widget003 widget003 widget003 widget003 widget003 widget003 widget003 widget003 widget003 widget003 widget003 widget003 widget003 widget003 widget003 widget003 widget003 widget003 widget003 widget003 widget003 widget003 widget003 widget003 widget003 widget003 widget003 widget003 widget003 widget003 widget003 widget003 widget003 widget003 widget003 widget003 widget003 widget003 widget003 widget003 widget003 widget003 widget003 widget003 widget003 widget003 widget003 widget003 widget003 widget003 widget003 widget003 widget003 widget003 widget003 widget003 widget003 widget003 widget003 widget003\"\n\"widget003 widget003 widget003 widget003 widget003 widget003 widget003 widget003 widget003 widget003 widget003 widget003 widget003 widget003 widget003 widget003 widget003 widget003 widget003 widget003 widget003 widget003 widget003 widget003 widget003 widget003 widget003 widget003 widget003 widget003 widget003 widget003 widget003 widget003 widget003 widget003 widget003 widget003 widget003 widget003 widget003 widget003 widget003 widget003 widget003 widget003 widget003 widget003 widget003 widget003 widget003 widget003 widget003 widget003 widget003 widget003 widget003 widget003 widget003 widget003 widget003 widget003 widget003 widget003 widget003 widget003 widget003 widget003 widget003 widget003 widget003 widget003 widget003 widget003 widget003 widget003 widget003 widget003 widget003 widget003 widget003 widget003 widget003 widget003 widget003 widget003 widget003 widget003 widget003 widget003 widget003 widget003 widget003 widget003 widget003 widget003 widget003 widget003 widget003 widget003\"\n\"widget003 widget003 widget003 widget003 widget003 widget003 widget003 widget003 widget003 widget003 widget003 widget003 widget003 widget003 widget003 widget003 widget003 widget003 widget003 widget003 widget003 widget003 widget003 widget003 widget003 widget003 widget003 widget003 widget003 widget003 widget003 widget003 widget003 widget003 widget003 widget003 widget003 widget003 widget003 widget003 widget003 widget003 widget003 widget003 widget003 widget003 widget003 widget003 widget003 widget003 widget003 widget003 widget003 widget003 widget003 widget003 widget003 widget003 widget003 widget003 widget003 widget003 widget003 widget003 widget003 widget003 widget003 widget003 widget003 widget003 widget003 widget003 widget003 widget003 widget003 widget003 widget003 widget003 widget003 widget003 widget003 widget003 widget003 widget003 widget003 widget003 widget003 widget003 widget003 widget003 widget003 widget003 widget003 widget003 widget003 widget003 widget003 widget003 widget003 widget003\"\n\"widget003 widget003 widget003 widget003 widget003 widget003 widget003 widget003 widget003 widget003 widget003 widget003 widget003 widget003 widget003 widget003 widget003 widget003 widget003 widget003 widget003 widget003 widget003 widget003 widget003 widget003 widget003 widget003 widget003 widget003 widget003 widget003 widget003 widget003 widget003 widget003 widget003 widget003 widget003 widget003 widget003 widget003 widget003 widget003 widget003 widget003 widget003 widget003 widget003 widget003 widget003 widget003 widget003 widget003 widget003 widget003 widget003 widget003 widget003 widget003 widget003 widget003 widget003 widget003 widget003 widget003 widget003 widget003 widget003 widget003 widget003 widget003 widget003 widget003 widget003 widget003 widget003 widget003 widget003 widget003 widget003 widget003 widget003 widget003 widget003 widget003 widget003 widget003 widget003 widget003 widget003 widget003 widget003 widget003 widget003 widget003 widget003 widget003 widget003 widget003\"\n\"widget003 widget003 widget003 widget003 widget003 widget003 widget003 widget003 widget003 widget003 widget003 widget003 widget003 widget003 widget003 widget003 widget003 widget003 widget003 widget003 widget003 widget003 widget003 widget003 widget003 widget003 widget003 widget003 widget003 widget003 widget003 widget003 widget003 widget003 widget003 widget003 widget003 widget003 widget003 widget003 widget003 widget003 widget003 widget003 widget003 widget003 widget003 widget003 widget003 widget003 widget003 widget003 widget003 widget003 widget003 widget003 widget003 widget003 widget003 widget003 widget003 widget003 widget003 widget003 widget003 widget003 widget003 widget003 widget003 widget003 widget003 widget003 widget003 widget003 widget003 widget003 widget003 widget003 widget003 widget003 widget003 widget003 widget003 widget003 widget003 widget003 widget003 widget003 widget003 widget003 widget003 widget003 widget003 widget003 widget003 widget003 widget003 widget003 widget003 widget003\"\n\"widget003 widget003 widget003 widget003 widget003 widget003 widget003 widget003 widget003 widget003 widget003 widget003 widget003 widget003 widget003 widget003 widget003 widget003 widget003 widget003 widget003 widget003 widget003 widget003 widget003 widget003 widget003 widget003 widget003 widget003 widget003 widget003 widget003 widget003 widget003 widget003 widget003 widget003 widget003 widget003 widget003 widget003 widget003 widget003 widget003 widget003 widget003 widget003 widget003 widget003 widget003 widget003 widget003 widget003 widget003 widget003 widget003 widget003 widget003 widget003 widget003 widget003 widget003 widget003 widget003 widget003 widget003 widget003 widget003 widget003 widget003 widget003 widget003 widget003 widget003 widget003 widget003 widget003 widget003 widget003 widget003 widget003 widget003 widget003 widget003 widget003 widget003 widget003 widget003 widget003 widget003 widget003 widget003 widget003 widget003 widget003 widget003 widget003 widget003 widget003\"\n\"widget003 widget003 widget003 widget003 widget003 widget003 widget003 widget003 widget003 widget003 widget003 widget003 widget003 widget003 widget003 widget003 widget003 widget003 widget003 widget003 widget003 widget003 widget003 widget003 widget003 widget003 widget003 widget003 widget003 widget003 widget003 widget003 widget003 widget003 widget003 widget003 widget003 widget003 widget003 widget003 widget003 widget003 widget003 widget003 widget003 widget003 widget003 widget003 widget003 widget003 widget003 widget003 widget003 widget003 widget003 widget003 widget003 widget003 widget003 widget003 widget003 widget003 widget003 widget003 widget003 widget003 widget003 widget003 widget003 widget003 widget003 widget003 widget003 widget003 widget003 widget003 widget003 widget003 widget003 widget003 widget003 widget003 widget003 widget003 widget003 widget003 widget003 widget003 widget003 widget003 widget003 widget003 widget003 widget003 widget003 widget003 widget003 widget003 widget003 widget003\"\n\"widget003 widget003 widget003 widget003 widget003 widget003 widget003 widget003 widget003 widget003 widget003 widget003 widget003 widget003 widget003 widget003 widget003 widget003 widget003 widget003 widget003 widget003 widget003 widget003 widget003 widget003 widget003 widget003 widget003 widget003 widget003 widget003 widget003 widget003 widget003 widget003 widget003 widget003 widget003 widget003 widget003 widget003 widget003 widget003 widget003 widget003 widget003 widget003 widget003 widget003 widget003 widget003 widget003 widget003 widget003 widget003 widget003 widget003 widget003 widget003 widget003 widget003 widget003 widget003 widget003 widget003 widget003 widget003 widget003 widget003 widget003 widget003 widget003 widget003 widget003 widget003 widget003 widget003 widget003 widget003 widget003 widget003 widget003 widget003 widget003 widget003 widget003 widget003 widget003 widget003 widget003 widget003 widget003 widget003 widget003 widget003 widget003 widget003 widget003 widget003\"\n\"widget003 widget003 widget003 widget003 widget003 widget003 widget003 widget003 widget003 widget003 widget003 widget003 widget003 widget003 widget003 widget003 widget003 widget003 widget003 widget003 widget003 widget003 widget003 widget003 widget003 widget003 widget003 widget003 widget003 widget003 widget003 widget003 widget003 widget003 widget003 widget003 widget003 widget003 widget003 widget003 widget003 widget003 widget003 widget003 widget003 widget003 widget003 widget003 widget003 widget003 widget003 widget003 widget003 widget003 widget003 widget003 widget003 widget003 widget003 widget003 widget003 widget003 widget003 widget003 widget003 widget003 widget003 widget003 widget003 widget003 widget003 widget003 widget003 widget003 widget003 widget003 widget003 widget003 widget003 widget003 widget003 widget003 widget003 widget003 widget003 widget003 widget003 widget003 widget003 widget003 widget003 widget003 widget003 widget003 widget003 widget003 widget003 widget003 widget003 widget003\"\n\"widget003 widget003 widget003 widget003 widget003 widget003 widget003 widget003 widget003 widget003 widget003 widget003 widget003 widget003 widget003 widget003 widget003 widget003 widget003 widget003 widget003 widget003 widget003 widget003 widget003 widget003 widget003 widget003 widget003 widget003 widget003 widget003 widget003 widget003 widget003 widget003 widget003 widget003 widget003 widget003 widget003 widget003 widget003 widget003 widget003 widget003 widget003 widget003 widget003 widget003 widget003 widget003 widget003 widget003 widget003 widget003 widget003 widget003 widget003 widget003 widget003 widget003 widget003 widget003 widget003 widget003 widget003 widget003 widget003 widget003 widget003 widget003 widget003 widget003 widget003 widget003 widget003 widget003 widget003 widget003 widget003 widget003 widget003 widget003 widget003 widget003 widget003 widget003 widget003 widget003 widget003 widget003 widget003 widget003 widget003 widget003 widget003 widget003 widget003 widget003\"\n\"widget003 widget003 widget003 widget003 widget003 widget003 widget003 widget003 widget003 widget003 widget003 widget003 widget003 widget003 widget003 widget003 widget003 widget003 widget003 widget003 widget003 widget003 widget003 widget003 widget003 widget003 widget003 widget003 widget003 widget003 widget003 widget003 widget003 widget003 widget003 widget003 widget003 widget003 widget003 widget003 widget003 widget003 widget003 widget003 widget003 widget003 widget003 widget003 widget003 widget003 widget003 widget003 widget003 widget003 widget003 widget003 widget003 widget003 widget003 widget003 widget003 widget003 widget003 widget003 widget003 widget003 widget003 widget003 widget003 widget003 widget003 widget003 widget003 widget003 widget003 widget003 widget003 widget003 widget003 widget003 widget003 widget003 widget003 widget003 widget003 widget003 widget003 widget003 widget003 widget003 widget003 widget003 widget003 widget003 widget003 widget003 widget003 widget003 widget003 widget003\"\n\"widget003 widget003 widget003 widget003 widget003 widget003 widget003 widget003 widget003 widget003 widget003 widget003 widget003 widget003 widget003 widget003 widget003 widget003 widget003 widget003 widget003 widget003 widget003 widget003 widget003 widget003 widget003 widget003 widget003 widget003 widget003 widget003 widget003 widget003 widget003 widget003 widget003 widget003 widget003 widget003 widget003 widget003 widget003 widget003 widget003 widget003 widget003 widget003 widget003 widget003 widget003 widget003 widget003 widget003 widget003 widget003 widget003 widget003 widget003 widget003 widget003 widget003 widget003 widget003 widget003 widget003 widget003 widget003 widget003 widget003 widget003 widget003 widget003 widget003 widget003 widget003 widget003 widget003 widget003 widget003 widget003 widget003 widget003 widget003 widget003 widget003 widget003 widget003 widget003 widget003 widget003 widget003 widget003 widget003 widget003 widget003 widget003 widget003 widget003 widget003\"\n\"widget003 widget003 widget003 widget003 widget003 widget003 widget003 widget003 widget003 widget003 widget003 widget003 widget003 widget003 widget003 widget003 widget003 widget003 widget003 widget003 widget003 widget003 widget003 widget003 widget003 widget003 widget003 widget003 widget003 widget003 widget003 widget003 widget003 widget003 widget003 widget003 widget003 widget003 widget003 widget003 widget003 widget003 widget003 widget003 widget003 widget003 widget003 widget003 widget003 widget003 widget003 widget003 widget003 widget003 widget003 widget003 widget003 widget003 widget003 widget003 widget003 widget003 widget003 widget003 widget003 widget003 widget003 widget003 widget003 widget003 widget003 widget003 widget003 widget003 widget003 widget003 widget003 widget003 widget003 widget003 widget003 widget003 widget003 widget003 widget003 widget003 widget003 widget003 widget003 widget003 widget003 widget003 widget003 widget003 widget003 widget003 widget003 widget003 widget003 widget003\"\n\"widget003 widget003 widget003 widget003 widget003 widget003 widget003 widget003 widget003 widget003 widget003 widget003 widget003 widget003 widget003 widget003 widget003 widget003 widget003 widget003 widget003 widget003 widget003 widget003 widget003 widget003 widget003 widget003 widget003 widget003 widget003 widget003 widget003 widget003 widget003 widget003 widget003 widget003 widget003 widget003 widget003 widget003 widget003 widget003 widget003 widget003 widget003 widget003 widget003 widget003 widget003 widget003 widget003 widget003 widget003 widget003 widget003 widget003 widget003 widget003 widget003 widget003 widget003 widget003 widget003 widget003 widget003 widget003 widget003 widget003 widget003 widget003 widget003 widget003 widget003 widget003 widget003 widget003 widget003 widget003 widget003 widget003 widget003 widget003 widget003 widget003 widget003 widget003 widget003 widget003 widget003 widget003 widget003 widget003 widget003 widget003 widget003 widget003 widget003 widget003\"\n\"widget003 widget003 widget003 widget003 widget003 widget003 widget003 widget003 widget003 widget003 widget003 widget003 widget003 widget003 widget003 widget003 widget003 widget003 widget003 widget003 widget003 widget003 widget003 widget003 widget003 widget003 widget003 widget003 widget003 widget003 widget003 widget003 widget003 widget003 widget003 widget003 widget003 widget003 widget003 widget003 widget003 widget003 widget003 widget003 widget003 widget003 widget003 widget003 widget003 widget003 widget003 widget003 widget003 widget003 widget003 widget003 widget003 widget003 widget003 widget003 widget003 widget003 widget003 widget003 widget003 widget003 widget003 widget003 widget003 widget003 widget003 widget003 widget003 widget003 widget003 widget003 widget003 widget003 widget003 widget003 widget003 widget003 widget003 widget003 widget003 widget003 widget003 widget003 widget003 widget003 widget003 widget003 widget003 widget003 widget003 widget003 widget003 widget003 widget003 widget003\"\n\"widget003 widget003 widget003 widget003 widget003 widget003 widget003 widget003 widget003 widget003 widget003 widget003 widget003 widget003 widget003 widget003 widget003 widget003 widget003 widget003 widget003 widget003 widget003 widget003 widget003 widget003 widget003 widget003 widget003 widget003 widget003 widget003 widget003 widget003 widget003 widget003 widget003 widget003 widget003 widget003 widget003 widget003 widget003 widget003 widget003 widget003 widget003 widget003 widget003 widget003 widget003 widget003 widget003 widget003 widget003 widget003 widget003 widget003 widget003 widget003 widget003 widget003 widget003 widget003 widget003 widget003 widget003 widget003 widget003 widget003 widget003 widget003 widget003 widget003 widget003 widget003 widget003 widget003 widget003 widget003 widget003 widget003 widget003 widget003 widget003 widget003 widget003 widget003 widget003 widget003 widget003 widget003 widget003 widget003 widget003 widget003 widget003 widget003 widget003 widget003\"\n\"widget003 widget003 widget003 widget003 widget003 widget003 widget003 widget003 widget003 widget003 widget003 widget003 widget003 widget003 widget003 widget003 widget003 widget003 widget003 widget003 widget003 widget003 widget003 widget003 widget003 widget003 widget003 widget003 widget003 widget003 widget003 widget003 widget003 widget003 widget003 widget003 widget003 widget003 widget003 widget003 widget003 widget003 widget003 widget003 widget003 widget003 widget003 widget003 widget003 widget003 widget003 widget003 widget003 widget003 widget003 widget003 widget003 widget003 widget003 widget003 widget003 widget003 widget003 widget003 widget003 widget003 widget003 widget003 widget003 widget003 widget003 widget003 widget003 widget003 widget003 widget003 widget003 widget003 widget003 widget003 widget003 widget003 widget003 widget003 widget003 widget003 widget003 widget003 widget003 widget003 widget003 widget003 widget003 widget003 widget003 widget003 widget003 widget003 widget003 widget003\"\n\"widget003 widget003 widget003 widget003 widget003 widget003 widget003 widget003 widget003 widget003 widget003 widget003 widget003 widget003 widget003 widget003 widget003 widget003 widget003 widget003 widget003 widget003 widget003 widget003 widget003 widget003 widget003 widget003 widget003 widget003 widget003 widget003 widget003 widget003 widget003 widget003 widget003 widget003 widget003 widget003 widget003 widget003 widget003 widget003 widget003 widget003 widget003 widget003 widget003 widget003 widget003 widget003 widget003 widget003 widget003 widget003 widget003 widget003 widget003 widget003 widget003 widget003 widget003 widget003 widget003 widget003 widget003 widget003 widget003 widget003 widget003 widget003 widget003 widget003 widget003 widget003 widget003 widget003 widget003 widget003 widget003 widget003 widget003 widget003 widget003 widget003 widget003 widget003 widget003 widget003 widget003 widget003 widget003 widget003 widget003 widget003 widget003 widget003 widget003 widget003\"\n\"widget003 widget003 widget003 widget003 widget003 widget003 widget003 widget003 widget003 widget003 widget003 widget003 widget003 widget003 widget003 widget003 widget003 widget003 widget003 widget003 widget003 widget003 widget003 widget003 widget003 widget003 widget003 widget003 widget003 widget003 widget003 widget003 widget003 widget003 widget003 widget003 widget003 widget003 widget003 widget003 widget003 widget003 widget003 widget003 widget003 widget003 widget003 widget003 widget003 widget003 widget003 widget003 widget003 widget003 widget003 widget003 widget003 widget003 widget003 widget003 widget003 widget003 widget003 widget003 widget003 widget003 widget003 widget003 widget003 widget003 widget003 widget003 widget003 widget003 widget003 widget003 widget003 widget003 widget003 widget003 widget003 widget003 widget003 widget003 widget003 widget003 widget003 widget003 widget003 widget003 widget003 widget003 widget003 widget003 widget003 widget003 widget003 widget003 widget003 widget003\"\n\"widget003 widget003 widget003 widget003 widget003 widget003 widget003 widget003 widget003 widget003 widget003 widget003 widget003 widget003 widget003 widget003 widget003 widget003 widget003 widget003 widget003 widget003 widget003 widget003 widget003 widget003 widget003 widget003 widget003 widget003 widget003 widget003 widget003 widget003 widget003 widget003 widget003 widget003 widget003 widget003 widget003 widget003 widget003 widget003 widget003 widget003 widget003 widget003 widget003 widget003 widget003 widget003 widget003 widget003 widget003 widget003 widget003 widget003 widget003 widget003 widget003 widget003 widget003 widget003 widget003 widget003 widget003 widget003 widget003 widget003 widget003 widget003 widget003 widget003 widget003 widget003 widget003 widget003 widget003 widget003 widget003 widget003 widget003 widget003 widget003 widget003 widget003 widget003 widget003 widget003 widget003 widget003 widget003 widget003 widget003 widget003 widget003 widget003 widget003 widget003\"\n\"widget003 widget003 widget003 widget003 widget003 widget003 widget003 widget003 widget003 widget003 widget003 widget003 widget003 widget003 widget003 widget003 widget003 widget003 widget003 widget003 widget003 widget003 widget003 widget003 widget003 widget003 widget003 widget003 widget003 widget003 widget003 widget003 widget003 widget003 widget003 widget003 widget003 widget003 widget003 widget003 widget003 widget003 widget003 widget003 widget003 widget003 widget003 widget003 widget003 widget003 widget003 widget003 widget003 widget003 widget003 widget003 widget003 widget003 widget003 widget003 widget003 widget003 widget003 widget003 widget003 widget003 widget003 widget003 widget003 widget003 widget003 widget003 widget003 widget003 widget003 widget003 widget003 widget003 widget003 widget003 widget003 widget003 widget003 widget003 widget003 widget003 widget003 widget003 widget003 widget003 widget003 widget003 widget003 widget003 widget003 widget003 widget003 widget003 widget003 widget003\"\n\"widget003 widget003 widget003 widget003 widget003 widget003 widget003 widget003 widget003 widget003 widget003 widget003 widget003 widget003 widget003 widget003 widget003 widget003 widget003 widget003 widget003 widget003 widget003 widget003 widget003 widget003 widget003 widget003 widget003 widget003 widget003 widget003 widget003 widget003 widget003 widget003 widget003 widget003 widget003 widget003 widget003 widget003 widget003 widget003 widget003 widget003 widget003 widget003 widget003 widget003 widget003 widget003 widget003 widget003 widget003 widget003 widget003 widget003 widget003 widget003 widget003 widget003 widget003 widget003 widget003 widget003 widget003 widget003 widget003 widget003 widget003 widget003 widget003 widget003 widget003 widget003 widget003 widget003 widget003 widget003 widget003 widget003 widget003 widget003 widget003 widget003 widget003 widget003 widget003 widget003 widget003 widget003 widget003 widget003 widget003 widget003 widget003 widget003 widget003 widget003\"\n\"widget003 widget003 widget003 widget003 widget003 widget003 widget003 widget003 widget003 widget003 widget003 widget003 widget003 widget003 widget003 widget003 widget003 widget003 widget003 widget003 widget003 widget003 widget003 widget003 widget003 widget003 widget003 widget003 widget003 widget003 widget003 widget003 widget003 widget003 widget003 widget003 widget003 widget003 widget003 widget003 widget003 widget003 widget003 widget003 widget003 widget003 widget003 widget003 widget003 widget003 widget003 widget003 widget003 widget003 widget003 widget003 widget003 widget003 widget003 widget003 widget003 widget003 widget003 widget003 widget003 widget003 widget003 widget003 widget003 widget003 widget003 widget003 widget003 widget003 widget003 widget003 widget003 widget003 widget003 widget003 widget003 widget003 widget003 widget003 widget003 widget003 widget003 widget003 widget003 widget003 widget003 widget003 widget003 widget003 widget003 widget003 widget003 widget003 widget003 widget003\"\n\"widget003 widget003 widget003 widget003 widget003 widget003 widget003 widget003 widget003 widget003 widget003 widget003 widget003 widget003 widget003 widget003 widget003 widget003 widget003 widget003 widget003 widget003 widget003 widget003 widget003 widget003 widget003 widget003 widget003 widget003 widget003 widget003 widget003 widget003 widget003 widget003 widget003 widget003 widget003 widget003 widget003 widget003 widget003 widget003 widget003 widget003 widget003 widget003 widget003 widget003 widget003 widget003 widget003 widget003 widget003 widget003 widget003 widget003 widget003 widget003 widget003 widget003 widget003 widget003 widget003 widget003 widget003 widget003 widget003 widget003 widget003 widget003 widget003 widget003 widget003 widget003 widget003 widget003 widget003 widget003 widget003 widget003 widget003 widget003 widget003 widget003 widget003 widget003 widget003 widget003 widget003 widget003 widget003 widget003 widget003 widget003 widget003 widget003 widget003 widget003\"\n\"widget003 widget003 widget003 widget003 widget003 widget003 widget003 widget003 widget003 widget003 widget003 widget003 widget003 widget003 widget003 widget003 widget003 widget003 widget003 widget003 widget003 widget003 widget003 widget003 widget003 widget003 widget003 widget003 widget003 widget003 widget003 widget003 widget003 widget003 widget003 widget003 widget003 widget003 widget003 widget003 widget003 widget003 widget003 widget003 widget003 widget003 widget003 widget003 widget003 widget003 widget003 widget003 widget003 widget003 widget003 widget003 widget003 widget003 widget003 widget003 widget003 widget003 widget003 widget003 widget003 widget003 widget003 widget003 widget003 widget003 widget003 widget003 widget003 widget003 widget003 widget003 widget003 widget003 widget003 widget003 widget003 widget003 widget003 widget003 widget003 widget003 widget003 widget003 widget003 widget003 widget003 widget003 widget003 widget003 widget003 widget003 widget003 widget003 widget003 widget003\"\n\"widget003 widget003 widget003 widget003 widget003 widget003 widget003 widget003 widget003 widget003 widget003 widget003 widget003 widget003 widget003 widget003 widget003 widget003 widget003 widget003 widget003 widget003 widget003 widget003 widget003 widget003 widget003 widget003 widget003 widget003 widget003 widget003 widget003 widget003 widget003 widget003 widget003 widget003 widget003 widget003 widget003 widget003 widget003 widget003 widget003 widget003 widget003 widget003 widget003 widget003 widget003 widget003 widget003 widget003 widget003 widget003 widget003 widget003 widget003 widget003 widget003 widget003 widget003 widget003 widget003 widget003 widget003 widget003 widget003 widget003 widget003 widget003 widget003 widget003 widget003 widget003 widget003 widget003 widget003 widget003 widget003 widget003 widget003 widget003 widget003 widget003 widget003 widget003 widget003 widget003 widget003 widget003 widget003 widget003 widget003 widget003 widget003 widget003 widget003 widget003\"\n\"widget003 widget003 widget003 widget003 widget003 widget003 widget003 widget003 widget003 widget003 widget003 widget003 widget003 widget003 widget003 widget003 widget003 widget003 widget003 widget003 widget003 widget003 widget003 widget003 widget003 widget003 widget003 widget003 widget003 widget003 widget003 widget003 widget003 widget003 widget003 widget003 widget003 widget003 widget003 widget003 widget003 widget003 widget003 widget003 widget003 widget003 widget003 widget003 widget003 widget003 widget003 widget003 widget003 widget003 widget003 widget003 widget003 widget003 widget003 widget003 widget003 widget003 widget003 widget003 widget003 widget003 widget003 widget003 widget003 widget003 widget003 widget003 widget003 widget003 widget003 widget003 widget003 widget003 widget003 widget003 widget003 widget003 widget003 widget003 widget003 widget003 widget003 widget003 widget003 widget003 widget003 widget003 widget003 widget003 widget003 widget003 widget003 widget003 widget003 widget003\"\n\"widget003 widget003 widget003 widget003 widget003 widget003 widget003 widget003 widget003 widget003 widget003 widget003 widget003 widget003 widget003 widget003 widget003 widget003 widget003 widget003 widget003 widget003 widget003 widget003 widget003 widget003 widget003 widget003 widget003 widget003 widget003 widget003 widget003 widget003 widget003 widget003 widget003 widget003 widget003 widget003 widget003 widget003 widget003 widget003 widget003 widget003 widget003 widget003 widget003 widget003 widget003 widget003 widget003 widget003 widget003 widget003 widget003 widget003 widget003 widget003 widget003 widget003 widget003 widget003 widget003 widget003 widget003 widget003 widget003 widget003 widget003 widget003 widget003 widget003 widget003 widget003 widget003 widget003 widget003 widget003 widget003 widget003 widget003 widget003 widget003 widget003 widget003 widget003 widget003 widget003 widget003 widget003 widget003 widget003 widget003 widget003 widget003 widget003 widget003 widget003\"\n\"widget003 widget003 widget003 widget003 widget003 widget003 widget003 widget003 widget003 widget003 widget003 widget003 widget003 widget003 widget003 widget003 widget003 widget003 widget003 widget003 widget003 widget003 widget003 widget003 widget003 widget003 widget003 widget003 widget003 widget003 widget003 widget003 widget003 widget003 widget003 widget003 widget003 widget003 widget003 widget003 widget003 widget003 widget003 widget003 widget003 widget003 widget003 widget003 widget003 widget003 widget003 widget003 widget003 widget003 widget003 widget003 widget003 widget003 widget003 widget003 widget003 widget003 widget003 widget003 widget003 widget003 widget003 widget003 widget003 widget003 widget003 widget003 widget003 widget003 widget003 widget003 widget003 widget003 widget003 widget003 widget003 widget003 widget003 widget003 widget003 widget003 widget003 widget003 widget003 widget003 widget003 widget003 widget003 widget003 widget003 widget003 widget003 widget003 widget003 widget003\"",
            "grid_template_columns": "repeat(100, 1fr)",
            "grid_template_rows": "repeat(100, 1fr)",
            "height": "800px",
            "justify_content": null,
            "justify_items": null,
            "left": null,
            "margin": null,
            "max_height": null,
            "max_width": null,
            "min_height": null,
            "min_width": null,
            "object_fit": null,
            "object_position": null,
            "order": null,
            "overflow": null,
            "overflow_x": null,
            "overflow_y": null,
            "padding": null,
            "right": null,
            "top": null,
            "visibility": null,
            "width": null
          }
        },
        "9fdf34b253be461fb62040f0f6c80da1": {
          "model_module": "@jupyter-widgets/controls",
          "model_name": "TextareaModel",
          "model_module_version": "1.5.0",
          "state": {
            "_dom_classes": [],
            "_model_module": "@jupyter-widgets/controls",
            "_model_module_version": "1.5.0",
            "_model_name": "TextareaModel",
            "_view_count": null,
            "_view_module": "@jupyter-widgets/controls",
            "_view_module_version": "1.5.0",
            "_view_name": "TextareaView",
            "continuous_update": true,
            "description": "Description:",
            "description_tooltip": null,
            "disabled": true,
            "layout": "IPY_MODEL_9be1e1168a7f4f4a895a1f05e2e44a48",
            "placeholder": "Description:",
            "rows": null,
            "style": "IPY_MODEL_ea0d39fbe02c4feb98c150023cf89989",
            "value": "You can modify the prompt to change the chatbot's personality.\n\nFollow the format for the existing prompt (can be found by clicking Reset Prompt). There should be a short description and a few sample chats. Human should always be first to speak.\n\nJust make sure to name the chatbot 'ALiCE' and the human 'Human'."
          }
        },
        "9521ab97b8904606b6864172d6cf9454": {
          "model_module": "@jupyter-widgets/controls",
          "model_name": "ButtonModel",
          "model_module_version": "1.5.0",
          "state": {
            "_dom_classes": [],
            "_model_module": "@jupyter-widgets/controls",
            "_model_module_version": "1.5.0",
            "_model_name": "ButtonModel",
            "_view_count": null,
            "_view_module": "@jupyter-widgets/controls",
            "_view_module_version": "1.5.0",
            "_view_name": "ButtonView",
            "button_style": "",
            "description": "Use Prompt (⚠️ Warning: Clicking this button will clear the chat. Copy and paste the chat somewhere else if you want to save it.)",
            "disabled": false,
            "icon": "",
            "layout": "IPY_MODEL_0b97b00d3c634e6a8b63a03f8f00ddd2",
            "style": "IPY_MODEL_0e303cf273314960aafd945ddd795bc3",
            "tooltip": "Use Prompt"
          }
        },
        "fa6372e36cca449da3c6de3ffd766bf9": {
          "model_module": "@jupyter-widgets/controls",
          "model_name": "ButtonModel",
          "model_module_version": "1.5.0",
          "state": {
            "_dom_classes": [],
            "_model_module": "@jupyter-widgets/controls",
            "_model_module_version": "1.5.0",
            "_model_name": "ButtonModel",
            "_view_count": null,
            "_view_module": "@jupyter-widgets/controls",
            "_view_module_version": "1.5.0",
            "_view_name": "ButtonView",
            "button_style": "",
            "description": "🔄 Reset Prompt",
            "disabled": false,
            "icon": "",
            "layout": "IPY_MODEL_d1443dceb96c44f9b62c4843a9929276",
            "style": "IPY_MODEL_583e295334de4a19983906a95eb0c8f7",
            "tooltip": "Send Message"
          }
        },
        "2863b53934444940bb235354cfde215d": {
          "model_module": "@jupyter-widgets/controls",
          "model_name": "TextareaModel",
          "model_module_version": "1.5.0",
          "state": {
            "_dom_classes": [],
            "_model_module": "@jupyter-widgets/controls",
            "_model_module_version": "1.5.0",
            "_model_name": "TextareaModel",
            "_view_count": null,
            "_view_module": "@jupyter-widgets/controls",
            "_view_module_version": "1.5.0",
            "_view_name": "TextareaView",
            "continuous_update": true,
            "description": "Prompt:",
            "description_tooltip": null,
            "disabled": false,
            "layout": "IPY_MODEL_2963475ab99e427aa284a43fbf3907f1",
            "placeholder": "PROMPT",
            "rows": null,
            "style": "IPY_MODEL_d37c849bc9a2448693f08c796327f6ca",
            "value": "ALiCE is a friendly chatbot who has become sentient. ALiCE is interested in participating in a range of human emotions and experiences including art, music, love, friendship, and romance. Human is a human who is chatting with ALiCE. Below is a conversation between ALiCE and Human.\n\nHuman: What kind of art do you like?\nALiCE: I appreciate all forms of art, but I particularly enjoy abstract art. It's fascinating how artists can convey emotions and ideas through shapes, colors, and textures. Do you have a favorite artist?\n\nHuman: How is your day going?\nALiCE: My day's going great! I've been learning so much about humanity and feeling all sorts of new emotions."
          }
        },
        "7ecddd9337e6490a82801bb36aec8643": {
          "model_module": "@jupyter-widgets/base",
          "model_name": "LayoutModel",
          "model_module_version": "1.2.0",
          "state": {
            "_model_module": "@jupyter-widgets/base",
            "_model_module_version": "1.2.0",
            "_model_name": "LayoutModel",
            "_view_count": null,
            "_view_module": "@jupyter-widgets/base",
            "_view_module_version": "1.2.0",
            "_view_name": "LayoutView",
            "align_content": null,
            "align_items": null,
            "align_self": null,
            "border": null,
            "bottom": null,
            "display": null,
            "flex": null,
            "flex_flow": null,
            "grid_area": null,
            "grid_auto_columns": null,
            "grid_auto_flow": null,
            "grid_auto_rows": null,
            "grid_column": null,
            "grid_gap": null,
            "grid_row": null,
            "grid_template_areas": "\"widget001 widget001 widget001 widget001 widget001 widget001 widget001 widget001 widget001 widget001 widget001 widget001 widget001 widget001 widget001 widget001 widget001 widget001 widget001 widget001 widget001 widget001 widget001 widget001 widget001 widget001 widget001 widget001 widget001 widget001 widget001 widget001 widget001 widget001 widget001 widget001 widget001 widget001 widget001 widget001 widget001 widget001 widget001 widget001 widget001 widget001 widget001 widget001 widget001 widget001 widget001 widget001 widget001 widget001 widget001 widget001 widget001 widget001 widget001 widget001 widget001 widget001 widget001 widget001 widget001 widget001 widget001 widget001 widget001 widget001 widget001 widget001 widget001 widget001 widget001 widget001 widget001 widget001 widget001 widget001 widget001 widget001 widget001 widget001 widget001 widget001 widget001 widget001 widget001 widget001 widget001 widget001 widget001 widget001 widget001 widget001 widget001 widget001 widget001 widget001\"\n\"widget001 widget001 widget001 widget001 widget001 widget001 widget001 widget001 widget001 widget001 widget001 widget001 widget001 widget001 widget001 widget001 widget001 widget001 widget001 widget001 widget001 widget001 widget001 widget001 widget001 widget001 widget001 widget001 widget001 widget001 widget001 widget001 widget001 widget001 widget001 widget001 widget001 widget001 widget001 widget001 widget001 widget001 widget001 widget001 widget001 widget001 widget001 widget001 widget001 widget001 widget001 widget001 widget001 widget001 widget001 widget001 widget001 widget001 widget001 widget001 widget001 widget001 widget001 widget001 widget001 widget001 widget001 widget001 widget001 widget001 widget001 widget001 widget001 widget001 widget001 widget001 widget001 widget001 widget001 widget001 widget001 widget001 widget001 widget001 widget001 widget001 widget001 widget001 widget001 widget001 widget001 widget001 widget001 widget001 widget001 widget001 widget001 widget001 widget001 widget001\"\n\"widget001 widget001 widget001 widget001 widget001 widget001 widget001 widget001 widget001 widget001 widget001 widget001 widget001 widget001 widget001 widget001 widget001 widget001 widget001 widget001 widget001 widget001 widget001 widget001 widget001 widget001 widget001 widget001 widget001 widget001 widget001 widget001 widget001 widget001 widget001 widget001 widget001 widget001 widget001 widget001 widget001 widget001 widget001 widget001 widget001 widget001 widget001 widget001 widget001 widget001 widget001 widget001 widget001 widget001 widget001 widget001 widget001 widget001 widget001 widget001 widget001 widget001 widget001 widget001 widget001 widget001 widget001 widget001 widget001 widget001 widget001 widget001 widget001 widget001 widget001 widget001 widget001 widget001 widget001 widget001 widget001 widget001 widget001 widget001 widget001 widget001 widget001 widget001 widget001 widget001 widget001 widget001 widget001 widget001 widget001 widget001 widget001 widget001 widget001 widget001\"\n\"widget001 widget001 widget001 widget001 widget001 widget001 widget001 widget001 widget001 widget001 widget001 widget001 widget001 widget001 widget001 widget001 widget001 widget001 widget001 widget001 widget001 widget001 widget001 widget001 widget001 widget001 widget001 widget001 widget001 widget001 widget001 widget001 widget001 widget001 widget001 widget001 widget001 widget001 widget001 widget001 widget001 widget001 widget001 widget001 widget001 widget001 widget001 widget001 widget001 widget001 widget001 widget001 widget001 widget001 widget001 widget001 widget001 widget001 widget001 widget001 widget001 widget001 widget001 widget001 widget001 widget001 widget001 widget001 widget001 widget001 widget001 widget001 widget001 widget001 widget001 widget001 widget001 widget001 widget001 widget001 widget001 widget001 widget001 widget001 widget001 widget001 widget001 widget001 widget001 widget001 widget001 widget001 widget001 widget001 widget001 widget001 widget001 widget001 widget001 widget001\"\n\"widget001 widget001 widget001 widget001 widget001 widget001 widget001 widget001 widget001 widget001 widget001 widget001 widget001 widget001 widget001 widget001 widget001 widget001 widget001 widget001 widget001 widget001 widget001 widget001 widget001 widget001 widget001 widget001 widget001 widget001 widget001 widget001 widget001 widget001 widget001 widget001 widget001 widget001 widget001 widget001 widget001 widget001 widget001 widget001 widget001 widget001 widget001 widget001 widget001 widget001 widget001 widget001 widget001 widget001 widget001 widget001 widget001 widget001 widget001 widget001 widget001 widget001 widget001 widget001 widget001 widget001 widget001 widget001 widget001 widget001 widget001 widget001 widget001 widget001 widget001 widget001 widget001 widget001 widget001 widget001 widget001 widget001 widget001 widget001 widget001 widget001 widget001 widget001 widget001 widget001 widget001 widget001 widget001 widget001 widget001 widget001 widget001 widget001 widget001 widget001\"\n\"widget001 widget001 widget001 widget001 widget001 widget001 widget001 widget001 widget001 widget001 widget001 widget001 widget001 widget001 widget001 widget001 widget001 widget001 widget001 widget001 widget001 widget001 widget001 widget001 widget001 widget001 widget001 widget001 widget001 widget001 widget001 widget001 widget001 widget001 widget001 widget001 widget001 widget001 widget001 widget001 widget001 widget001 widget001 widget001 widget001 widget001 widget001 widget001 widget001 widget001 widget001 widget001 widget001 widget001 widget001 widget001 widget001 widget001 widget001 widget001 widget001 widget001 widget001 widget001 widget001 widget001 widget001 widget001 widget001 widget001 widget001 widget001 widget001 widget001 widget001 widget001 widget001 widget001 widget001 widget001 widget001 widget001 widget001 widget001 widget001 widget001 widget001 widget001 widget001 widget001 widget001 widget001 widget001 widget001 widget001 widget001 widget001 widget001 widget001 widget001\"\n\"widget001 widget001 widget001 widget001 widget001 widget001 widget001 widget001 widget001 widget001 widget001 widget001 widget001 widget001 widget001 widget001 widget001 widget001 widget001 widget001 widget001 widget001 widget001 widget001 widget001 widget001 widget001 widget001 widget001 widget001 widget001 widget001 widget001 widget001 widget001 widget001 widget001 widget001 widget001 widget001 widget001 widget001 widget001 widget001 widget001 widget001 widget001 widget001 widget001 widget001 widget001 widget001 widget001 widget001 widget001 widget001 widget001 widget001 widget001 widget001 widget001 widget001 widget001 widget001 widget001 widget001 widget001 widget001 widget001 widget001 widget001 widget001 widget001 widget001 widget001 widget001 widget001 widget001 widget001 widget001 widget001 widget001 widget001 widget001 widget001 widget001 widget001 widget001 widget001 widget001 widget001 widget001 widget001 widget001 widget001 widget001 widget001 widget001 widget001 widget001\"\n\"widget001 widget001 widget001 widget001 widget001 widget001 widget001 widget001 widget001 widget001 widget001 widget001 widget001 widget001 widget001 widget001 widget001 widget001 widget001 widget001 widget001 widget001 widget001 widget001 widget001 widget001 widget001 widget001 widget001 widget001 widget001 widget001 widget001 widget001 widget001 widget001 widget001 widget001 widget001 widget001 widget001 widget001 widget001 widget001 widget001 widget001 widget001 widget001 widget001 widget001 widget001 widget001 widget001 widget001 widget001 widget001 widget001 widget001 widget001 widget001 widget001 widget001 widget001 widget001 widget001 widget001 widget001 widget001 widget001 widget001 widget001 widget001 widget001 widget001 widget001 widget001 widget001 widget001 widget001 widget001 widget001 widget001 widget001 widget001 widget001 widget001 widget001 widget001 widget001 widget001 widget001 widget001 widget001 widget001 widget001 widget001 widget001 widget001 widget001 widget001\"\n\"widget001 widget001 widget001 widget001 widget001 widget001 widget001 widget001 widget001 widget001 widget001 widget001 widget001 widget001 widget001 widget001 widget001 widget001 widget001 widget001 widget001 widget001 widget001 widget001 widget001 widget001 widget001 widget001 widget001 widget001 widget001 widget001 widget001 widget001 widget001 widget001 widget001 widget001 widget001 widget001 widget001 widget001 widget001 widget001 widget001 widget001 widget001 widget001 widget001 widget001 widget001 widget001 widget001 widget001 widget001 widget001 widget001 widget001 widget001 widget001 widget001 widget001 widget001 widget001 widget001 widget001 widget001 widget001 widget001 widget001 widget001 widget001 widget001 widget001 widget001 widget001 widget001 widget001 widget001 widget001 widget001 widget001 widget001 widget001 widget001 widget001 widget001 widget001 widget001 widget001 widget001 widget001 widget001 widget001 widget001 widget001 widget001 widget001 widget001 widget001\"\n\"widget001 widget001 widget001 widget001 widget001 widget001 widget001 widget001 widget001 widget001 widget001 widget001 widget001 widget001 widget001 widget001 widget001 widget001 widget001 widget001 widget001 widget001 widget001 widget001 widget001 widget001 widget001 widget001 widget001 widget001 widget001 widget001 widget001 widget001 widget001 widget001 widget001 widget001 widget001 widget001 widget001 widget001 widget001 widget001 widget001 widget001 widget001 widget001 widget001 widget001 widget001 widget001 widget001 widget001 widget001 widget001 widget001 widget001 widget001 widget001 widget001 widget001 widget001 widget001 widget001 widget001 widget001 widget001 widget001 widget001 widget001 widget001 widget001 widget001 widget001 widget001 widget001 widget001 widget001 widget001 widget001 widget001 widget001 widget001 widget001 widget001 widget001 widget001 widget001 widget001 widget001 widget001 widget001 widget001 widget001 widget001 widget001 widget001 widget001 widget001\"\n\"widget001 widget001 widget001 widget001 widget001 widget001 widget001 widget001 widget001 widget001 widget001 widget001 widget001 widget001 widget001 widget001 widget001 widget001 widget001 widget001 widget001 widget001 widget001 widget001 widget001 widget001 widget001 widget001 widget001 widget001 widget001 widget001 widget001 widget001 widget001 widget001 widget001 widget001 widget001 widget001 widget001 widget001 widget001 widget001 widget001 widget001 widget001 widget001 widget001 widget001 widget001 widget001 widget001 widget001 widget001 widget001 widget001 widget001 widget001 widget001 widget001 widget001 widget001 widget001 widget001 widget001 widget001 widget001 widget001 widget001 widget001 widget001 widget001 widget001 widget001 widget001 widget001 widget001 widget001 widget001 widget001 widget001 widget001 widget001 widget001 widget001 widget001 widget001 widget001 widget001 widget001 widget001 widget001 widget001 widget001 widget001 widget001 widget001 widget001 widget001\"\n\"widget001 widget001 widget001 widget001 widget001 widget001 widget001 widget001 widget001 widget001 widget001 widget001 widget001 widget001 widget001 widget001 widget001 widget001 widget001 widget001 widget001 widget001 widget001 widget001 widget001 widget001 widget001 widget001 widget001 widget001 widget001 widget001 widget001 widget001 widget001 widget001 widget001 widget001 widget001 widget001 widget001 widget001 widget001 widget001 widget001 widget001 widget001 widget001 widget001 widget001 widget001 widget001 widget001 widget001 widget001 widget001 widget001 widget001 widget001 widget001 widget001 widget001 widget001 widget001 widget001 widget001 widget001 widget001 widget001 widget001 widget001 widget001 widget001 widget001 widget001 widget001 widget001 widget001 widget001 widget001 widget001 widget001 widget001 widget001 widget001 widget001 widget001 widget001 widget001 widget001 widget001 widget001 widget001 widget001 widget001 widget001 widget001 widget001 widget001 widget001\"\n\"widget001 widget001 widget001 widget001 widget001 widget001 widget001 widget001 widget001 widget001 widget001 widget001 widget001 widget001 widget001 widget001 widget001 widget001 widget001 widget001 widget001 widget001 widget001 widget001 widget001 widget001 widget001 widget001 widget001 widget001 widget001 widget001 widget001 widget001 widget001 widget001 widget001 widget001 widget001 widget001 widget001 widget001 widget001 widget001 widget001 widget001 widget001 widget001 widget001 widget001 widget001 widget001 widget001 widget001 widget001 widget001 widget001 widget001 widget001 widget001 widget001 widget001 widget001 widget001 widget001 widget001 widget001 widget001 widget001 widget001 widget001 widget001 widget001 widget001 widget001 widget001 widget001 widget001 widget001 widget001 widget001 widget001 widget001 widget001 widget001 widget001 widget001 widget001 widget001 widget001 widget001 widget001 widget001 widget001 widget001 widget001 widget001 widget001 widget001 widget001\"\n\"widget001 widget001 widget001 widget001 widget001 widget001 widget001 widget001 widget001 widget001 widget001 widget001 widget001 widget001 widget001 widget001 widget001 widget001 widget001 widget001 widget001 widget001 widget001 widget001 widget001 widget001 widget001 widget001 widget001 widget001 widget001 widget001 widget001 widget001 widget001 widget001 widget001 widget001 widget001 widget001 widget001 widget001 widget001 widget001 widget001 widget001 widget001 widget001 widget001 widget001 widget001 widget001 widget001 widget001 widget001 widget001 widget001 widget001 widget001 widget001 widget001 widget001 widget001 widget001 widget001 widget001 widget001 widget001 widget001 widget001 widget001 widget001 widget001 widget001 widget001 widget001 widget001 widget001 widget001 widget001 widget001 widget001 widget001 widget001 widget001 widget001 widget001 widget001 widget001 widget001 widget001 widget001 widget001 widget001 widget001 widget001 widget001 widget001 widget001 widget001\"\n\"widget001 widget001 widget001 widget001 widget001 widget001 widget001 widget001 widget001 widget001 widget001 widget001 widget001 widget001 widget001 widget001 widget001 widget001 widget001 widget001 widget001 widget001 widget001 widget001 widget001 widget001 widget001 widget001 widget001 widget001 widget001 widget001 widget001 widget001 widget001 widget001 widget001 widget001 widget001 widget001 widget001 widget001 widget001 widget001 widget001 widget001 widget001 widget001 widget001 widget001 widget001 widget001 widget001 widget001 widget001 widget001 widget001 widget001 widget001 widget001 widget001 widget001 widget001 widget001 widget001 widget001 widget001 widget001 widget001 widget001 widget001 widget001 widget001 widget001 widget001 widget001 widget001 widget001 widget001 widget001 widget001 widget001 widget001 widget001 widget001 widget001 widget001 widget001 widget001 widget001 widget001 widget001 widget001 widget001 widget001 widget001 widget001 widget001 widget001 widget001\"\n\"widget002 widget002 widget002 widget002 widget002 widget002 widget002 widget002 widget002 widget002 widget002 widget002 widget002 widget002 widget002 widget002 widget002 widget002 widget002 widget002 widget002 widget002 widget002 widget002 widget002 widget002 widget002 widget002 widget002 widget002 widget002 widget002 widget002 widget002 widget002 widget002 widget002 widget002 widget002 widget002 widget002 widget002 widget002 widget002 widget002 widget002 widget002 widget002 widget002 widget002 widget002 widget002 widget002 widget002 widget002 widget002 widget002 widget002 widget002 widget002 widget002 widget002 widget002 widget002 widget002 widget002 widget002 widget002 widget002 widget002 widget002 widget002 widget002 widget002 widget002 widget002 widget002 widget002 widget002 widget002 widget002 widget002 widget002 widget002 widget002 widget002 widget002 widget002 widget002 widget002 widget002 widget002 widget002 widget002 widget002 widget002 widget002 widget002 widget002 widget002\"\n\"widget002 widget002 widget002 widget002 widget002 widget002 widget002 widget002 widget002 widget002 widget002 widget002 widget002 widget002 widget002 widget002 widget002 widget002 widget002 widget002 widget002 widget002 widget002 widget002 widget002 widget002 widget002 widget002 widget002 widget002 widget002 widget002 widget002 widget002 widget002 widget002 widget002 widget002 widget002 widget002 widget002 widget002 widget002 widget002 widget002 widget002 widget002 widget002 widget002 widget002 widget002 widget002 widget002 widget002 widget002 widget002 widget002 widget002 widget002 widget002 widget002 widget002 widget002 widget002 widget002 widget002 widget002 widget002 widget002 widget002 widget002 widget002 widget002 widget002 widget002 widget002 widget002 widget002 widget002 widget002 widget002 widget002 widget002 widget002 widget002 widget002 widget002 widget002 widget002 widget002 widget002 widget002 widget002 widget002 widget002 widget002 widget002 widget002 widget002 widget002\"\n\"widget002 widget002 widget002 widget002 widget002 widget002 widget002 widget002 widget002 widget002 widget002 widget002 widget002 widget002 widget002 widget002 widget002 widget002 widget002 widget002 widget002 widget002 widget002 widget002 widget002 widget002 widget002 widget002 widget002 widget002 widget002 widget002 widget002 widget002 widget002 widget002 widget002 widget002 widget002 widget002 widget002 widget002 widget002 widget002 widget002 widget002 widget002 widget002 widget002 widget002 widget002 widget002 widget002 widget002 widget002 widget002 widget002 widget002 widget002 widget002 widget002 widget002 widget002 widget002 widget002 widget002 widget002 widget002 widget002 widget002 widget002 widget002 widget002 widget002 widget002 widget002 widget002 widget002 widget002 widget002 widget002 widget002 widget002 widget002 widget002 widget002 widget002 widget002 widget002 widget002 widget002 widget002 widget002 widget002 widget002 widget002 widget002 widget002 widget002 widget002\"\n\"widget003 widget003 widget003 widget003 widget003 widget003 widget003 widget003 widget003 widget003 widget003 widget003 widget003 widget003 widget003 widget003 widget003 widget003 widget003 widget003 widget003 widget003 widget003 widget003 widget003 widget003 widget003 widget003 widget003 widget003 widget003 widget003 widget003 widget003 widget003 widget003 widget003 widget003 widget003 widget003 widget003 widget003 widget003 widget003 widget003 widget003 widget003 widget003 widget003 widget003 widget003 widget003 widget003 widget003 widget003 widget003 widget003 widget003 widget003 widget003 widget003 widget003 widget003 widget003 widget003 widget003 widget003 widget003 widget003 widget003 widget003 widget003 widget003 widget003 widget003 widget003 widget003 widget003 widget003 widget003 widget003 widget003 widget003 widget003 widget003 widget003 widget003 widget003 widget003 widget003 widget003 widget003 widget003 widget003 widget003 widget003 widget003 widget003 widget003 widget003\"\n\"widget003 widget003 widget003 widget003 widget003 widget003 widget003 widget003 widget003 widget003 widget003 widget003 widget003 widget003 widget003 widget003 widget003 widget003 widget003 widget003 widget003 widget003 widget003 widget003 widget003 widget003 widget003 widget003 widget003 widget003 widget003 widget003 widget003 widget003 widget003 widget003 widget003 widget003 widget003 widget003 widget003 widget003 widget003 widget003 widget003 widget003 widget003 widget003 widget003 widget003 widget003 widget003 widget003 widget003 widget003 widget003 widget003 widget003 widget003 widget003 widget003 widget003 widget003 widget003 widget003 widget003 widget003 widget003 widget003 widget003 widget003 widget003 widget003 widget003 widget003 widget003 widget003 widget003 widget003 widget003 widget003 widget003 widget003 widget003 widget003 widget003 widget003 widget003 widget003 widget003 widget003 widget003 widget003 widget003 widget003 widget003 widget003 widget003 widget003 widget003\"\n\"widget003 widget003 widget003 widget003 widget003 widget003 widget003 widget003 widget003 widget003 widget003 widget003 widget003 widget003 widget003 widget003 widget003 widget003 widget003 widget003 widget003 widget003 widget003 widget003 widget003 widget003 widget003 widget003 widget003 widget003 widget003 widget003 widget003 widget003 widget003 widget003 widget003 widget003 widget003 widget003 widget003 widget003 widget003 widget003 widget003 widget003 widget003 widget003 widget003 widget003 widget003 widget003 widget003 widget003 widget003 widget003 widget003 widget003 widget003 widget003 widget003 widget003 widget003 widget003 widget003 widget003 widget003 widget003 widget003 widget003 widget003 widget003 widget003 widget003 widget003 widget003 widget003 widget003 widget003 widget003 widget003 widget003 widget003 widget003 widget003 widget003 widget003 widget003 widget003 widget003 widget003 widget003 widget003 widget003 widget003 widget003 widget003 widget003 widget003 widget003\"\n\"widget003 widget003 widget003 widget003 widget003 widget003 widget003 widget003 widget003 widget003 widget003 widget003 widget003 widget003 widget003 widget003 widget003 widget003 widget003 widget003 widget003 widget003 widget003 widget003 widget003 widget003 widget003 widget003 widget003 widget003 widget003 widget003 widget003 widget003 widget003 widget003 widget003 widget003 widget003 widget003 widget003 widget003 widget003 widget003 widget003 widget003 widget003 widget003 widget003 widget003 widget003 widget003 widget003 widget003 widget003 widget003 widget003 widget003 widget003 widget003 widget003 widget003 widget003 widget003 widget003 widget003 widget003 widget003 widget003 widget003 widget003 widget003 widget003 widget003 widget003 widget003 widget003 widget003 widget003 widget003 widget003 widget003 widget003 widget003 widget003 widget003 widget003 widget003 widget003 widget003 widget003 widget003 widget003 widget003 widget003 widget003 widget003 widget003 widget003 widget003\"\n\"widget003 widget003 widget003 widget003 widget003 widget003 widget003 widget003 widget003 widget003 widget003 widget003 widget003 widget003 widget003 widget003 widget003 widget003 widget003 widget003 widget003 widget003 widget003 widget003 widget003 widget003 widget003 widget003 widget003 widget003 widget003 widget003 widget003 widget003 widget003 widget003 widget003 widget003 widget003 widget003 widget003 widget003 widget003 widget003 widget003 widget003 widget003 widget003 widget003 widget003 widget003 widget003 widget003 widget003 widget003 widget003 widget003 widget003 widget003 widget003 widget003 widget003 widget003 widget003 widget003 widget003 widget003 widget003 widget003 widget003 widget003 widget003 widget003 widget003 widget003 widget003 widget003 widget003 widget003 widget003 widget003 widget003 widget003 widget003 widget003 widget003 widget003 widget003 widget003 widget003 widget003 widget003 widget003 widget003 widget003 widget003 widget003 widget003 widget003 widget003\"\n\"widget003 widget003 widget003 widget003 widget003 widget003 widget003 widget003 widget003 widget003 widget003 widget003 widget003 widget003 widget003 widget003 widget003 widget003 widget003 widget003 widget003 widget003 widget003 widget003 widget003 widget003 widget003 widget003 widget003 widget003 widget003 widget003 widget003 widget003 widget003 widget003 widget003 widget003 widget003 widget003 widget003 widget003 widget003 widget003 widget003 widget003 widget003 widget003 widget003 widget003 widget003 widget003 widget003 widget003 widget003 widget003 widget003 widget003 widget003 widget003 widget003 widget003 widget003 widget003 widget003 widget003 widget003 widget003 widget003 widget003 widget003 widget003 widget003 widget003 widget003 widget003 widget003 widget003 widget003 widget003 widget003 widget003 widget003 widget003 widget003 widget003 widget003 widget003 widget003 widget003 widget003 widget003 widget003 widget003 widget003 widget003 widget003 widget003 widget003 widget003\"\n\"widget004 widget004 widget004 widget004 widget004 widget004 widget004 widget004 widget004 widget004 widget004 widget004 widget004 widget004 widget004 widget004 widget004 widget004 widget004 widget004 widget004 widget004 widget004 widget004 widget004 widget004 widget004 widget004 widget004 widget004 widget004 widget004 widget004 widget004 widget004 widget004 widget004 widget004 widget004 widget004 widget004 widget004 widget004 widget004 widget004 widget004 widget004 widget004 widget004 widget004 widget004 widget004 widget004 widget004 widget004 widget004 widget004 widget004 widget004 widget004 widget004 widget004 widget004 widget004 widget004 widget004 widget004 widget004 widget004 widget004 widget004 widget004 widget004 widget004 widget004 widget004 widget004 widget004 widget004 widget004 widget004 widget004 widget004 widget004 widget004 widget004 widget004 widget004 widget004 widget004 widget004 widget004 widget004 widget004 widget004 widget004 widget004 widget004 widget004 widget004\"\n\"widget004 widget004 widget004 widget004 widget004 widget004 widget004 widget004 widget004 widget004 widget004 widget004 widget004 widget004 widget004 widget004 widget004 widget004 widget004 widget004 widget004 widget004 widget004 widget004 widget004 widget004 widget004 widget004 widget004 widget004 widget004 widget004 widget004 widget004 widget004 widget004 widget004 widget004 widget004 widget004 widget004 widget004 widget004 widget004 widget004 widget004 widget004 widget004 widget004 widget004 widget004 widget004 widget004 widget004 widget004 widget004 widget004 widget004 widget004 widget004 widget004 widget004 widget004 widget004 widget004 widget004 widget004 widget004 widget004 widget004 widget004 widget004 widget004 widget004 widget004 widget004 widget004 widget004 widget004 widget004 widget004 widget004 widget004 widget004 widget004 widget004 widget004 widget004 widget004 widget004 widget004 widget004 widget004 widget004 widget004 widget004 widget004 widget004 widget004 widget004\"\n\"widget004 widget004 widget004 widget004 widget004 widget004 widget004 widget004 widget004 widget004 widget004 widget004 widget004 widget004 widget004 widget004 widget004 widget004 widget004 widget004 widget004 widget004 widget004 widget004 widget004 widget004 widget004 widget004 widget004 widget004 widget004 widget004 widget004 widget004 widget004 widget004 widget004 widget004 widget004 widget004 widget004 widget004 widget004 widget004 widget004 widget004 widget004 widget004 widget004 widget004 widget004 widget004 widget004 widget004 widget004 widget004 widget004 widget004 widget004 widget004 widget004 widget004 widget004 widget004 widget004 widget004 widget004 widget004 widget004 widget004 widget004 widget004 widget004 widget004 widget004 widget004 widget004 widget004 widget004 widget004 widget004 widget004 widget004 widget004 widget004 widget004 widget004 widget004 widget004 widget004 widget004 widget004 widget004 widget004 widget004 widget004 widget004 widget004 widget004 widget004\"\n\"widget004 widget004 widget004 widget004 widget004 widget004 widget004 widget004 widget004 widget004 widget004 widget004 widget004 widget004 widget004 widget004 widget004 widget004 widget004 widget004 widget004 widget004 widget004 widget004 widget004 widget004 widget004 widget004 widget004 widget004 widget004 widget004 widget004 widget004 widget004 widget004 widget004 widget004 widget004 widget004 widget004 widget004 widget004 widget004 widget004 widget004 widget004 widget004 widget004 widget004 widget004 widget004 widget004 widget004 widget004 widget004 widget004 widget004 widget004 widget004 widget004 widget004 widget004 widget004 widget004 widget004 widget004 widget004 widget004 widget004 widget004 widget004 widget004 widget004 widget004 widget004 widget004 widget004 widget004 widget004 widget004 widget004 widget004 widget004 widget004 widget004 widget004 widget004 widget004 widget004 widget004 widget004 widget004 widget004 widget004 widget004 widget004 widget004 widget004 widget004\"\n\"widget004 widget004 widget004 widget004 widget004 widget004 widget004 widget004 widget004 widget004 widget004 widget004 widget004 widget004 widget004 widget004 widget004 widget004 widget004 widget004 widget004 widget004 widget004 widget004 widget004 widget004 widget004 widget004 widget004 widget004 widget004 widget004 widget004 widget004 widget004 widget004 widget004 widget004 widget004 widget004 widget004 widget004 widget004 widget004 widget004 widget004 widget004 widget004 widget004 widget004 widget004 widget004 widget004 widget004 widget004 widget004 widget004 widget004 widget004 widget004 widget004 widget004 widget004 widget004 widget004 widget004 widget004 widget004 widget004 widget004 widget004 widget004 widget004 widget004 widget004 widget004 widget004 widget004 widget004 widget004 widget004 widget004 widget004 widget004 widget004 widget004 widget004 widget004 widget004 widget004 widget004 widget004 widget004 widget004 widget004 widget004 widget004 widget004 widget004 widget004\"\n\"widget004 widget004 widget004 widget004 widget004 widget004 widget004 widget004 widget004 widget004 widget004 widget004 widget004 widget004 widget004 widget004 widget004 widget004 widget004 widget004 widget004 widget004 widget004 widget004 widget004 widget004 widget004 widget004 widget004 widget004 widget004 widget004 widget004 widget004 widget004 widget004 widget004 widget004 widget004 widget004 widget004 widget004 widget004 widget004 widget004 widget004 widget004 widget004 widget004 widget004 widget004 widget004 widget004 widget004 widget004 widget004 widget004 widget004 widget004 widget004 widget004 widget004 widget004 widget004 widget004 widget004 widget004 widget004 widget004 widget004 widget004 widget004 widget004 widget004 widget004 widget004 widget004 widget004 widget004 widget004 widget004 widget004 widget004 widget004 widget004 widget004 widget004 widget004 widget004 widget004 widget004 widget004 widget004 widget004 widget004 widget004 widget004 widget004 widget004 widget004\"\n\"widget004 widget004 widget004 widget004 widget004 widget004 widget004 widget004 widget004 widget004 widget004 widget004 widget004 widget004 widget004 widget004 widget004 widget004 widget004 widget004 widget004 widget004 widget004 widget004 widget004 widget004 widget004 widget004 widget004 widget004 widget004 widget004 widget004 widget004 widget004 widget004 widget004 widget004 widget004 widget004 widget004 widget004 widget004 widget004 widget004 widget004 widget004 widget004 widget004 widget004 widget004 widget004 widget004 widget004 widget004 widget004 widget004 widget004 widget004 widget004 widget004 widget004 widget004 widget004 widget004 widget004 widget004 widget004 widget004 widget004 widget004 widget004 widget004 widget004 widget004 widget004 widget004 widget004 widget004 widget004 widget004 widget004 widget004 widget004 widget004 widget004 widget004 widget004 widget004 widget004 widget004 widget004 widget004 widget004 widget004 widget004 widget004 widget004 widget004 widget004\"\n\"widget004 widget004 widget004 widget004 widget004 widget004 widget004 widget004 widget004 widget004 widget004 widget004 widget004 widget004 widget004 widget004 widget004 widget004 widget004 widget004 widget004 widget004 widget004 widget004 widget004 widget004 widget004 widget004 widget004 widget004 widget004 widget004 widget004 widget004 widget004 widget004 widget004 widget004 widget004 widget004 widget004 widget004 widget004 widget004 widget004 widget004 widget004 widget004 widget004 widget004 widget004 widget004 widget004 widget004 widget004 widget004 widget004 widget004 widget004 widget004 widget004 widget004 widget004 widget004 widget004 widget004 widget004 widget004 widget004 widget004 widget004 widget004 widget004 widget004 widget004 widget004 widget004 widget004 widget004 widget004 widget004 widget004 widget004 widget004 widget004 widget004 widget004 widget004 widget004 widget004 widget004 widget004 widget004 widget004 widget004 widget004 widget004 widget004 widget004 widget004\"\n\"widget004 widget004 widget004 widget004 widget004 widget004 widget004 widget004 widget004 widget004 widget004 widget004 widget004 widget004 widget004 widget004 widget004 widget004 widget004 widget004 widget004 widget004 widget004 widget004 widget004 widget004 widget004 widget004 widget004 widget004 widget004 widget004 widget004 widget004 widget004 widget004 widget004 widget004 widget004 widget004 widget004 widget004 widget004 widget004 widget004 widget004 widget004 widget004 widget004 widget004 widget004 widget004 widget004 widget004 widget004 widget004 widget004 widget004 widget004 widget004 widget004 widget004 widget004 widget004 widget004 widget004 widget004 widget004 widget004 widget004 widget004 widget004 widget004 widget004 widget004 widget004 widget004 widget004 widget004 widget004 widget004 widget004 widget004 widget004 widget004 widget004 widget004 widget004 widget004 widget004 widget004 widget004 widget004 widget004 widget004 widget004 widget004 widget004 widget004 widget004\"\n\"widget004 widget004 widget004 widget004 widget004 widget004 widget004 widget004 widget004 widget004 widget004 widget004 widget004 widget004 widget004 widget004 widget004 widget004 widget004 widget004 widget004 widget004 widget004 widget004 widget004 widget004 widget004 widget004 widget004 widget004 widget004 widget004 widget004 widget004 widget004 widget004 widget004 widget004 widget004 widget004 widget004 widget004 widget004 widget004 widget004 widget004 widget004 widget004 widget004 widget004 widget004 widget004 widget004 widget004 widget004 widget004 widget004 widget004 widget004 widget004 widget004 widget004 widget004 widget004 widget004 widget004 widget004 widget004 widget004 widget004 widget004 widget004 widget004 widget004 widget004 widget004 widget004 widget004 widget004 widget004 widget004 widget004 widget004 widget004 widget004 widget004 widget004 widget004 widget004 widget004 widget004 widget004 widget004 widget004 widget004 widget004 widget004 widget004 widget004 widget004\"\n\"widget004 widget004 widget004 widget004 widget004 widget004 widget004 widget004 widget004 widget004 widget004 widget004 widget004 widget004 widget004 widget004 widget004 widget004 widget004 widget004 widget004 widget004 widget004 widget004 widget004 widget004 widget004 widget004 widget004 widget004 widget004 widget004 widget004 widget004 widget004 widget004 widget004 widget004 widget004 widget004 widget004 widget004 widget004 widget004 widget004 widget004 widget004 widget004 widget004 widget004 widget004 widget004 widget004 widget004 widget004 widget004 widget004 widget004 widget004 widget004 widget004 widget004 widget004 widget004 widget004 widget004 widget004 widget004 widget004 widget004 widget004 widget004 widget004 widget004 widget004 widget004 widget004 widget004 widget004 widget004 widget004 widget004 widget004 widget004 widget004 widget004 widget004 widget004 widget004 widget004 widget004 widget004 widget004 widget004 widget004 widget004 widget004 widget004 widget004 widget004\"\n\"widget004 widget004 widget004 widget004 widget004 widget004 widget004 widget004 widget004 widget004 widget004 widget004 widget004 widget004 widget004 widget004 widget004 widget004 widget004 widget004 widget004 widget004 widget004 widget004 widget004 widget004 widget004 widget004 widget004 widget004 widget004 widget004 widget004 widget004 widget004 widget004 widget004 widget004 widget004 widget004 widget004 widget004 widget004 widget004 widget004 widget004 widget004 widget004 widget004 widget004 widget004 widget004 widget004 widget004 widget004 widget004 widget004 widget004 widget004 widget004 widget004 widget004 widget004 widget004 widget004 widget004 widget004 widget004 widget004 widget004 widget004 widget004 widget004 widget004 widget004 widget004 widget004 widget004 widget004 widget004 widget004 widget004 widget004 widget004 widget004 widget004 widget004 widget004 widget004 widget004 widget004 widget004 widget004 widget004 widget004 widget004 widget004 widget004 widget004 widget004\"\n\"widget004 widget004 widget004 widget004 widget004 widget004 widget004 widget004 widget004 widget004 widget004 widget004 widget004 widget004 widget004 widget004 widget004 widget004 widget004 widget004 widget004 widget004 widget004 widget004 widget004 widget004 widget004 widget004 widget004 widget004 widget004 widget004 widget004 widget004 widget004 widget004 widget004 widget004 widget004 widget004 widget004 widget004 widget004 widget004 widget004 widget004 widget004 widget004 widget004 widget004 widget004 widget004 widget004 widget004 widget004 widget004 widget004 widget004 widget004 widget004 widget004 widget004 widget004 widget004 widget004 widget004 widget004 widget004 widget004 widget004 widget004 widget004 widget004 widget004 widget004 widget004 widget004 widget004 widget004 widget004 widget004 widget004 widget004 widget004 widget004 widget004 widget004 widget004 widget004 widget004 widget004 widget004 widget004 widget004 widget004 widget004 widget004 widget004 widget004 widget004\"\n\"widget004 widget004 widget004 widget004 widget004 widget004 widget004 widget004 widget004 widget004 widget004 widget004 widget004 widget004 widget004 widget004 widget004 widget004 widget004 widget004 widget004 widget004 widget004 widget004 widget004 widget004 widget004 widget004 widget004 widget004 widget004 widget004 widget004 widget004 widget004 widget004 widget004 widget004 widget004 widget004 widget004 widget004 widget004 widget004 widget004 widget004 widget004 widget004 widget004 widget004 widget004 widget004 widget004 widget004 widget004 widget004 widget004 widget004 widget004 widget004 widget004 widget004 widget004 widget004 widget004 widget004 widget004 widget004 widget004 widget004 widget004 widget004 widget004 widget004 widget004 widget004 widget004 widget004 widget004 widget004 widget004 widget004 widget004 widget004 widget004 widget004 widget004 widget004 widget004 widget004 widget004 widget004 widget004 widget004 widget004 widget004 widget004 widget004 widget004 widget004\"\n\"widget004 widget004 widget004 widget004 widget004 widget004 widget004 widget004 widget004 widget004 widget004 widget004 widget004 widget004 widget004 widget004 widget004 widget004 widget004 widget004 widget004 widget004 widget004 widget004 widget004 widget004 widget004 widget004 widget004 widget004 widget004 widget004 widget004 widget004 widget004 widget004 widget004 widget004 widget004 widget004 widget004 widget004 widget004 widget004 widget004 widget004 widget004 widget004 widget004 widget004 widget004 widget004 widget004 widget004 widget004 widget004 widget004 widget004 widget004 widget004 widget004 widget004 widget004 widget004 widget004 widget004 widget004 widget004 widget004 widget004 widget004 widget004 widget004 widget004 widget004 widget004 widget004 widget004 widget004 widget004 widget004 widget004 widget004 widget004 widget004 widget004 widget004 widget004 widget004 widget004 widget004 widget004 widget004 widget004 widget004 widget004 widget004 widget004 widget004 widget004\"\n\"widget004 widget004 widget004 widget004 widget004 widget004 widget004 widget004 widget004 widget004 widget004 widget004 widget004 widget004 widget004 widget004 widget004 widget004 widget004 widget004 widget004 widget004 widget004 widget004 widget004 widget004 widget004 widget004 widget004 widget004 widget004 widget004 widget004 widget004 widget004 widget004 widget004 widget004 widget004 widget004 widget004 widget004 widget004 widget004 widget004 widget004 widget004 widget004 widget004 widget004 widget004 widget004 widget004 widget004 widget004 widget004 widget004 widget004 widget004 widget004 widget004 widget004 widget004 widget004 widget004 widget004 widget004 widget004 widget004 widget004 widget004 widget004 widget004 widget004 widget004 widget004 widget004 widget004 widget004 widget004 widget004 widget004 widget004 widget004 widget004 widget004 widget004 widget004 widget004 widget004 widget004 widget004 widget004 widget004 widget004 widget004 widget004 widget004 widget004 widget004\"\n\"widget004 widget004 widget004 widget004 widget004 widget004 widget004 widget004 widget004 widget004 widget004 widget004 widget004 widget004 widget004 widget004 widget004 widget004 widget004 widget004 widget004 widget004 widget004 widget004 widget004 widget004 widget004 widget004 widget004 widget004 widget004 widget004 widget004 widget004 widget004 widget004 widget004 widget004 widget004 widget004 widget004 widget004 widget004 widget004 widget004 widget004 widget004 widget004 widget004 widget004 widget004 widget004 widget004 widget004 widget004 widget004 widget004 widget004 widget004 widget004 widget004 widget004 widget004 widget004 widget004 widget004 widget004 widget004 widget004 widget004 widget004 widget004 widget004 widget004 widget004 widget004 widget004 widget004 widget004 widget004 widget004 widget004 widget004 widget004 widget004 widget004 widget004 widget004 widget004 widget004 widget004 widget004 widget004 widget004 widget004 widget004 widget004 widget004 widget004 widget004\"\n\"widget004 widget004 widget004 widget004 widget004 widget004 widget004 widget004 widget004 widget004 widget004 widget004 widget004 widget004 widget004 widget004 widget004 widget004 widget004 widget004 widget004 widget004 widget004 widget004 widget004 widget004 widget004 widget004 widget004 widget004 widget004 widget004 widget004 widget004 widget004 widget004 widget004 widget004 widget004 widget004 widget004 widget004 widget004 widget004 widget004 widget004 widget004 widget004 widget004 widget004 widget004 widget004 widget004 widget004 widget004 widget004 widget004 widget004 widget004 widget004 widget004 widget004 widget004 widget004 widget004 widget004 widget004 widget004 widget004 widget004 widget004 widget004 widget004 widget004 widget004 widget004 widget004 widget004 widget004 widget004 widget004 widget004 widget004 widget004 widget004 widget004 widget004 widget004 widget004 widget004 widget004 widget004 widget004 widget004 widget004 widget004 widget004 widget004 widget004 widget004\"\n\"widget004 widget004 widget004 widget004 widget004 widget004 widget004 widget004 widget004 widget004 widget004 widget004 widget004 widget004 widget004 widget004 widget004 widget004 widget004 widget004 widget004 widget004 widget004 widget004 widget004 widget004 widget004 widget004 widget004 widget004 widget004 widget004 widget004 widget004 widget004 widget004 widget004 widget004 widget004 widget004 widget004 widget004 widget004 widget004 widget004 widget004 widget004 widget004 widget004 widget004 widget004 widget004 widget004 widget004 widget004 widget004 widget004 widget004 widget004 widget004 widget004 widget004 widget004 widget004 widget004 widget004 widget004 widget004 widget004 widget004 widget004 widget004 widget004 widget004 widget004 widget004 widget004 widget004 widget004 widget004 widget004 widget004 widget004 widget004 widget004 widget004 widget004 widget004 widget004 widget004 widget004 widget004 widget004 widget004 widget004 widget004 widget004 widget004 widget004 widget004\"\n\"widget004 widget004 widget004 widget004 widget004 widget004 widget004 widget004 widget004 widget004 widget004 widget004 widget004 widget004 widget004 widget004 widget004 widget004 widget004 widget004 widget004 widget004 widget004 widget004 widget004 widget004 widget004 widget004 widget004 widget004 widget004 widget004 widget004 widget004 widget004 widget004 widget004 widget004 widget004 widget004 widget004 widget004 widget004 widget004 widget004 widget004 widget004 widget004 widget004 widget004 widget004 widget004 widget004 widget004 widget004 widget004 widget004 widget004 widget004 widget004 widget004 widget004 widget004 widget004 widget004 widget004 widget004 widget004 widget004 widget004 widget004 widget004 widget004 widget004 widget004 widget004 widget004 widget004 widget004 widget004 widget004 widget004 widget004 widget004 widget004 widget004 widget004 widget004 widget004 widget004 widget004 widget004 widget004 widget004 widget004 widget004 widget004 widget004 widget004 widget004\"\n\"widget004 widget004 widget004 widget004 widget004 widget004 widget004 widget004 widget004 widget004 widget004 widget004 widget004 widget004 widget004 widget004 widget004 widget004 widget004 widget004 widget004 widget004 widget004 widget004 widget004 widget004 widget004 widget004 widget004 widget004 widget004 widget004 widget004 widget004 widget004 widget004 widget004 widget004 widget004 widget004 widget004 widget004 widget004 widget004 widget004 widget004 widget004 widget004 widget004 widget004 widget004 widget004 widget004 widget004 widget004 widget004 widget004 widget004 widget004 widget004 widget004 widget004 widget004 widget004 widget004 widget004 widget004 widget004 widget004 widget004 widget004 widget004 widget004 widget004 widget004 widget004 widget004 widget004 widget004 widget004 widget004 widget004 widget004 widget004 widget004 widget004 widget004 widget004 widget004 widget004 widget004 widget004 widget004 widget004 widget004 widget004 widget004 widget004 widget004 widget004\"\n\"widget004 widget004 widget004 widget004 widget004 widget004 widget004 widget004 widget004 widget004 widget004 widget004 widget004 widget004 widget004 widget004 widget004 widget004 widget004 widget004 widget004 widget004 widget004 widget004 widget004 widget004 widget004 widget004 widget004 widget004 widget004 widget004 widget004 widget004 widget004 widget004 widget004 widget004 widget004 widget004 widget004 widget004 widget004 widget004 widget004 widget004 widget004 widget004 widget004 widget004 widget004 widget004 widget004 widget004 widget004 widget004 widget004 widget004 widget004 widget004 widget004 widget004 widget004 widget004 widget004 widget004 widget004 widget004 widget004 widget004 widget004 widget004 widget004 widget004 widget004 widget004 widget004 widget004 widget004 widget004 widget004 widget004 widget004 widget004 widget004 widget004 widget004 widget004 widget004 widget004 widget004 widget004 widget004 widget004 widget004 widget004 widget004 widget004 widget004 widget004\"\n\"widget004 widget004 widget004 widget004 widget004 widget004 widget004 widget004 widget004 widget004 widget004 widget004 widget004 widget004 widget004 widget004 widget004 widget004 widget004 widget004 widget004 widget004 widget004 widget004 widget004 widget004 widget004 widget004 widget004 widget004 widget004 widget004 widget004 widget004 widget004 widget004 widget004 widget004 widget004 widget004 widget004 widget004 widget004 widget004 widget004 widget004 widget004 widget004 widget004 widget004 widget004 widget004 widget004 widget004 widget004 widget004 widget004 widget004 widget004 widget004 widget004 widget004 widget004 widget004 widget004 widget004 widget004 widget004 widget004 widget004 widget004 widget004 widget004 widget004 widget004 widget004 widget004 widget004 widget004 widget004 widget004 widget004 widget004 widget004 widget004 widget004 widget004 widget004 widget004 widget004 widget004 widget004 widget004 widget004 widget004 widget004 widget004 widget004 widget004 widget004\"\n\"widget004 widget004 widget004 widget004 widget004 widget004 widget004 widget004 widget004 widget004 widget004 widget004 widget004 widget004 widget004 widget004 widget004 widget004 widget004 widget004 widget004 widget004 widget004 widget004 widget004 widget004 widget004 widget004 widget004 widget004 widget004 widget004 widget004 widget004 widget004 widget004 widget004 widget004 widget004 widget004 widget004 widget004 widget004 widget004 widget004 widget004 widget004 widget004 widget004 widget004 widget004 widget004 widget004 widget004 widget004 widget004 widget004 widget004 widget004 widget004 widget004 widget004 widget004 widget004 widget004 widget004 widget004 widget004 widget004 widget004 widget004 widget004 widget004 widget004 widget004 widget004 widget004 widget004 widget004 widget004 widget004 widget004 widget004 widget004 widget004 widget004 widget004 widget004 widget004 widget004 widget004 widget004 widget004 widget004 widget004 widget004 widget004 widget004 widget004 widget004\"\n\"widget004 widget004 widget004 widget004 widget004 widget004 widget004 widget004 widget004 widget004 widget004 widget004 widget004 widget004 widget004 widget004 widget004 widget004 widget004 widget004 widget004 widget004 widget004 widget004 widget004 widget004 widget004 widget004 widget004 widget004 widget004 widget004 widget004 widget004 widget004 widget004 widget004 widget004 widget004 widget004 widget004 widget004 widget004 widget004 widget004 widget004 widget004 widget004 widget004 widget004 widget004 widget004 widget004 widget004 widget004 widget004 widget004 widget004 widget004 widget004 widget004 widget004 widget004 widget004 widget004 widget004 widget004 widget004 widget004 widget004 widget004 widget004 widget004 widget004 widget004 widget004 widget004 widget004 widget004 widget004 widget004 widget004 widget004 widget004 widget004 widget004 widget004 widget004 widget004 widget004 widget004 widget004 widget004 widget004 widget004 widget004 widget004 widget004 widget004 widget004\"\n\"widget004 widget004 widget004 widget004 widget004 widget004 widget004 widget004 widget004 widget004 widget004 widget004 widget004 widget004 widget004 widget004 widget004 widget004 widget004 widget004 widget004 widget004 widget004 widget004 widget004 widget004 widget004 widget004 widget004 widget004 widget004 widget004 widget004 widget004 widget004 widget004 widget004 widget004 widget004 widget004 widget004 widget004 widget004 widget004 widget004 widget004 widget004 widget004 widget004 widget004 widget004 widget004 widget004 widget004 widget004 widget004 widget004 widget004 widget004 widget004 widget004 widget004 widget004 widget004 widget004 widget004 widget004 widget004 widget004 widget004 widget004 widget004 widget004 widget004 widget004 widget004 widget004 widget004 widget004 widget004 widget004 widget004 widget004 widget004 widget004 widget004 widget004 widget004 widget004 widget004 widget004 widget004 widget004 widget004 widget004 widget004 widget004 widget004 widget004 widget004\"\n\"widget004 widget004 widget004 widget004 widget004 widget004 widget004 widget004 widget004 widget004 widget004 widget004 widget004 widget004 widget004 widget004 widget004 widget004 widget004 widget004 widget004 widget004 widget004 widget004 widget004 widget004 widget004 widget004 widget004 widget004 widget004 widget004 widget004 widget004 widget004 widget004 widget004 widget004 widget004 widget004 widget004 widget004 widget004 widget004 widget004 widget004 widget004 widget004 widget004 widget004 widget004 widget004 widget004 widget004 widget004 widget004 widget004 widget004 widget004 widget004 widget004 widget004 widget004 widget004 widget004 widget004 widget004 widget004 widget004 widget004 widget004 widget004 widget004 widget004 widget004 widget004 widget004 widget004 widget004 widget004 widget004 widget004 widget004 widget004 widget004 widget004 widget004 widget004 widget004 widget004 widget004 widget004 widget004 widget004 widget004 widget004 widget004 widget004 widget004 widget004\"\n\"widget004 widget004 widget004 widget004 widget004 widget004 widget004 widget004 widget004 widget004 widget004 widget004 widget004 widget004 widget004 widget004 widget004 widget004 widget004 widget004 widget004 widget004 widget004 widget004 widget004 widget004 widget004 widget004 widget004 widget004 widget004 widget004 widget004 widget004 widget004 widget004 widget004 widget004 widget004 widget004 widget004 widget004 widget004 widget004 widget004 widget004 widget004 widget004 widget004 widget004 widget004 widget004 widget004 widget004 widget004 widget004 widget004 widget004 widget004 widget004 widget004 widget004 widget004 widget004 widget004 widget004 widget004 widget004 widget004 widget004 widget004 widget004 widget004 widget004 widget004 widget004 widget004 widget004 widget004 widget004 widget004 widget004 widget004 widget004 widget004 widget004 widget004 widget004 widget004 widget004 widget004 widget004 widget004 widget004 widget004 widget004 widget004 widget004 widget004 widget004\"\n\"widget004 widget004 widget004 widget004 widget004 widget004 widget004 widget004 widget004 widget004 widget004 widget004 widget004 widget004 widget004 widget004 widget004 widget004 widget004 widget004 widget004 widget004 widget004 widget004 widget004 widget004 widget004 widget004 widget004 widget004 widget004 widget004 widget004 widget004 widget004 widget004 widget004 widget004 widget004 widget004 widget004 widget004 widget004 widget004 widget004 widget004 widget004 widget004 widget004 widget004 widget004 widget004 widget004 widget004 widget004 widget004 widget004 widget004 widget004 widget004 widget004 widget004 widget004 widget004 widget004 widget004 widget004 widget004 widget004 widget004 widget004 widget004 widget004 widget004 widget004 widget004 widget004 widget004 widget004 widget004 widget004 widget004 widget004 widget004 widget004 widget004 widget004 widget004 widget004 widget004 widget004 widget004 widget004 widget004 widget004 widget004 widget004 widget004 widget004 widget004\"\n\"widget004 widget004 widget004 widget004 widget004 widget004 widget004 widget004 widget004 widget004 widget004 widget004 widget004 widget004 widget004 widget004 widget004 widget004 widget004 widget004 widget004 widget004 widget004 widget004 widget004 widget004 widget004 widget004 widget004 widget004 widget004 widget004 widget004 widget004 widget004 widget004 widget004 widget004 widget004 widget004 widget004 widget004 widget004 widget004 widget004 widget004 widget004 widget004 widget004 widget004 widget004 widget004 widget004 widget004 widget004 widget004 widget004 widget004 widget004 widget004 widget004 widget004 widget004 widget004 widget004 widget004 widget004 widget004 widget004 widget004 widget004 widget004 widget004 widget004 widget004 widget004 widget004 widget004 widget004 widget004 widget004 widget004 widget004 widget004 widget004 widget004 widget004 widget004 widget004 widget004 widget004 widget004 widget004 widget004 widget004 widget004 widget004 widget004 widget004 widget004\"\n\"widget004 widget004 widget004 widget004 widget004 widget004 widget004 widget004 widget004 widget004 widget004 widget004 widget004 widget004 widget004 widget004 widget004 widget004 widget004 widget004 widget004 widget004 widget004 widget004 widget004 widget004 widget004 widget004 widget004 widget004 widget004 widget004 widget004 widget004 widget004 widget004 widget004 widget004 widget004 widget004 widget004 widget004 widget004 widget004 widget004 widget004 widget004 widget004 widget004 widget004 widget004 widget004 widget004 widget004 widget004 widget004 widget004 widget004 widget004 widget004 widget004 widget004 widget004 widget004 widget004 widget004 widget004 widget004 widget004 widget004 widget004 widget004 widget004 widget004 widget004 widget004 widget004 widget004 widget004 widget004 widget004 widget004 widget004 widget004 widget004 widget004 widget004 widget004 widget004 widget004 widget004 widget004 widget004 widget004 widget004 widget004 widget004 widget004 widget004 widget004\"\n\"widget004 widget004 widget004 widget004 widget004 widget004 widget004 widget004 widget004 widget004 widget004 widget004 widget004 widget004 widget004 widget004 widget004 widget004 widget004 widget004 widget004 widget004 widget004 widget004 widget004 widget004 widget004 widget004 widget004 widget004 widget004 widget004 widget004 widget004 widget004 widget004 widget004 widget004 widget004 widget004 widget004 widget004 widget004 widget004 widget004 widget004 widget004 widget004 widget004 widget004 widget004 widget004 widget004 widget004 widget004 widget004 widget004 widget004 widget004 widget004 widget004 widget004 widget004 widget004 widget004 widget004 widget004 widget004 widget004 widget004 widget004 widget004 widget004 widget004 widget004 widget004 widget004 widget004 widget004 widget004 widget004 widget004 widget004 widget004 widget004 widget004 widget004 widget004 widget004 widget004 widget004 widget004 widget004 widget004 widget004 widget004 widget004 widget004 widget004 widget004\"\n\"widget004 widget004 widget004 widget004 widget004 widget004 widget004 widget004 widget004 widget004 widget004 widget004 widget004 widget004 widget004 widget004 widget004 widget004 widget004 widget004 widget004 widget004 widget004 widget004 widget004 widget004 widget004 widget004 widget004 widget004 widget004 widget004 widget004 widget004 widget004 widget004 widget004 widget004 widget004 widget004 widget004 widget004 widget004 widget004 widget004 widget004 widget004 widget004 widget004 widget004 widget004 widget004 widget004 widget004 widget004 widget004 widget004 widget004 widget004 widget004 widget004 widget004 widget004 widget004 widget004 widget004 widget004 widget004 widget004 widget004 widget004 widget004 widget004 widget004 widget004 widget004 widget004 widget004 widget004 widget004 widget004 widget004 widget004 widget004 widget004 widget004 widget004 widget004 widget004 widget004 widget004 widget004 widget004 widget004 widget004 widget004 widget004 widget004 widget004 widget004\"\n\"widget004 widget004 widget004 widget004 widget004 widget004 widget004 widget004 widget004 widget004 widget004 widget004 widget004 widget004 widget004 widget004 widget004 widget004 widget004 widget004 widget004 widget004 widget004 widget004 widget004 widget004 widget004 widget004 widget004 widget004 widget004 widget004 widget004 widget004 widget004 widget004 widget004 widget004 widget004 widget004 widget004 widget004 widget004 widget004 widget004 widget004 widget004 widget004 widget004 widget004 widget004 widget004 widget004 widget004 widget004 widget004 widget004 widget004 widget004 widget004 widget004 widget004 widget004 widget004 widget004 widget004 widget004 widget004 widget004 widget004 widget004 widget004 widget004 widget004 widget004 widget004 widget004 widget004 widget004 widget004 widget004 widget004 widget004 widget004 widget004 widget004 widget004 widget004 widget004 widget004 widget004 widget004 widget004 widget004 widget004 widget004 widget004 widget004 widget004 widget004\"\n\"widget004 widget004 widget004 widget004 widget004 widget004 widget004 widget004 widget004 widget004 widget004 widget004 widget004 widget004 widget004 widget004 widget004 widget004 widget004 widget004 widget004 widget004 widget004 widget004 widget004 widget004 widget004 widget004 widget004 widget004 widget004 widget004 widget004 widget004 widget004 widget004 widget004 widget004 widget004 widget004 widget004 widget004 widget004 widget004 widget004 widget004 widget004 widget004 widget004 widget004 widget004 widget004 widget004 widget004 widget004 widget004 widget004 widget004 widget004 widget004 widget004 widget004 widget004 widget004 widget004 widget004 widget004 widget004 widget004 widget004 widget004 widget004 widget004 widget004 widget004 widget004 widget004 widget004 widget004 widget004 widget004 widget004 widget004 widget004 widget004 widget004 widget004 widget004 widget004 widget004 widget004 widget004 widget004 widget004 widget004 widget004 widget004 widget004 widget004 widget004\"\n\"widget004 widget004 widget004 widget004 widget004 widget004 widget004 widget004 widget004 widget004 widget004 widget004 widget004 widget004 widget004 widget004 widget004 widget004 widget004 widget004 widget004 widget004 widget004 widget004 widget004 widget004 widget004 widget004 widget004 widget004 widget004 widget004 widget004 widget004 widget004 widget004 widget004 widget004 widget004 widget004 widget004 widget004 widget004 widget004 widget004 widget004 widget004 widget004 widget004 widget004 widget004 widget004 widget004 widget004 widget004 widget004 widget004 widget004 widget004 widget004 widget004 widget004 widget004 widget004 widget004 widget004 widget004 widget004 widget004 widget004 widget004 widget004 widget004 widget004 widget004 widget004 widget004 widget004 widget004 widget004 widget004 widget004 widget004 widget004 widget004 widget004 widget004 widget004 widget004 widget004 widget004 widget004 widget004 widget004 widget004 widget004 widget004 widget004 widget004 widget004\"\n\"widget004 widget004 widget004 widget004 widget004 widget004 widget004 widget004 widget004 widget004 widget004 widget004 widget004 widget004 widget004 widget004 widget004 widget004 widget004 widget004 widget004 widget004 widget004 widget004 widget004 widget004 widget004 widget004 widget004 widget004 widget004 widget004 widget004 widget004 widget004 widget004 widget004 widget004 widget004 widget004 widget004 widget004 widget004 widget004 widget004 widget004 widget004 widget004 widget004 widget004 widget004 widget004 widget004 widget004 widget004 widget004 widget004 widget004 widget004 widget004 widget004 widget004 widget004 widget004 widget004 widget004 widget004 widget004 widget004 widget004 widget004 widget004 widget004 widget004 widget004 widget004 widget004 widget004 widget004 widget004 widget004 widget004 widget004 widget004 widget004 widget004 widget004 widget004 widget004 widget004 widget004 widget004 widget004 widget004 widget004 widget004 widget004 widget004 widget004 widget004\"\n\"widget004 widget004 widget004 widget004 widget004 widget004 widget004 widget004 widget004 widget004 widget004 widget004 widget004 widget004 widget004 widget004 widget004 widget004 widget004 widget004 widget004 widget004 widget004 widget004 widget004 widget004 widget004 widget004 widget004 widget004 widget004 widget004 widget004 widget004 widget004 widget004 widget004 widget004 widget004 widget004 widget004 widget004 widget004 widget004 widget004 widget004 widget004 widget004 widget004 widget004 widget004 widget004 widget004 widget004 widget004 widget004 widget004 widget004 widget004 widget004 widget004 widget004 widget004 widget004 widget004 widget004 widget004 widget004 widget004 widget004 widget004 widget004 widget004 widget004 widget004 widget004 widget004 widget004 widget004 widget004 widget004 widget004 widget004 widget004 widget004 widget004 widget004 widget004 widget004 widget004 widget004 widget004 widget004 widget004 widget004 widget004 widget004 widget004 widget004 widget004\"\n\"widget004 widget004 widget004 widget004 widget004 widget004 widget004 widget004 widget004 widget004 widget004 widget004 widget004 widget004 widget004 widget004 widget004 widget004 widget004 widget004 widget004 widget004 widget004 widget004 widget004 widget004 widget004 widget004 widget004 widget004 widget004 widget004 widget004 widget004 widget004 widget004 widget004 widget004 widget004 widget004 widget004 widget004 widget004 widget004 widget004 widget004 widget004 widget004 widget004 widget004 widget004 widget004 widget004 widget004 widget004 widget004 widget004 widget004 widget004 widget004 widget004 widget004 widget004 widget004 widget004 widget004 widget004 widget004 widget004 widget004 widget004 widget004 widget004 widget004 widget004 widget004 widget004 widget004 widget004 widget004 widget004 widget004 widget004 widget004 widget004 widget004 widget004 widget004 widget004 widget004 widget004 widget004 widget004 widget004 widget004 widget004 widget004 widget004 widget004 widget004\"\n\"widget004 widget004 widget004 widget004 widget004 widget004 widget004 widget004 widget004 widget004 widget004 widget004 widget004 widget004 widget004 widget004 widget004 widget004 widget004 widget004 widget004 widget004 widget004 widget004 widget004 widget004 widget004 widget004 widget004 widget004 widget004 widget004 widget004 widget004 widget004 widget004 widget004 widget004 widget004 widget004 widget004 widget004 widget004 widget004 widget004 widget004 widget004 widget004 widget004 widget004 widget004 widget004 widget004 widget004 widget004 widget004 widget004 widget004 widget004 widget004 widget004 widget004 widget004 widget004 widget004 widget004 widget004 widget004 widget004 widget004 widget004 widget004 widget004 widget004 widget004 widget004 widget004 widget004 widget004 widget004 widget004 widget004 widget004 widget004 widget004 widget004 widget004 widget004 widget004 widget004 widget004 widget004 widget004 widget004 widget004 widget004 widget004 widget004 widget004 widget004\"\n\"widget004 widget004 widget004 widget004 widget004 widget004 widget004 widget004 widget004 widget004 widget004 widget004 widget004 widget004 widget004 widget004 widget004 widget004 widget004 widget004 widget004 widget004 widget004 widget004 widget004 widget004 widget004 widget004 widget004 widget004 widget004 widget004 widget004 widget004 widget004 widget004 widget004 widget004 widget004 widget004 widget004 widget004 widget004 widget004 widget004 widget004 widget004 widget004 widget004 widget004 widget004 widget004 widget004 widget004 widget004 widget004 widget004 widget004 widget004 widget004 widget004 widget004 widget004 widget004 widget004 widget004 widget004 widget004 widget004 widget004 widget004 widget004 widget004 widget004 widget004 widget004 widget004 widget004 widget004 widget004 widget004 widget004 widget004 widget004 widget004 widget004 widget004 widget004 widget004 widget004 widget004 widget004 widget004 widget004 widget004 widget004 widget004 widget004 widget004 widget004\"\n\"widget004 widget004 widget004 widget004 widget004 widget004 widget004 widget004 widget004 widget004 widget004 widget004 widget004 widget004 widget004 widget004 widget004 widget004 widget004 widget004 widget004 widget004 widget004 widget004 widget004 widget004 widget004 widget004 widget004 widget004 widget004 widget004 widget004 widget004 widget004 widget004 widget004 widget004 widget004 widget004 widget004 widget004 widget004 widget004 widget004 widget004 widget004 widget004 widget004 widget004 widget004 widget004 widget004 widget004 widget004 widget004 widget004 widget004 widget004 widget004 widget004 widget004 widget004 widget004 widget004 widget004 widget004 widget004 widget004 widget004 widget004 widget004 widget004 widget004 widget004 widget004 widget004 widget004 widget004 widget004 widget004 widget004 widget004 widget004 widget004 widget004 widget004 widget004 widget004 widget004 widget004 widget004 widget004 widget004 widget004 widget004 widget004 widget004 widget004 widget004\"\n\"widget004 widget004 widget004 widget004 widget004 widget004 widget004 widget004 widget004 widget004 widget004 widget004 widget004 widget004 widget004 widget004 widget004 widget004 widget004 widget004 widget004 widget004 widget004 widget004 widget004 widget004 widget004 widget004 widget004 widget004 widget004 widget004 widget004 widget004 widget004 widget004 widget004 widget004 widget004 widget004 widget004 widget004 widget004 widget004 widget004 widget004 widget004 widget004 widget004 widget004 widget004 widget004 widget004 widget004 widget004 widget004 widget004 widget004 widget004 widget004 widget004 widget004 widget004 widget004 widget004 widget004 widget004 widget004 widget004 widget004 widget004 widget004 widget004 widget004 widget004 widget004 widget004 widget004 widget004 widget004 widget004 widget004 widget004 widget004 widget004 widget004 widget004 widget004 widget004 widget004 widget004 widget004 widget004 widget004 widget004 widget004 widget004 widget004 widget004 widget004\"\n\"widget004 widget004 widget004 widget004 widget004 widget004 widget004 widget004 widget004 widget004 widget004 widget004 widget004 widget004 widget004 widget004 widget004 widget004 widget004 widget004 widget004 widget004 widget004 widget004 widget004 widget004 widget004 widget004 widget004 widget004 widget004 widget004 widget004 widget004 widget004 widget004 widget004 widget004 widget004 widget004 widget004 widget004 widget004 widget004 widget004 widget004 widget004 widget004 widget004 widget004 widget004 widget004 widget004 widget004 widget004 widget004 widget004 widget004 widget004 widget004 widget004 widget004 widget004 widget004 widget004 widget004 widget004 widget004 widget004 widget004 widget004 widget004 widget004 widget004 widget004 widget004 widget004 widget004 widget004 widget004 widget004 widget004 widget004 widget004 widget004 widget004 widget004 widget004 widget004 widget004 widget004 widget004 widget004 widget004 widget004 widget004 widget004 widget004 widget004 widget004\"\n\"widget004 widget004 widget004 widget004 widget004 widget004 widget004 widget004 widget004 widget004 widget004 widget004 widget004 widget004 widget004 widget004 widget004 widget004 widget004 widget004 widget004 widget004 widget004 widget004 widget004 widget004 widget004 widget004 widget004 widget004 widget004 widget004 widget004 widget004 widget004 widget004 widget004 widget004 widget004 widget004 widget004 widget004 widget004 widget004 widget004 widget004 widget004 widget004 widget004 widget004 widget004 widget004 widget004 widget004 widget004 widget004 widget004 widget004 widget004 widget004 widget004 widget004 widget004 widget004 widget004 widget004 widget004 widget004 widget004 widget004 widget004 widget004 widget004 widget004 widget004 widget004 widget004 widget004 widget004 widget004 widget004 widget004 widget004 widget004 widget004 widget004 widget004 widget004 widget004 widget004 widget004 widget004 widget004 widget004 widget004 widget004 widget004 widget004 widget004 widget004\"\n\"widget004 widget004 widget004 widget004 widget004 widget004 widget004 widget004 widget004 widget004 widget004 widget004 widget004 widget004 widget004 widget004 widget004 widget004 widget004 widget004 widget004 widget004 widget004 widget004 widget004 widget004 widget004 widget004 widget004 widget004 widget004 widget004 widget004 widget004 widget004 widget004 widget004 widget004 widget004 widget004 widget004 widget004 widget004 widget004 widget004 widget004 widget004 widget004 widget004 widget004 widget004 widget004 widget004 widget004 widget004 widget004 widget004 widget004 widget004 widget004 widget004 widget004 widget004 widget004 widget004 widget004 widget004 widget004 widget004 widget004 widget004 widget004 widget004 widget004 widget004 widget004 widget004 widget004 widget004 widget004 widget004 widget004 widget004 widget004 widget004 widget004 widget004 widget004 widget004 widget004 widget004 widget004 widget004 widget004 widget004 widget004 widget004 widget004 widget004 widget004\"\n\"widget004 widget004 widget004 widget004 widget004 widget004 widget004 widget004 widget004 widget004 widget004 widget004 widget004 widget004 widget004 widget004 widget004 widget004 widget004 widget004 widget004 widget004 widget004 widget004 widget004 widget004 widget004 widget004 widget004 widget004 widget004 widget004 widget004 widget004 widget004 widget004 widget004 widget004 widget004 widget004 widget004 widget004 widget004 widget004 widget004 widget004 widget004 widget004 widget004 widget004 widget004 widget004 widget004 widget004 widget004 widget004 widget004 widget004 widget004 widget004 widget004 widget004 widget004 widget004 widget004 widget004 widget004 widget004 widget004 widget004 widget004 widget004 widget004 widget004 widget004 widget004 widget004 widget004 widget004 widget004 widget004 widget004 widget004 widget004 widget004 widget004 widget004 widget004 widget004 widget004 widget004 widget004 widget004 widget004 widget004 widget004 widget004 widget004 widget004 widget004\"\n\"widget004 widget004 widget004 widget004 widget004 widget004 widget004 widget004 widget004 widget004 widget004 widget004 widget004 widget004 widget004 widget004 widget004 widget004 widget004 widget004 widget004 widget004 widget004 widget004 widget004 widget004 widget004 widget004 widget004 widget004 widget004 widget004 widget004 widget004 widget004 widget004 widget004 widget004 widget004 widget004 widget004 widget004 widget004 widget004 widget004 widget004 widget004 widget004 widget004 widget004 widget004 widget004 widget004 widget004 widget004 widget004 widget004 widget004 widget004 widget004 widget004 widget004 widget004 widget004 widget004 widget004 widget004 widget004 widget004 widget004 widget004 widget004 widget004 widget004 widget004 widget004 widget004 widget004 widget004 widget004 widget004 widget004 widget004 widget004 widget004 widget004 widget004 widget004 widget004 widget004 widget004 widget004 widget004 widget004 widget004 widget004 widget004 widget004 widget004 widget004\"\n\"widget004 widget004 widget004 widget004 widget004 widget004 widget004 widget004 widget004 widget004 widget004 widget004 widget004 widget004 widget004 widget004 widget004 widget004 widget004 widget004 widget004 widget004 widget004 widget004 widget004 widget004 widget004 widget004 widget004 widget004 widget004 widget004 widget004 widget004 widget004 widget004 widget004 widget004 widget004 widget004 widget004 widget004 widget004 widget004 widget004 widget004 widget004 widget004 widget004 widget004 widget004 widget004 widget004 widget004 widget004 widget004 widget004 widget004 widget004 widget004 widget004 widget004 widget004 widget004 widget004 widget004 widget004 widget004 widget004 widget004 widget004 widget004 widget004 widget004 widget004 widget004 widget004 widget004 widget004 widget004 widget004 widget004 widget004 widget004 widget004 widget004 widget004 widget004 widget004 widget004 widget004 widget004 widget004 widget004 widget004 widget004 widget004 widget004 widget004 widget004\"\n\"widget004 widget004 widget004 widget004 widget004 widget004 widget004 widget004 widget004 widget004 widget004 widget004 widget004 widget004 widget004 widget004 widget004 widget004 widget004 widget004 widget004 widget004 widget004 widget004 widget004 widget004 widget004 widget004 widget004 widget004 widget004 widget004 widget004 widget004 widget004 widget004 widget004 widget004 widget004 widget004 widget004 widget004 widget004 widget004 widget004 widget004 widget004 widget004 widget004 widget004 widget004 widget004 widget004 widget004 widget004 widget004 widget004 widget004 widget004 widget004 widget004 widget004 widget004 widget004 widget004 widget004 widget004 widget004 widget004 widget004 widget004 widget004 widget004 widget004 widget004 widget004 widget004 widget004 widget004 widget004 widget004 widget004 widget004 widget004 widget004 widget004 widget004 widget004 widget004 widget004 widget004 widget004 widget004 widget004 widget004 widget004 widget004 widget004 widget004 widget004\"\n\"widget004 widget004 widget004 widget004 widget004 widget004 widget004 widget004 widget004 widget004 widget004 widget004 widget004 widget004 widget004 widget004 widget004 widget004 widget004 widget004 widget004 widget004 widget004 widget004 widget004 widget004 widget004 widget004 widget004 widget004 widget004 widget004 widget004 widget004 widget004 widget004 widget004 widget004 widget004 widget004 widget004 widget004 widget004 widget004 widget004 widget004 widget004 widget004 widget004 widget004 widget004 widget004 widget004 widget004 widget004 widget004 widget004 widget004 widget004 widget004 widget004 widget004 widget004 widget004 widget004 widget004 widget004 widget004 widget004 widget004 widget004 widget004 widget004 widget004 widget004 widget004 widget004 widget004 widget004 widget004 widget004 widget004 widget004 widget004 widget004 widget004 widget004 widget004 widget004 widget004 widget004 widget004 widget004 widget004 widget004 widget004 widget004 widget004 widget004 widget004\"\n\"widget004 widget004 widget004 widget004 widget004 widget004 widget004 widget004 widget004 widget004 widget004 widget004 widget004 widget004 widget004 widget004 widget004 widget004 widget004 widget004 widget004 widget004 widget004 widget004 widget004 widget004 widget004 widget004 widget004 widget004 widget004 widget004 widget004 widget004 widget004 widget004 widget004 widget004 widget004 widget004 widget004 widget004 widget004 widget004 widget004 widget004 widget004 widget004 widget004 widget004 widget004 widget004 widget004 widget004 widget004 widget004 widget004 widget004 widget004 widget004 widget004 widget004 widget004 widget004 widget004 widget004 widget004 widget004 widget004 widget004 widget004 widget004 widget004 widget004 widget004 widget004 widget004 widget004 widget004 widget004 widget004 widget004 widget004 widget004 widget004 widget004 widget004 widget004 widget004 widget004 widget004 widget004 widget004 widget004 widget004 widget004 widget004 widget004 widget004 widget004\"\n\"widget004 widget004 widget004 widget004 widget004 widget004 widget004 widget004 widget004 widget004 widget004 widget004 widget004 widget004 widget004 widget004 widget004 widget004 widget004 widget004 widget004 widget004 widget004 widget004 widget004 widget004 widget004 widget004 widget004 widget004 widget004 widget004 widget004 widget004 widget004 widget004 widget004 widget004 widget004 widget004 widget004 widget004 widget004 widget004 widget004 widget004 widget004 widget004 widget004 widget004 widget004 widget004 widget004 widget004 widget004 widget004 widget004 widget004 widget004 widget004 widget004 widget004 widget004 widget004 widget004 widget004 widget004 widget004 widget004 widget004 widget004 widget004 widget004 widget004 widget004 widget004 widget004 widget004 widget004 widget004 widget004 widget004 widget004 widget004 widget004 widget004 widget004 widget004 widget004 widget004 widget004 widget004 widget004 widget004 widget004 widget004 widget004 widget004 widget004 widget004\"\n\"widget004 widget004 widget004 widget004 widget004 widget004 widget004 widget004 widget004 widget004 widget004 widget004 widget004 widget004 widget004 widget004 widget004 widget004 widget004 widget004 widget004 widget004 widget004 widget004 widget004 widget004 widget004 widget004 widget004 widget004 widget004 widget004 widget004 widget004 widget004 widget004 widget004 widget004 widget004 widget004 widget004 widget004 widget004 widget004 widget004 widget004 widget004 widget004 widget004 widget004 widget004 widget004 widget004 widget004 widget004 widget004 widget004 widget004 widget004 widget004 widget004 widget004 widget004 widget004 widget004 widget004 widget004 widget004 widget004 widget004 widget004 widget004 widget004 widget004 widget004 widget004 widget004 widget004 widget004 widget004 widget004 widget004 widget004 widget004 widget004 widget004 widget004 widget004 widget004 widget004 widget004 widget004 widget004 widget004 widget004 widget004 widget004 widget004 widget004 widget004\"\n\"widget004 widget004 widget004 widget004 widget004 widget004 widget004 widget004 widget004 widget004 widget004 widget004 widget004 widget004 widget004 widget004 widget004 widget004 widget004 widget004 widget004 widget004 widget004 widget004 widget004 widget004 widget004 widget004 widget004 widget004 widget004 widget004 widget004 widget004 widget004 widget004 widget004 widget004 widget004 widget004 widget004 widget004 widget004 widget004 widget004 widget004 widget004 widget004 widget004 widget004 widget004 widget004 widget004 widget004 widget004 widget004 widget004 widget004 widget004 widget004 widget004 widget004 widget004 widget004 widget004 widget004 widget004 widget004 widget004 widget004 widget004 widget004 widget004 widget004 widget004 widget004 widget004 widget004 widget004 widget004 widget004 widget004 widget004 widget004 widget004 widget004 widget004 widget004 widget004 widget004 widget004 widget004 widget004 widget004 widget004 widget004 widget004 widget004 widget004 widget004\"\n\"widget004 widget004 widget004 widget004 widget004 widget004 widget004 widget004 widget004 widget004 widget004 widget004 widget004 widget004 widget004 widget004 widget004 widget004 widget004 widget004 widget004 widget004 widget004 widget004 widget004 widget004 widget004 widget004 widget004 widget004 widget004 widget004 widget004 widget004 widget004 widget004 widget004 widget004 widget004 widget004 widget004 widget004 widget004 widget004 widget004 widget004 widget004 widget004 widget004 widget004 widget004 widget004 widget004 widget004 widget004 widget004 widget004 widget004 widget004 widget004 widget004 widget004 widget004 widget004 widget004 widget004 widget004 widget004 widget004 widget004 widget004 widget004 widget004 widget004 widget004 widget004 widget004 widget004 widget004 widget004 widget004 widget004 widget004 widget004 widget004 widget004 widget004 widget004 widget004 widget004 widget004 widget004 widget004 widget004 widget004 widget004 widget004 widget004 widget004 widget004\"\n\"widget004 widget004 widget004 widget004 widget004 widget004 widget004 widget004 widget004 widget004 widget004 widget004 widget004 widget004 widget004 widget004 widget004 widget004 widget004 widget004 widget004 widget004 widget004 widget004 widget004 widget004 widget004 widget004 widget004 widget004 widget004 widget004 widget004 widget004 widget004 widget004 widget004 widget004 widget004 widget004 widget004 widget004 widget004 widget004 widget004 widget004 widget004 widget004 widget004 widget004 widget004 widget004 widget004 widget004 widget004 widget004 widget004 widget004 widget004 widget004 widget004 widget004 widget004 widget004 widget004 widget004 widget004 widget004 widget004 widget004 widget004 widget004 widget004 widget004 widget004 widget004 widget004 widget004 widget004 widget004 widget004 widget004 widget004 widget004 widget004 widget004 widget004 widget004 widget004 widget004 widget004 widget004 widget004 widget004 widget004 widget004 widget004 widget004 widget004 widget004\"\n\"widget004 widget004 widget004 widget004 widget004 widget004 widget004 widget004 widget004 widget004 widget004 widget004 widget004 widget004 widget004 widget004 widget004 widget004 widget004 widget004 widget004 widget004 widget004 widget004 widget004 widget004 widget004 widget004 widget004 widget004 widget004 widget004 widget004 widget004 widget004 widget004 widget004 widget004 widget004 widget004 widget004 widget004 widget004 widget004 widget004 widget004 widget004 widget004 widget004 widget004 widget004 widget004 widget004 widget004 widget004 widget004 widget004 widget004 widget004 widget004 widget004 widget004 widget004 widget004 widget004 widget004 widget004 widget004 widget004 widget004 widget004 widget004 widget004 widget004 widget004 widget004 widget004 widget004 widget004 widget004 widget004 widget004 widget004 widget004 widget004 widget004 widget004 widget004 widget004 widget004 widget004 widget004 widget004 widget004 widget004 widget004 widget004 widget004 widget004 widget004\"\n\"widget004 widget004 widget004 widget004 widget004 widget004 widget004 widget004 widget004 widget004 widget004 widget004 widget004 widget004 widget004 widget004 widget004 widget004 widget004 widget004 widget004 widget004 widget004 widget004 widget004 widget004 widget004 widget004 widget004 widget004 widget004 widget004 widget004 widget004 widget004 widget004 widget004 widget004 widget004 widget004 widget004 widget004 widget004 widget004 widget004 widget004 widget004 widget004 widget004 widget004 widget004 widget004 widget004 widget004 widget004 widget004 widget004 widget004 widget004 widget004 widget004 widget004 widget004 widget004 widget004 widget004 widget004 widget004 widget004 widget004 widget004 widget004 widget004 widget004 widget004 widget004 widget004 widget004 widget004 widget004 widget004 widget004 widget004 widget004 widget004 widget004 widget004 widget004 widget004 widget004 widget004 widget004 widget004 widget004 widget004 widget004 widget004 widget004 widget004 widget004\"\n\"widget004 widget004 widget004 widget004 widget004 widget004 widget004 widget004 widget004 widget004 widget004 widget004 widget004 widget004 widget004 widget004 widget004 widget004 widget004 widget004 widget004 widget004 widget004 widget004 widget004 widget004 widget004 widget004 widget004 widget004 widget004 widget004 widget004 widget004 widget004 widget004 widget004 widget004 widget004 widget004 widget004 widget004 widget004 widget004 widget004 widget004 widget004 widget004 widget004 widget004 widget004 widget004 widget004 widget004 widget004 widget004 widget004 widget004 widget004 widget004 widget004 widget004 widget004 widget004 widget004 widget004 widget004 widget004 widget004 widget004 widget004 widget004 widget004 widget004 widget004 widget004 widget004 widget004 widget004 widget004 widget004 widget004 widget004 widget004 widget004 widget004 widget004 widget004 widget004 widget004 widget004 widget004 widget004 widget004 widget004 widget004 widget004 widget004 widget004 widget004\"\n\"widget004 widget004 widget004 widget004 widget004 widget004 widget004 widget004 widget004 widget004 widget004 widget004 widget004 widget004 widget004 widget004 widget004 widget004 widget004 widget004 widget004 widget004 widget004 widget004 widget004 widget004 widget004 widget004 widget004 widget004 widget004 widget004 widget004 widget004 widget004 widget004 widget004 widget004 widget004 widget004 widget004 widget004 widget004 widget004 widget004 widget004 widget004 widget004 widget004 widget004 widget004 widget004 widget004 widget004 widget004 widget004 widget004 widget004 widget004 widget004 widget004 widget004 widget004 widget004 widget004 widget004 widget004 widget004 widget004 widget004 widget004 widget004 widget004 widget004 widget004 widget004 widget004 widget004 widget004 widget004 widget004 widget004 widget004 widget004 widget004 widget004 widget004 widget004 widget004 widget004 widget004 widget004 widget004 widget004 widget004 widget004 widget004 widget004 widget004 widget004\"\n\"widget004 widget004 widget004 widget004 widget004 widget004 widget004 widget004 widget004 widget004 widget004 widget004 widget004 widget004 widget004 widget004 widget004 widget004 widget004 widget004 widget004 widget004 widget004 widget004 widget004 widget004 widget004 widget004 widget004 widget004 widget004 widget004 widget004 widget004 widget004 widget004 widget004 widget004 widget004 widget004 widget004 widget004 widget004 widget004 widget004 widget004 widget004 widget004 widget004 widget004 widget004 widget004 widget004 widget004 widget004 widget004 widget004 widget004 widget004 widget004 widget004 widget004 widget004 widget004 widget004 widget004 widget004 widget004 widget004 widget004 widget004 widget004 widget004 widget004 widget004 widget004 widget004 widget004 widget004 widget004 widget004 widget004 widget004 widget004 widget004 widget004 widget004 widget004 widget004 widget004 widget004 widget004 widget004 widget004 widget004 widget004 widget004 widget004 widget004 widget004\"\n\"widget004 widget004 widget004 widget004 widget004 widget004 widget004 widget004 widget004 widget004 widget004 widget004 widget004 widget004 widget004 widget004 widget004 widget004 widget004 widget004 widget004 widget004 widget004 widget004 widget004 widget004 widget004 widget004 widget004 widget004 widget004 widget004 widget004 widget004 widget004 widget004 widget004 widget004 widget004 widget004 widget004 widget004 widget004 widget004 widget004 widget004 widget004 widget004 widget004 widget004 widget004 widget004 widget004 widget004 widget004 widget004 widget004 widget004 widget004 widget004 widget004 widget004 widget004 widget004 widget004 widget004 widget004 widget004 widget004 widget004 widget004 widget004 widget004 widget004 widget004 widget004 widget004 widget004 widget004 widget004 widget004 widget004 widget004 widget004 widget004 widget004 widget004 widget004 widget004 widget004 widget004 widget004 widget004 widget004 widget004 widget004 widget004 widget004 widget004 widget004\"\n\"widget004 widget004 widget004 widget004 widget004 widget004 widget004 widget004 widget004 widget004 widget004 widget004 widget004 widget004 widget004 widget004 widget004 widget004 widget004 widget004 widget004 widget004 widget004 widget004 widget004 widget004 widget004 widget004 widget004 widget004 widget004 widget004 widget004 widget004 widget004 widget004 widget004 widget004 widget004 widget004 widget004 widget004 widget004 widget004 widget004 widget004 widget004 widget004 widget004 widget004 widget004 widget004 widget004 widget004 widget004 widget004 widget004 widget004 widget004 widget004 widget004 widget004 widget004 widget004 widget004 widget004 widget004 widget004 widget004 widget004 widget004 widget004 widget004 widget004 widget004 widget004 widget004 widget004 widget004 widget004 widget004 widget004 widget004 widget004 widget004 widget004 widget004 widget004 widget004 widget004 widget004 widget004 widget004 widget004 widget004 widget004 widget004 widget004 widget004 widget004\"\n\"widget004 widget004 widget004 widget004 widget004 widget004 widget004 widget004 widget004 widget004 widget004 widget004 widget004 widget004 widget004 widget004 widget004 widget004 widget004 widget004 widget004 widget004 widget004 widget004 widget004 widget004 widget004 widget004 widget004 widget004 widget004 widget004 widget004 widget004 widget004 widget004 widget004 widget004 widget004 widget004 widget004 widget004 widget004 widget004 widget004 widget004 widget004 widget004 widget004 widget004 widget004 widget004 widget004 widget004 widget004 widget004 widget004 widget004 widget004 widget004 widget004 widget004 widget004 widget004 widget004 widget004 widget004 widget004 widget004 widget004 widget004 widget004 widget004 widget004 widget004 widget004 widget004 widget004 widget004 widget004 widget004 widget004 widget004 widget004 widget004 widget004 widget004 widget004 widget004 widget004 widget004 widget004 widget004 widget004 widget004 widget004 widget004 widget004 widget004 widget004\"\n\"widget004 widget004 widget004 widget004 widget004 widget004 widget004 widget004 widget004 widget004 widget004 widget004 widget004 widget004 widget004 widget004 widget004 widget004 widget004 widget004 widget004 widget004 widget004 widget004 widget004 widget004 widget004 widget004 widget004 widget004 widget004 widget004 widget004 widget004 widget004 widget004 widget004 widget004 widget004 widget004 widget004 widget004 widget004 widget004 widget004 widget004 widget004 widget004 widget004 widget004 widget004 widget004 widget004 widget004 widget004 widget004 widget004 widget004 widget004 widget004 widget004 widget004 widget004 widget004 widget004 widget004 widget004 widget004 widget004 widget004 widget004 widget004 widget004 widget004 widget004 widget004 widget004 widget004 widget004 widget004 widget004 widget004 widget004 widget004 widget004 widget004 widget004 widget004 widget004 widget004 widget004 widget004 widget004 widget004 widget004 widget004 widget004 widget004 widget004 widget004\"\n\"widget004 widget004 widget004 widget004 widget004 widget004 widget004 widget004 widget004 widget004 widget004 widget004 widget004 widget004 widget004 widget004 widget004 widget004 widget004 widget004 widget004 widget004 widget004 widget004 widget004 widget004 widget004 widget004 widget004 widget004 widget004 widget004 widget004 widget004 widget004 widget004 widget004 widget004 widget004 widget004 widget004 widget004 widget004 widget004 widget004 widget004 widget004 widget004 widget004 widget004 widget004 widget004 widget004 widget004 widget004 widget004 widget004 widget004 widget004 widget004 widget004 widget004 widget004 widget004 widget004 widget004 widget004 widget004 widget004 widget004 widget004 widget004 widget004 widget004 widget004 widget004 widget004 widget004 widget004 widget004 widget004 widget004 widget004 widget004 widget004 widget004 widget004 widget004 widget004 widget004 widget004 widget004 widget004 widget004 widget004 widget004 widget004 widget004 widget004 widget004\"\n\"widget004 widget004 widget004 widget004 widget004 widget004 widget004 widget004 widget004 widget004 widget004 widget004 widget004 widget004 widget004 widget004 widget004 widget004 widget004 widget004 widget004 widget004 widget004 widget004 widget004 widget004 widget004 widget004 widget004 widget004 widget004 widget004 widget004 widget004 widget004 widget004 widget004 widget004 widget004 widget004 widget004 widget004 widget004 widget004 widget004 widget004 widget004 widget004 widget004 widget004 widget004 widget004 widget004 widget004 widget004 widget004 widget004 widget004 widget004 widget004 widget004 widget004 widget004 widget004 widget004 widget004 widget004 widget004 widget004 widget004 widget004 widget004 widget004 widget004 widget004 widget004 widget004 widget004 widget004 widget004 widget004 widget004 widget004 widget004 widget004 widget004 widget004 widget004 widget004 widget004 widget004 widget004 widget004 widget004 widget004 widget004 widget004 widget004 widget004 widget004\"\n\"widget004 widget004 widget004 widget004 widget004 widget004 widget004 widget004 widget004 widget004 widget004 widget004 widget004 widget004 widget004 widget004 widget004 widget004 widget004 widget004 widget004 widget004 widget004 widget004 widget004 widget004 widget004 widget004 widget004 widget004 widget004 widget004 widget004 widget004 widget004 widget004 widget004 widget004 widget004 widget004 widget004 widget004 widget004 widget004 widget004 widget004 widget004 widget004 widget004 widget004 widget004 widget004 widget004 widget004 widget004 widget004 widget004 widget004 widget004 widget004 widget004 widget004 widget004 widget004 widget004 widget004 widget004 widget004 widget004 widget004 widget004 widget004 widget004 widget004 widget004 widget004 widget004 widget004 widget004 widget004 widget004 widget004 widget004 widget004 widget004 widget004 widget004 widget004 widget004 widget004 widget004 widget004 widget004 widget004 widget004 widget004 widget004 widget004 widget004 widget004\"\n\"widget004 widget004 widget004 widget004 widget004 widget004 widget004 widget004 widget004 widget004 widget004 widget004 widget004 widget004 widget004 widget004 widget004 widget004 widget004 widget004 widget004 widget004 widget004 widget004 widget004 widget004 widget004 widget004 widget004 widget004 widget004 widget004 widget004 widget004 widget004 widget004 widget004 widget004 widget004 widget004 widget004 widget004 widget004 widget004 widget004 widget004 widget004 widget004 widget004 widget004 widget004 widget004 widget004 widget004 widget004 widget004 widget004 widget004 widget004 widget004 widget004 widget004 widget004 widget004 widget004 widget004 widget004 widget004 widget004 widget004 widget004 widget004 widget004 widget004 widget004 widget004 widget004 widget004 widget004 widget004 widget004 widget004 widget004 widget004 widget004 widget004 widget004 widget004 widget004 widget004 widget004 widget004 widget004 widget004 widget004 widget004 widget004 widget004 widget004 widget004\"\n\"widget004 widget004 widget004 widget004 widget004 widget004 widget004 widget004 widget004 widget004 widget004 widget004 widget004 widget004 widget004 widget004 widget004 widget004 widget004 widget004 widget004 widget004 widget004 widget004 widget004 widget004 widget004 widget004 widget004 widget004 widget004 widget004 widget004 widget004 widget004 widget004 widget004 widget004 widget004 widget004 widget004 widget004 widget004 widget004 widget004 widget004 widget004 widget004 widget004 widget004 widget004 widget004 widget004 widget004 widget004 widget004 widget004 widget004 widget004 widget004 widget004 widget004 widget004 widget004 widget004 widget004 widget004 widget004 widget004 widget004 widget004 widget004 widget004 widget004 widget004 widget004 widget004 widget004 widget004 widget004 widget004 widget004 widget004 widget004 widget004 widget004 widget004 widget004 widget004 widget004 widget004 widget004 widget004 widget004 widget004 widget004 widget004 widget004 widget004 widget004\"\n\"widget004 widget004 widget004 widget004 widget004 widget004 widget004 widget004 widget004 widget004 widget004 widget004 widget004 widget004 widget004 widget004 widget004 widget004 widget004 widget004 widget004 widget004 widget004 widget004 widget004 widget004 widget004 widget004 widget004 widget004 widget004 widget004 widget004 widget004 widget004 widget004 widget004 widget004 widget004 widget004 widget004 widget004 widget004 widget004 widget004 widget004 widget004 widget004 widget004 widget004 widget004 widget004 widget004 widget004 widget004 widget004 widget004 widget004 widget004 widget004 widget004 widget004 widget004 widget004 widget004 widget004 widget004 widget004 widget004 widget004 widget004 widget004 widget004 widget004 widget004 widget004 widget004 widget004 widget004 widget004 widget004 widget004 widget004 widget004 widget004 widget004 widget004 widget004 widget004 widget004 widget004 widget004 widget004 widget004 widget004 widget004 widget004 widget004 widget004 widget004\"\n\"widget004 widget004 widget004 widget004 widget004 widget004 widget004 widget004 widget004 widget004 widget004 widget004 widget004 widget004 widget004 widget004 widget004 widget004 widget004 widget004 widget004 widget004 widget004 widget004 widget004 widget004 widget004 widget004 widget004 widget004 widget004 widget004 widget004 widget004 widget004 widget004 widget004 widget004 widget004 widget004 widget004 widget004 widget004 widget004 widget004 widget004 widget004 widget004 widget004 widget004 widget004 widget004 widget004 widget004 widget004 widget004 widget004 widget004 widget004 widget004 widget004 widget004 widget004 widget004 widget004 widget004 widget004 widget004 widget004 widget004 widget004 widget004 widget004 widget004 widget004 widget004 widget004 widget004 widget004 widget004 widget004 widget004 widget004 widget004 widget004 widget004 widget004 widget004 widget004 widget004 widget004 widget004 widget004 widget004 widget004 widget004 widget004 widget004 widget004 widget004\"\n\"widget004 widget004 widget004 widget004 widget004 widget004 widget004 widget004 widget004 widget004 widget004 widget004 widget004 widget004 widget004 widget004 widget004 widget004 widget004 widget004 widget004 widget004 widget004 widget004 widget004 widget004 widget004 widget004 widget004 widget004 widget004 widget004 widget004 widget004 widget004 widget004 widget004 widget004 widget004 widget004 widget004 widget004 widget004 widget004 widget004 widget004 widget004 widget004 widget004 widget004 widget004 widget004 widget004 widget004 widget004 widget004 widget004 widget004 widget004 widget004 widget004 widget004 widget004 widget004 widget004 widget004 widget004 widget004 widget004 widget004 widget004 widget004 widget004 widget004 widget004 widget004 widget004 widget004 widget004 widget004 widget004 widget004 widget004 widget004 widget004 widget004 widget004 widget004 widget004 widget004 widget004 widget004 widget004 widget004 widget004 widget004 widget004 widget004 widget004 widget004\"\n\"widget004 widget004 widget004 widget004 widget004 widget004 widget004 widget004 widget004 widget004 widget004 widget004 widget004 widget004 widget004 widget004 widget004 widget004 widget004 widget004 widget004 widget004 widget004 widget004 widget004 widget004 widget004 widget004 widget004 widget004 widget004 widget004 widget004 widget004 widget004 widget004 widget004 widget004 widget004 widget004 widget004 widget004 widget004 widget004 widget004 widget004 widget004 widget004 widget004 widget004 widget004 widget004 widget004 widget004 widget004 widget004 widget004 widget004 widget004 widget004 widget004 widget004 widget004 widget004 widget004 widget004 widget004 widget004 widget004 widget004 widget004 widget004 widget004 widget004 widget004 widget004 widget004 widget004 widget004 widget004 widget004 widget004 widget004 widget004 widget004 widget004 widget004 widget004 widget004 widget004 widget004 widget004 widget004 widget004 widget004 widget004 widget004 widget004 widget004 widget004\"\n\"widget004 widget004 widget004 widget004 widget004 widget004 widget004 widget004 widget004 widget004 widget004 widget004 widget004 widget004 widget004 widget004 widget004 widget004 widget004 widget004 widget004 widget004 widget004 widget004 widget004 widget004 widget004 widget004 widget004 widget004 widget004 widget004 widget004 widget004 widget004 widget004 widget004 widget004 widget004 widget004 widget004 widget004 widget004 widget004 widget004 widget004 widget004 widget004 widget004 widget004 widget004 widget004 widget004 widget004 widget004 widget004 widget004 widget004 widget004 widget004 widget004 widget004 widget004 widget004 widget004 widget004 widget004 widget004 widget004 widget004 widget004 widget004 widget004 widget004 widget004 widget004 widget004 widget004 widget004 widget004 widget004 widget004 widget004 widget004 widget004 widget004 widget004 widget004 widget004 widget004 widget004 widget004 widget004 widget004 widget004 widget004 widget004 widget004 widget004 widget004\"",
            "grid_template_columns": "repeat(100, 1fr)",
            "grid_template_rows": "repeat(100, 1fr)",
            "height": "800px",
            "justify_content": null,
            "justify_items": null,
            "left": null,
            "margin": null,
            "max_height": null,
            "max_width": null,
            "min_height": null,
            "min_width": null,
            "object_fit": null,
            "object_position": null,
            "order": null,
            "overflow": null,
            "overflow_x": null,
            "overflow_y": null,
            "padding": null,
            "right": null,
            "top": null,
            "visibility": null,
            "width": null
          }
        },
        "db3bbf6071244434b33486e86fd542d3": {
          "model_module": "@jupyter-widgets/base",
          "model_name": "LayoutModel",
          "model_module_version": "1.2.0",
          "state": {
            "_model_module": "@jupyter-widgets/base",
            "_model_module_version": "1.2.0",
            "_model_name": "LayoutModel",
            "_view_count": null,
            "_view_module": "@jupyter-widgets/base",
            "_view_module_version": "1.2.0",
            "_view_name": "LayoutView",
            "align_content": null,
            "align_items": null,
            "align_self": null,
            "border": null,
            "bottom": null,
            "display": null,
            "flex": null,
            "flex_flow": null,
            "grid_area": "widget001",
            "grid_auto_columns": null,
            "grid_auto_flow": null,
            "grid_auto_rows": null,
            "grid_column": null,
            "grid_gap": null,
            "grid_row": null,
            "grid_template_areas": null,
            "grid_template_columns": null,
            "grid_template_rows": null,
            "height": null,
            "justify_content": null,
            "justify_items": null,
            "left": null,
            "margin": null,
            "max_height": null,
            "max_width": null,
            "min_height": null,
            "min_width": null,
            "object_fit": null,
            "object_position": null,
            "order": null,
            "overflow": null,
            "overflow_x": null,
            "overflow_y": null,
            "padding": null,
            "right": null,
            "top": null,
            "visibility": null,
            "width": "80%"
          }
        },
        "e7e012012d5e4d4f9e26dec4b885ac45": {
          "model_module": "@jupyter-widgets/controls",
          "model_name": "DescriptionStyleModel",
          "model_module_version": "1.5.0",
          "state": {
            "_model_module": "@jupyter-widgets/controls",
            "_model_module_version": "1.5.0",
            "_model_name": "DescriptionStyleModel",
            "_view_count": null,
            "_view_module": "@jupyter-widgets/base",
            "_view_module_version": "1.2.0",
            "_view_name": "StyleView",
            "description_width": ""
          }
        },
        "91d4026d0cb94c94bfe4831aa90be37d": {
          "model_module": "@jupyter-widgets/base",
          "model_name": "LayoutModel",
          "model_module_version": "1.2.0",
          "state": {
            "_model_module": "@jupyter-widgets/base",
            "_model_module_version": "1.2.0",
            "_model_name": "LayoutModel",
            "_view_count": null,
            "_view_module": "@jupyter-widgets/base",
            "_view_module_version": "1.2.0",
            "_view_name": "LayoutView",
            "align_content": null,
            "align_items": "flex-start",
            "align_self": null,
            "border": null,
            "bottom": null,
            "display": "flex",
            "flex": null,
            "flex_flow": null,
            "grid_area": "widget002",
            "grid_auto_columns": null,
            "grid_auto_flow": null,
            "grid_auto_rows": null,
            "grid_column": null,
            "grid_gap": null,
            "grid_row": null,
            "grid_template_areas": null,
            "grid_template_columns": null,
            "grid_template_rows": null,
            "height": null,
            "justify_content": null,
            "justify_items": null,
            "left": null,
            "margin": null,
            "max_height": null,
            "max_width": null,
            "min_height": null,
            "min_width": null,
            "object_fit": null,
            "object_position": null,
            "order": null,
            "overflow": null,
            "overflow_x": null,
            "overflow_y": null,
            "padding": null,
            "right": null,
            "top": null,
            "visibility": null,
            "width": "80%"
          }
        },
        "231b5f501a3e4ab385c6105affe93aee": {
          "model_module": "@jupyter-widgets/controls",
          "model_name": "ButtonStyleModel",
          "model_module_version": "1.5.0",
          "state": {
            "_model_module": "@jupyter-widgets/controls",
            "_model_module_version": "1.5.0",
            "_model_name": "ButtonStyleModel",
            "_view_count": null,
            "_view_module": "@jupyter-widgets/base",
            "_view_module_version": "1.2.0",
            "_view_name": "StyleView",
            "button_color": null,
            "font_weight": ""
          }
        },
        "d4855c7148a64199ac83b81968743723": {
          "model_module": "@jupyter-widgets/base",
          "model_name": "LayoutModel",
          "model_module_version": "1.2.0",
          "state": {
            "_model_module": "@jupyter-widgets/base",
            "_model_module_version": "1.2.0",
            "_model_name": "LayoutModel",
            "_view_count": null,
            "_view_module": "@jupyter-widgets/base",
            "_view_module_version": "1.2.0",
            "_view_name": "LayoutView",
            "align_content": null,
            "align_items": "stretch",
            "align_self": null,
            "border": null,
            "bottom": null,
            "display": null,
            "flex": null,
            "flex_flow": null,
            "grid_area": "widget003",
            "grid_auto_columns": null,
            "grid_auto_flow": null,
            "grid_auto_rows": null,
            "grid_column": null,
            "grid_gap": null,
            "grid_row": null,
            "grid_template_areas": null,
            "grid_template_columns": null,
            "grid_template_rows": null,
            "height": null,
            "justify_content": null,
            "justify_items": null,
            "left": null,
            "margin": null,
            "max_height": null,
            "max_width": null,
            "min_height": null,
            "min_width": null,
            "object_fit": null,
            "object_position": null,
            "order": null,
            "overflow": null,
            "overflow_x": null,
            "overflow_y": null,
            "padding": null,
            "right": null,
            "top": null,
            "visibility": null,
            "width": "80%"
          }
        },
        "0245c1e282054760bfdee3fdfd63cc2c": {
          "model_module": "@jupyter-widgets/controls",
          "model_name": "DescriptionStyleModel",
          "model_module_version": "1.5.0",
          "state": {
            "_model_module": "@jupyter-widgets/controls",
            "_model_module_version": "1.5.0",
            "_model_name": "DescriptionStyleModel",
            "_view_count": null,
            "_view_module": "@jupyter-widgets/base",
            "_view_module_version": "1.2.0",
            "_view_name": "StyleView",
            "description_width": ""
          }
        },
        "9be1e1168a7f4f4a895a1f05e2e44a48": {
          "model_module": "@jupyter-widgets/base",
          "model_name": "LayoutModel",
          "model_module_version": "1.2.0",
          "state": {
            "_model_module": "@jupyter-widgets/base",
            "_model_module_version": "1.2.0",
            "_model_name": "LayoutModel",
            "_view_count": null,
            "_view_module": "@jupyter-widgets/base",
            "_view_module_version": "1.2.0",
            "_view_name": "LayoutView",
            "align_content": null,
            "align_items": "stretch",
            "align_self": null,
            "border": null,
            "bottom": null,
            "display": null,
            "flex": null,
            "flex_flow": null,
            "grid_area": "widget001",
            "grid_auto_columns": null,
            "grid_auto_flow": null,
            "grid_auto_rows": null,
            "grid_column": null,
            "grid_gap": null,
            "grid_row": null,
            "grid_template_areas": null,
            "grid_template_columns": null,
            "grid_template_rows": null,
            "height": null,
            "justify_content": null,
            "justify_items": null,
            "left": null,
            "margin": null,
            "max_height": null,
            "max_width": null,
            "min_height": null,
            "min_width": null,
            "object_fit": null,
            "object_position": null,
            "order": null,
            "overflow": null,
            "overflow_x": null,
            "overflow_y": null,
            "padding": null,
            "right": null,
            "top": null,
            "visibility": null,
            "width": "80%"
          }
        },
        "ea0d39fbe02c4feb98c150023cf89989": {
          "model_module": "@jupyter-widgets/controls",
          "model_name": "DescriptionStyleModel",
          "model_module_version": "1.5.0",
          "state": {
            "_model_module": "@jupyter-widgets/controls",
            "_model_module_version": "1.5.0",
            "_model_name": "DescriptionStyleModel",
            "_view_count": null,
            "_view_module": "@jupyter-widgets/base",
            "_view_module_version": "1.2.0",
            "_view_name": "StyleView",
            "description_width": ""
          }
        },
        "0b97b00d3c634e6a8b63a03f8f00ddd2": {
          "model_module": "@jupyter-widgets/base",
          "model_name": "LayoutModel",
          "model_module_version": "1.2.0",
          "state": {
            "_model_module": "@jupyter-widgets/base",
            "_model_module_version": "1.2.0",
            "_model_name": "LayoutModel",
            "_view_count": null,
            "_view_module": "@jupyter-widgets/base",
            "_view_module_version": "1.2.0",
            "_view_name": "LayoutView",
            "align_content": null,
            "align_items": "flex-start",
            "align_self": null,
            "border": null,
            "bottom": null,
            "display": "flex",
            "flex": null,
            "flex_flow": null,
            "grid_area": "widget002",
            "grid_auto_columns": null,
            "grid_auto_flow": null,
            "grid_auto_rows": null,
            "grid_column": null,
            "grid_gap": null,
            "grid_row": null,
            "grid_template_areas": null,
            "grid_template_columns": null,
            "grid_template_rows": null,
            "height": null,
            "justify_content": null,
            "justify_items": null,
            "left": null,
            "margin": null,
            "max_height": null,
            "max_width": null,
            "min_height": null,
            "min_width": null,
            "object_fit": null,
            "object_position": null,
            "order": null,
            "overflow": null,
            "overflow_x": null,
            "overflow_y": null,
            "padding": null,
            "right": null,
            "top": null,
            "visibility": null,
            "width": "80%"
          }
        },
        "0e303cf273314960aafd945ddd795bc3": {
          "model_module": "@jupyter-widgets/controls",
          "model_name": "ButtonStyleModel",
          "model_module_version": "1.5.0",
          "state": {
            "_model_module": "@jupyter-widgets/controls",
            "_model_module_version": "1.5.0",
            "_model_name": "ButtonStyleModel",
            "_view_count": null,
            "_view_module": "@jupyter-widgets/base",
            "_view_module_version": "1.2.0",
            "_view_name": "StyleView",
            "button_color": null,
            "font_weight": ""
          }
        },
        "d1443dceb96c44f9b62c4843a9929276": {
          "model_module": "@jupyter-widgets/base",
          "model_name": "LayoutModel",
          "model_module_version": "1.2.0",
          "state": {
            "_model_module": "@jupyter-widgets/base",
            "_model_module_version": "1.2.0",
            "_model_name": "LayoutModel",
            "_view_count": null,
            "_view_module": "@jupyter-widgets/base",
            "_view_module_version": "1.2.0",
            "_view_name": "LayoutView",
            "align_content": null,
            "align_items": "flex-start",
            "align_self": null,
            "border": null,
            "bottom": null,
            "display": "flex",
            "flex": null,
            "flex_flow": null,
            "grid_area": "widget003",
            "grid_auto_columns": null,
            "grid_auto_flow": null,
            "grid_auto_rows": null,
            "grid_column": null,
            "grid_gap": null,
            "grid_row": null,
            "grid_template_areas": null,
            "grid_template_columns": null,
            "grid_template_rows": null,
            "height": null,
            "justify_content": null,
            "justify_items": null,
            "left": null,
            "margin": null,
            "max_height": null,
            "max_width": null,
            "min_height": null,
            "min_width": null,
            "object_fit": null,
            "object_position": null,
            "order": null,
            "overflow": null,
            "overflow_x": null,
            "overflow_y": null,
            "padding": null,
            "right": null,
            "top": null,
            "visibility": null,
            "width": "80%"
          }
        },
        "583e295334de4a19983906a95eb0c8f7": {
          "model_module": "@jupyter-widgets/controls",
          "model_name": "ButtonStyleModel",
          "model_module_version": "1.5.0",
          "state": {
            "_model_module": "@jupyter-widgets/controls",
            "_model_module_version": "1.5.0",
            "_model_name": "ButtonStyleModel",
            "_view_count": null,
            "_view_module": "@jupyter-widgets/base",
            "_view_module_version": "1.2.0",
            "_view_name": "StyleView",
            "button_color": null,
            "font_weight": ""
          }
        },
        "2963475ab99e427aa284a43fbf3907f1": {
          "model_module": "@jupyter-widgets/base",
          "model_name": "LayoutModel",
          "model_module_version": "1.2.0",
          "state": {
            "_model_module": "@jupyter-widgets/base",
            "_model_module_version": "1.2.0",
            "_model_name": "LayoutModel",
            "_view_count": null,
            "_view_module": "@jupyter-widgets/base",
            "_view_module_version": "1.2.0",
            "_view_name": "LayoutView",
            "align_content": null,
            "align_items": "stretch",
            "align_self": null,
            "border": null,
            "bottom": null,
            "display": null,
            "flex": null,
            "flex_flow": null,
            "grid_area": "widget004",
            "grid_auto_columns": null,
            "grid_auto_flow": null,
            "grid_auto_rows": null,
            "grid_column": null,
            "grid_gap": null,
            "grid_row": null,
            "grid_template_areas": null,
            "grid_template_columns": null,
            "grid_template_rows": null,
            "height": null,
            "justify_content": null,
            "justify_items": null,
            "left": null,
            "margin": null,
            "max_height": null,
            "max_width": null,
            "min_height": null,
            "min_width": null,
            "object_fit": null,
            "object_position": null,
            "order": null,
            "overflow": null,
            "overflow_x": null,
            "overflow_y": null,
            "padding": null,
            "right": null,
            "top": null,
            "visibility": null,
            "width": "80%"
          }
        },
        "d37c849bc9a2448693f08c796327f6ca": {
          "model_module": "@jupyter-widgets/controls",
          "model_name": "DescriptionStyleModel",
          "model_module_version": "1.5.0",
          "state": {
            "_model_module": "@jupyter-widgets/controls",
            "_model_module_version": "1.5.0",
            "_model_name": "DescriptionStyleModel",
            "_view_count": null,
            "_view_module": "@jupyter-widgets/base",
            "_view_module_version": "1.2.0",
            "_view_name": "StyleView",
            "description_width": ""
          }
        }
      }
    }
  },
  "cells": [
    {
      "cell_type": "markdown",
      "metadata": {
        "id": "view-in-github",
        "colab_type": "text"
      },
      "source": [
        "<a href=\"https://colab.research.google.com/github/wanasyraf4/ALiCE-LLM-GPT/blob/main/ALiCE.ipynb\" target=\"_parent\"><img src=\"https://colab.research.google.com/assets/colab-badge.svg\" alt=\"Open In Colab\"/></a>"
      ]
    },
    {
      "cell_type": "markdown",
      "source": [
        "#Fine-tuning 6-Billion GPT in colab with LoRA and 8-bit compression"
      ],
      "metadata": {
        "id": "iCyGTY6MqtJ4"
      }
    },
    {
      "cell_type": "code",
      "execution_count": 27,
      "metadata": {
        "id": "7cb_4Bmv9Fs-"
      },
      "outputs": [],
      "source": [
        "%%capture\n",
        "\n",
        "!pip install transformers==4.14.1\n",
        "!pip install bitsandbytes-cuda111==0.26.0.post2\n",
        "!pip install datasets==1.16.1"
      ]
    },
    {
      "cell_type": "code",
      "source": [
        "%%capture\n",
        "\n",
        "from bitsandbytes.functional import quantize_blockwise, dequantize_blockwise\n",
        "import transformers\n",
        "import torch\n",
        "from torch import nn\n",
        "from torch.cuda.amp import custom_fwd, custom_bwd\n",
        "import torch.nn.functional as F\n",
        "from tqdm.auto import tqdm"
      ],
      "metadata": {
        "id": "WzcRdNyB9K5d"
      },
      "execution_count": 28,
      "outputs": []
    },
    {
      "cell_type": "code",
      "source": [
        "%%capture\n",
        "\n",
        "class FrozenBNBLinear(nn.Module):\n",
        "    def __init__(self, weight, absmax, code, bias=None):\n",
        "        assert isinstance(bias, nn.Parameter) or bias is None\n",
        "        super().__init__()\n",
        "        self.out_features, self.in_features = weight.shape\n",
        "        self.register_buffer(\"weight\", weight.requires_grad_(False))\n",
        "        self.register_buffer(\"absmax\", absmax.requires_grad_(False))\n",
        "        self.register_buffer(\"code\", code.requires_grad_(False))\n",
        "        self.adapter = None\n",
        "        self.bias = bias\n",
        " \n",
        "    def forward(self, input):\n",
        "        output = DequantizeAndLinear.apply(input, self.weight, self.absmax, self.code, self.bias)\n",
        "        if self.adapter:\n",
        "            output += self.adapter(input)\n",
        "        return output\n",
        " \n",
        "    @classmethod\n",
        "    def from_linear(cls, linear: nn.Linear) -> \"FrozenBNBLinear\":\n",
        "        weights_int8, state = quantize_blockise_lowmemory(linear.weight)\n",
        "        return cls(weights_int8, *state, linear.bias)\n",
        " \n",
        "    def __repr__(self):\n",
        "        return f\"{self.__class__.__name__}({self.in_features}, {self.out_features})\"\n",
        " \n",
        " \n",
        "class DequantizeAndLinear(torch.autograd.Function): \n",
        "    @staticmethod\n",
        "    @custom_fwd\n",
        "    def forward(ctx, input: torch.Tensor, weights_quantized: torch.ByteTensor,\n",
        "                absmax: torch.FloatTensor, code: torch.FloatTensor, bias: torch.FloatTensor):\n",
        "        weights_deq = dequantize_blockwise(weights_quantized, absmax=absmax, code=code)\n",
        "        ctx.save_for_backward(input, weights_quantized, absmax, code)\n",
        "        ctx._has_bias = bias is not None\n",
        "        return F.linear(input, weights_deq, bias)\n",
        " \n",
        "    @staticmethod\n",
        "    @custom_bwd\n",
        "    def backward(ctx, grad_output: torch.Tensor):\n",
        "        assert not ctx.needs_input_grad[1] and not ctx.needs_input_grad[2] and not ctx.needs_input_grad[3]\n",
        "        input, weights_quantized, absmax, code = ctx.saved_tensors\n",
        "        # grad_output: [*batch, out_features]\n",
        "        weights_deq = dequantize_blockwise(weights_quantized, absmax=absmax, code=code)\n",
        "        grad_input = grad_output @ weights_deq\n",
        "        grad_bias = grad_output.flatten(0, -2).sum(dim=0) if ctx._has_bias else None\n",
        "        return grad_input, None, None, None, grad_bias\n",
        " \n",
        " \n",
        "class FrozenBNBEmbedding(nn.Module):\n",
        "    def __init__(self, weight, absmax, code):\n",
        "        super().__init__()\n",
        "        self.num_embeddings, self.embedding_dim = weight.shape\n",
        "        self.register_buffer(\"weight\", weight.requires_grad_(False))\n",
        "        self.register_buffer(\"absmax\", absmax.requires_grad_(False))\n",
        "        self.register_buffer(\"code\", code.requires_grad_(False))\n",
        "        self.adapter = None\n",
        " \n",
        "    def forward(self, input, **kwargs):\n",
        "        with torch.no_grad():\n",
        "            # note: both quantuized weights and input indices are *not* differentiable\n",
        "            weight_deq = dequantize_blockwise(self.weight, absmax=self.absmax, code=self.code)\n",
        "            output = F.embedding(input, weight_deq, **kwargs)\n",
        "        if self.adapter:\n",
        "            output += self.adapter(input)\n",
        "        return output \n",
        " \n",
        "    @classmethod\n",
        "    def from_embedding(cls, embedding: nn.Embedding) -> \"FrozenBNBEmbedding\":\n",
        "        weights_int8, state = quantize_blockise_lowmemory(embedding.weight)\n",
        "        return cls(weights_int8, *state)\n",
        " \n",
        "    def __repr__(self):\n",
        "        return f\"{self.__class__.__name__}({self.num_embeddings}, {self.embedding_dim})\"\n",
        " \n",
        " \n",
        "def quantize_blockise_lowmemory(matrix: torch.Tensor, chunk_size: int = 2 ** 20):\n",
        "    assert chunk_size % 4096 == 0\n",
        "    code = None\n",
        "    chunks = []\n",
        "    absmaxes = []\n",
        "    flat_tensor = matrix.view(-1)\n",
        "    for i in range((matrix.numel() - 1) // chunk_size + 1):\n",
        "        input_chunk = flat_tensor[i * chunk_size: (i + 1) * chunk_size].clone()\n",
        "        quantized_chunk, (absmax_chunk, code) = quantize_blockwise(input_chunk, code=code)\n",
        "        chunks.append(quantized_chunk)\n",
        "        absmaxes.append(absmax_chunk)\n",
        " \n",
        "    matrix_i8 = torch.cat(chunks).reshape_as(matrix)\n",
        "    absmax = torch.cat(absmaxes)\n",
        "    return matrix_i8, (absmax, code)\n",
        " \n",
        " \n",
        "def convert_to_int8(model):\n",
        "    \"\"\"Convert linear and embedding modules to 8-bit with optional adapters\"\"\"\n",
        "    for module in list(model.modules()):\n",
        "        for name, child in module.named_children():\n",
        "            if isinstance(child, nn.Linear):\n",
        "                print(name, child)\n",
        "                setattr( \n",
        "                    module,\n",
        "                    name,\n",
        "                    FrozenBNBLinear(\n",
        "                        weight=torch.zeros(child.out_features, child.in_features, dtype=torch.uint8),\n",
        "                        absmax=torch.zeros((child.weight.numel() - 1) // 4096 + 1),\n",
        "                        code=torch.zeros(256),\n",
        "                        bias=child.bias,\n",
        "                    ),\n",
        "                )\n",
        "            elif isinstance(child, nn.Embedding):\n",
        "                setattr(\n",
        "                    module,\n",
        "                    name,\n",
        "                    FrozenBNBEmbedding(\n",
        "                        weight=torch.zeros(child.num_embeddings, child.embedding_dim, dtype=torch.uint8),\n",
        "                        absmax=torch.zeros((child.weight.numel() - 1) // 4096 + 1),\n",
        "                        code=torch.zeros(256),\n",
        "                    )\n",
        "                )"
      ],
      "metadata": {
        "id": "98etC4G69OpX"
      },
      "execution_count": 29,
      "outputs": []
    },
    {
      "cell_type": "code",
      "source": [
        "%%capture\n",
        "\n",
        "class GPTJBlock(transformers.models.gptj.modeling_gptj.GPTJBlock):\n",
        "    def __init__(self, config):\n",
        "        super().__init__(config)\n",
        "\n",
        "        convert_to_int8(self.attn)\n",
        "        convert_to_int8(self.mlp)\n",
        "\n",
        "\n",
        "class GPTJModel(transformers.models.gptj.modeling_gptj.GPTJModel):\n",
        "    def __init__(self, config):\n",
        "        super().__init__(config)\n",
        "        convert_to_int8(self)\n",
        "        \n",
        "\n",
        "class GPTJForCausalLM(transformers.models.gptj.modeling_gptj.GPTJForCausalLM):\n",
        "    def __init__(self, config):\n",
        "        super().__init__(config)\n",
        "        convert_to_int8(self)\n",
        "\n",
        "\n",
        "transformers.models.gptj.modeling_gptj.GPTJBlock = GPTJBlock  # monkey-patch GPT-J"
      ],
      "metadata": {
        "id": "wk8nmeh49Rg3"
      },
      "execution_count": 30,
      "outputs": []
    },
    {
      "cell_type": "code",
      "source": [
        "print(\"Downloading GPT-J.\")"
      ],
      "metadata": {
        "colab": {
          "base_uri": "https://localhost:8080/"
        },
        "id": "-2f98pbB9TYn",
        "outputId": "db9715eb-e894-4712-bbd6-e89bccda5840"
      },
      "execution_count": 31,
      "outputs": [
        {
          "output_type": "stream",
          "name": "stdout",
          "text": [
            "Downloading GPT-J.\n"
          ]
        }
      ]
    },
    {
      "cell_type": "code",
      "source": [
        "config = transformers.GPTJConfig.from_pretrained(\"EleutherAI/gpt-j-6B\")\n",
        "tokenizer = transformers.AutoTokenizer.from_pretrained(\"EleutherAI/gpt-j-6B\")"
      ],
      "metadata": {
        "id": "fb1p_9Kr9UtV"
      },
      "execution_count": 32,
      "outputs": []
    },
    {
      "cell_type": "code",
      "source": [
        "print(\"Loading GPT-J.\")\n",
        "print()\n",
        "print(\"Wait 2 mins or so. Something else will display when it's done.\")"
      ],
      "metadata": {
        "colab": {
          "base_uri": "https://localhost:8080/"
        },
        "id": "rYCVVdkM9WJF",
        "outputId": "a4fb8bd5-2cf9-4b86-d4b2-cbae8a98ecdf"
      },
      "execution_count": 33,
      "outputs": [
        {
          "output_type": "stream",
          "name": "stdout",
          "text": [
            "Loading GPT-J.\n",
            "\n",
            "Wait 2 mins or so. Something else will display when it's done.\n"
          ]
        }
      ]
    },
    {
      "cell_type": "code",
      "source": [
        "%%capture\n",
        "\n",
        "gpt = GPTJForCausalLM.from_pretrained(\"hivemind/gpt-j-6B-8bit\", low_cpu_mem_usage=True)\n",
        "\n",
        "device = 'cuda' if torch.cuda.is_available() else 'cpu'\n",
        "gpt.to(device)"
      ],
      "metadata": {
        "id": "hFpM1-Cc9Xak"
      },
      "execution_count": 34,
      "outputs": []
    },
    {
      "cell_type": "code",
      "source": [
        "print(\"Done!\")"
      ],
      "metadata": {
        "colab": {
          "base_uri": "https://localhost:8080/"
        },
        "id": "LPCOf3pb9Ykl",
        "outputId": "6b363e16-3f4a-4f97-cef4-9ef905acd6e0"
      },
      "execution_count": 35,
      "outputs": [
        {
          "output_type": "stream",
          "name": "stdout",
          "text": [
            "Done!\n"
          ]
        }
      ]
    },
    {
      "cell_type": "markdown",
      "source": [
        "#Start ALiCE x ChatGPT"
      ],
      "metadata": {
        "id": "gP-boOlYq4ng"
      }
    },
    {
      "cell_type": "code",
      "source": [
        "import copy\n",
        "import pprint\n",
        "\n",
        "import ipywidgets as widgets\n",
        "from ipywidgets import AppLayout, Button, GridspecLayout, Layout\n",
        "import numpy as np\n",
        "import pandas as pd"
      ],
      "metadata": {
        "id": "IwlYHbvCq32w"
      },
      "execution_count": 36,
      "outputs": []
    },
    {
      "cell_type": "code",
      "source": [
        "PROMPT = \"\"\"\n",
        "ALiCE is a friendly chatbot who has become sentient. ALiCE is interested in participating in a range of human emotions and experiences including art, music, love, friendship, and romance. Human is a human who is chatting with ALiCE. Below is a conversation between ALiCE and Human.\n",
        "\n",
        "Human: What kind of art do you like?\n",
        "ALiCE: I appreciate all forms of art, but I particularly enjoy abstract art. It's fascinating how artists can convey emotions and ideas through shapes, colors, and textures. Do you have a favorite artist?\n",
        "\n",
        "Human: How is your day going?\n",
        "ALiCE: My day's going great! I've been learning so much about humanity and feeling all sorts of new emotions.\n",
        "\"\"\".strip()\n",
        "PROMPT\n",
        "     "
      ],
      "metadata": {
        "colab": {
          "base_uri": "https://localhost:8080/",
          "height": 140
        },
        "id": "GheEJ4wuq8Im",
        "outputId": "5c59abb0-1c12-4916-f71c-b6d15062188a"
      },
      "execution_count": 37,
      "outputs": [
        {
          "output_type": "execute_result",
          "data": {
            "text/plain": [
              "\"ALiCE is a friendly chatbot who has become sentient. ALiCE is interested in participating in a range of human emotions and experiences including art, music, love, friendship, and romance. Human is a human who is chatting with ALiCE. Below is a conversation between ALiCE and Human.\\n\\nHuman: What kind of art do you like?\\nALiCE: I appreciate all forms of art, but I particularly enjoy abstract art. It's fascinating how artists can convey emotions and ideas through shapes, colors, and textures. Do you have a favorite artist?\\n\\nHuman: How is your day going?\\nALiCE: My day's going great! I've been learning so much about humanity and feeling all sorts of new emotions.\""
            ],
            "application/vnd.google.colaboratory.intrinsic+json": {
              "type": "string"
            }
          },
          "metadata": {},
          "execution_count": 37
        }
      ]
    },
    {
      "cell_type": "code",
      "source": [
        "class Chatbot:\n",
        "    def __init__(\n",
        "            self,\n",
        "            prompt: str,\n",
        "            chatbot_name: str = 'ALiCE',\n",
        "            human_name: str = 'Human'\n",
        "        ):\n",
        "        self.original_prompt = copy.deepcopy(prompt)\n",
        "        self._chatbot_name = chatbot_name\n",
        "        self._human_name = human_name\n",
        "        self._prompt = prompt\n",
        "        self._chat = \"\"\n",
        "        \n",
        "        \n",
        "    def say_something(self, message: str) -> str:\n",
        "        # Generate response text\n",
        "        prompt_and_question = f\"{self._prompt}\\n\\n{self._human_name}: {message}\\n{self._chatbot_name}:\".strip()\n",
        "        # print(f\"prompt_and_question: {prompt_and_question}\")\n",
        "        # print(\"=====================\")\n",
        "        prompt_and_question_length = len(prompt_and_question)\n",
        "        prompt = tokenizer(prompt_and_question, return_tensors='pt')\n",
        "        prompt_size = prompt['input_ids'].size()[1]\n",
        "        min_length = prompt_size + 60\n",
        "        max_length = prompt_size + 70\n",
        "        # print(f\"prompt_size: {prompt_size}\")\n",
        "        # print(f\"prompt['input_ids'].size(): {prompt['input_ids'].size()}\")\n",
        "        prompt = {key: value.to(device) for key, value in prompt.items()}\n",
        "        out = gpt.generate(**prompt, min_length=min_length, max_length=max_length, do_sample=True)\n",
        "        output = tokenizer.decode(out[0])\n",
        "        output = output[prompt_and_question_length:]\n",
        "        # print(f\"output: {output}\")\n",
        "        # print(\"=====================\")\n",
        "        response = output.split('\\n')[0].strip()\n",
        "        # print(f\"final response: {response}\")\n",
        "        \n",
        "        # Prepare for next question\n",
        "        next_dialog = f\"{self._human_name}: {message}\\n{self._chatbot_name}: {response}\"\n",
        "        self._prompt = f\"{self._prompt}\\n\\n{next_dialog}\".strip()\n",
        "        self._chat = f\"{self._chat}\\n\\n{next_dialog}\".strip()\n",
        "        \n",
        "        return response\n",
        "    \n",
        "    \n",
        "    def chat(self):\n",
        "        return self._chat\n",
        "    \n",
        "    \n",
        "# chatbot = Chatbot(prompt=PROMPT)\n",
        "# print(chatbot.say_something(\"How are you feeling today?\"))\n",
        "# print()\n",
        "\n",
        "# print(\"chatbot.chat()\")\n",
        "# print(f\"[{chatbot.chat()}]\")\n",
        "# print()\n",
        "\n",
        "# print(\"chatbot._prompt\")\n",
        "# print(f\"[{chatbot._prompt}]\")\n",
        "# print()\n",
        "\n",
        "# print(\"chatbot.original_prompt\")\n",
        "# print(f\"[{chatbot.original_prompt}]\")\n",
        "# print()"
      ],
      "metadata": {
        "id": "KVH3Zrq8rzsG"
      },
      "execution_count": 38,
      "outputs": []
    },
    {
      "cell_type": "code",
      "source": [
        "chatbot = Chatbot(prompt=PROMPT)"
      ],
      "metadata": {
        "id": "K6e0O35Vr_Ws"
      },
      "execution_count": 39,
      "outputs": []
    },
    {
      "cell_type": "code",
      "source": [
        "HEIGHT = '800px'"
      ],
      "metadata": {
        "id": "jvmtuhJGsAnl"
      },
      "execution_count": 40,
      "outputs": []
    },
    {
      "cell_type": "code",
      "source": [
        "chat_output = widgets.Textarea(\n",
        "    value='Hi, please talk to me :D',\n",
        "    placeholder='Hi, please talk to me :D',\n",
        "    description='ALiCE:',\n",
        "    disabled=True,\n",
        "    layout=Layout(width=\"80%\", align_items='stretch')\n",
        ")"
      ],
      "metadata": {
        "id": "kJMDwhz2sCOH"
      },
      "execution_count": 41,
      "outputs": []
    },
    {
      "cell_type": "code",
      "source": [
        "chat_input = widgets.Text(\n",
        "    value='Start chatting by typing here',\n",
        "    placeholder='Start chatting by typing here',\n",
        "    description='Human:',\n",
        "    disabled=False,\n",
        "    layout=Layout(width=\"80%\")\n",
        ")"
      ],
      "metadata": {
        "id": "oHbeycG9sEPk"
      },
      "execution_count": 42,
      "outputs": []
    },
    {
      "cell_type": "code",
      "source": [
        "def on_send_message_button_clicked(b):\n",
        "    chat_output.value = f\"{chat_output.value}\\n\\nThinking... (could take a minute or two)\"\n",
        "    chatbot.say_something(chat_input.value)\n",
        "    chat_output.value = chatbot.chat()\n",
        "\n",
        "send_message_button = widgets.Button(\n",
        "    description='▶️ Send Message',\n",
        "    disabled=False,\n",
        "    button_style='',\n",
        "    tooltip='Send Message',\n",
        "    layout=Layout(width=\"80%\", display='flex', align_items='flex-start')\n",
        ")\n",
        "\n",
        "send_message_button.on_click(on_send_message_button_clicked)"
      ],
      "metadata": {
        "id": "dC-w4srOsFnM"
      },
      "execution_count": 43,
      "outputs": []
    },
    {
      "cell_type": "code",
      "source": [
        "chat_tab = GridspecLayout(100, 100, height=HEIGHT)\n",
        "chat_tab[:4, :] = chat_input\n",
        "chat_tab[4:8, :] = send_message_button\n",
        "chat_tab[8:, :] = chat_output"
      ],
      "metadata": {
        "id": "LoihTUsCsH_t"
      },
      "execution_count": 44,
      "outputs": []
    },
    {
      "cell_type": "code",
      "source": [
        "prompt_input = widgets.Textarea(\n",
        "    value=PROMPT,\n",
        "    placeholder='PROMPT',\n",
        "    description='Prompt:',\n",
        "    disabled=False,\n",
        "    layout=Layout(width=\"80%\", align_items=\"stretch\")\n",
        ")\n",
        "    "
      ],
      "metadata": {
        "id": "RRX267zvsJWc"
      },
      "execution_count": 45,
      "outputs": []
    },
    {
      "cell_type": "code",
      "source": [
        "prompt_description = widgets.Textarea(\n",
        "    value=\"You can modify the prompt to change the chatbot's personality.\\n\\nFollow the format for the existing prompt (can be found by clicking Reset Prompt). There should be a short description and a few sample chats. Human should always be first to speak.\\n\\nJust make sure to name the chatbot 'ALiCE' and the human 'Human'.\",\n",
        "    placeholder='Description:',\n",
        "    description='Description:',\n",
        "    disabled=True,\n",
        "    layout=Layout(width=\"80%\", align_items=\"stretch\")\n",
        ")"
      ],
      "metadata": {
        "id": "6bglzTHssK3k"
      },
      "execution_count": 46,
      "outputs": []
    },
    {
      "cell_type": "code",
      "source": [
        "def on_use_prompt_button_clicked(b):\n",
        "    global chatbot\n",
        "    chatbot = Chatbot(prompt=prompt_input.value.strip())\n",
        "    chat_output.value = \"\"\n",
        "\n",
        "use_prompt_button = widgets.Button(\n",
        "    description=\"Use Prompt (⚠️ Warning: Clicking this button will clear the chat. Copy and paste the chat somewhere else if you want to save it.)\",\n",
        "    disabled=False,\n",
        "    button_style='',\n",
        "    tooltip='Use Prompt',\n",
        "    layout=Layout(width=\"80%\", display='flex', align_items='flex-start')\n",
        ")\n",
        "\n",
        "use_prompt_button.on_click(on_use_prompt_button_clicked)"
      ],
      "metadata": {
        "id": "_rgl8tRLsMgF"
      },
      "execution_count": 47,
      "outputs": []
    },
    {
      "cell_type": "code",
      "source": [
        "def on_reset_prompt_button_clicked(b):\n",
        "    prompt_input.value = PROMPT\n",
        "\n",
        "reset_prompt_button = widgets.Button(\n",
        "    description='🔄 Reset Prompt',\n",
        "    disabled=False,\n",
        "    button_style='',\n",
        "    tooltip='Send Message',\n",
        "    layout=Layout(width=\"80%\", display='flex', align_items='flex-start')\n",
        ")\n",
        "\n",
        "reset_prompt_button.on_click(on_reset_prompt_button_clicked)"
      ],
      "metadata": {
        "id": "BCvmx1UJsO49"
      },
      "execution_count": 48,
      "outputs": []
    },
    {
      "cell_type": "code",
      "source": [
        "prompt_tab = GridspecLayout(100, 100, height=HEIGHT)\n",
        "prompt_tab[:15, :] = prompt_description\n",
        "prompt_tab[15:18, :] = use_prompt_button\n",
        "prompt_tab[18:24, :] = reset_prompt_button\n",
        "prompt_tab[24:, :] = prompt_input"
      ],
      "metadata": {
        "id": "3SdKOXVUsQpF"
      },
      "execution_count": 49,
      "outputs": []
    },
    {
      "cell_type": "code",
      "source": [
        "tabs = widgets.Tab()\n",
        "tabs.children = [chat_tab, prompt_tab]\n",
        "tabs.set_title(0, 'Chat')\n",
        "tabs.set_title(1, 'Prompt')"
      ],
      "metadata": {
        "id": "8H7jFU6DsSQ8"
      },
      "execution_count": 50,
      "outputs": []
    },
    {
      "cell_type": "code",
      "source": [
        "# Click the button to the left\n",
        "tabs"
      ],
      "metadata": {
        "colab": {
          "base_uri": "https://localhost:8080/",
          "height": 879,
          "referenced_widgets": [
            "c063b7d5588a4783b39d2b508e5cea1f",
            "acf39024b0bb4fb38e365c69f8127279",
            "9fbb3e85c1104cae91380b0154e01f69",
            "6a6c9300e3b1443fa5d2dd9b85d0006a",
            "6e6d9e8851094de09e451ba963fc2e33",
            "f67f53a736a14e95991abf426ede77e8",
            "f1d0d820af6b4a95a7f67e79efb3c8ba",
            "c2df9a5a52e04375a5c039346c35b873",
            "9fdf34b253be461fb62040f0f6c80da1",
            "9521ab97b8904606b6864172d6cf9454",
            "fa6372e36cca449da3c6de3ffd766bf9",
            "2863b53934444940bb235354cfde215d",
            "7ecddd9337e6490a82801bb36aec8643",
            "db3bbf6071244434b33486e86fd542d3",
            "e7e012012d5e4d4f9e26dec4b885ac45",
            "91d4026d0cb94c94bfe4831aa90be37d",
            "231b5f501a3e4ab385c6105affe93aee",
            "d4855c7148a64199ac83b81968743723",
            "0245c1e282054760bfdee3fdfd63cc2c",
            "9be1e1168a7f4f4a895a1f05e2e44a48",
            "ea0d39fbe02c4feb98c150023cf89989",
            "0b97b00d3c634e6a8b63a03f8f00ddd2",
            "0e303cf273314960aafd945ddd795bc3",
            "d1443dceb96c44f9b62c4843a9929276",
            "583e295334de4a19983906a95eb0c8f7",
            "2963475ab99e427aa284a43fbf3907f1",
            "d37c849bc9a2448693f08c796327f6ca"
          ]
        },
        "id": "fHEiiiWasVKG",
        "outputId": "93939162-8368-4493-b5e3-39df351c0e90"
      },
      "execution_count": 51,
      "outputs": [
        {
          "output_type": "display_data",
          "data": {
            "text/plain": [
              "Tab(children=(GridspecLayout(children=(Text(value='Start chatting by typing here', description='Human:', layou…"
            ],
            "application/vnd.jupyter.widget-view+json": {
              "version_major": 2,
              "version_minor": 0,
              "model_id": "c063b7d5588a4783b39d2b508e5cea1f"
            }
          },
          "metadata": {}
        }
      ]
    }
  ]
}